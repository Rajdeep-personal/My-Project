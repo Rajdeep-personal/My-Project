{
 "cells": [
  {
   "cell_type": "markdown",
   "id": "577608d1",
   "metadata": {},
   "source": [
    "# Importing required modules"
   ]
  },
  {
   "cell_type": "code",
   "execution_count": 1,
   "id": "a72dc788",
   "metadata": {},
   "outputs": [],
   "source": [
    "import numpy as np\n",
    "import pandas as pd\n",
    "import matplotlib.pyplot as plt\n",
    "import seaborn as sns"
   ]
  },
  {
   "cell_type": "markdown",
   "id": "e75f0049",
   "metadata": {},
   "source": [
    "# Importing Data"
   ]
  },
  {
   "cell_type": "code",
   "execution_count": 2,
   "id": "ccc500b1",
   "metadata": {},
   "outputs": [],
   "source": [
    "car = pd.read_csv('Car_details_v3.csv', index_col=[0])"
   ]
  },
  {
   "cell_type": "code",
   "execution_count": 3,
   "id": "ddee212e",
   "metadata": {},
   "outputs": [
    {
     "data": {
      "text/html": [
       "<div>\n",
       "<style scoped>\n",
       "    .dataframe tbody tr th:only-of-type {\n",
       "        vertical-align: middle;\n",
       "    }\n",
       "\n",
       "    .dataframe tbody tr th {\n",
       "        vertical-align: top;\n",
       "    }\n",
       "\n",
       "    .dataframe thead th {\n",
       "        text-align: right;\n",
       "    }\n",
       "</style>\n",
       "<table border=\"1\" class=\"dataframe\">\n",
       "  <thead>\n",
       "    <tr style=\"text-align: right;\">\n",
       "      <th></th>\n",
       "      <th>year</th>\n",
       "      <th>selling_price</th>\n",
       "      <th>km_driven</th>\n",
       "      <th>fuel</th>\n",
       "      <th>seller_type</th>\n",
       "      <th>transmission</th>\n",
       "      <th>owner</th>\n",
       "      <th>mileage</th>\n",
       "      <th>engine</th>\n",
       "      <th>max_power</th>\n",
       "      <th>torque</th>\n",
       "      <th>seats</th>\n",
       "    </tr>\n",
       "    <tr>\n",
       "      <th>name</th>\n",
       "      <th></th>\n",
       "      <th></th>\n",
       "      <th></th>\n",
       "      <th></th>\n",
       "      <th></th>\n",
       "      <th></th>\n",
       "      <th></th>\n",
       "      <th></th>\n",
       "      <th></th>\n",
       "      <th></th>\n",
       "      <th></th>\n",
       "      <th></th>\n",
       "    </tr>\n",
       "  </thead>\n",
       "  <tbody>\n",
       "    <tr>\n",
       "      <th>Maruti Swift Dzire VDI</th>\n",
       "      <td>2014</td>\n",
       "      <td>450000</td>\n",
       "      <td>145500</td>\n",
       "      <td>Diesel</td>\n",
       "      <td>Individual</td>\n",
       "      <td>Manual</td>\n",
       "      <td>First Owner</td>\n",
       "      <td>23.4 kmpl</td>\n",
       "      <td>1248 CC</td>\n",
       "      <td>74 bhp</td>\n",
       "      <td>190Nm@ 2000rpm</td>\n",
       "      <td>5.0</td>\n",
       "    </tr>\n",
       "    <tr>\n",
       "      <th>Skoda Rapid 1.5 TDI Ambition</th>\n",
       "      <td>2014</td>\n",
       "      <td>370000</td>\n",
       "      <td>120000</td>\n",
       "      <td>Diesel</td>\n",
       "      <td>Individual</td>\n",
       "      <td>Manual</td>\n",
       "      <td>Second Owner</td>\n",
       "      <td>21.14 kmpl</td>\n",
       "      <td>1498 CC</td>\n",
       "      <td>103.52 bhp</td>\n",
       "      <td>250Nm@ 1500-2500rpm</td>\n",
       "      <td>5.0</td>\n",
       "    </tr>\n",
       "    <tr>\n",
       "      <th>Honda City 2017-2020 EXi</th>\n",
       "      <td>2006</td>\n",
       "      <td>158000</td>\n",
       "      <td>140000</td>\n",
       "      <td>Petrol</td>\n",
       "      <td>Individual</td>\n",
       "      <td>Manual</td>\n",
       "      <td>Third Owner</td>\n",
       "      <td>17.7 kmpl</td>\n",
       "      <td>1497 CC</td>\n",
       "      <td>78 bhp</td>\n",
       "      <td>12.7@ 2,700(kgm@ rpm)</td>\n",
       "      <td>5.0</td>\n",
       "    </tr>\n",
       "    <tr>\n",
       "      <th>Hyundai i20 Sportz Diesel</th>\n",
       "      <td>2010</td>\n",
       "      <td>225000</td>\n",
       "      <td>127000</td>\n",
       "      <td>Diesel</td>\n",
       "      <td>Individual</td>\n",
       "      <td>Manual</td>\n",
       "      <td>First Owner</td>\n",
       "      <td>23.0 kmpl</td>\n",
       "      <td>1396 CC</td>\n",
       "      <td>90 bhp</td>\n",
       "      <td>22.4 kgm at 1750-2750rpm</td>\n",
       "      <td>5.0</td>\n",
       "    </tr>\n",
       "    <tr>\n",
       "      <th>Maruti Swift VXI BSIII</th>\n",
       "      <td>2007</td>\n",
       "      <td>130000</td>\n",
       "      <td>120000</td>\n",
       "      <td>Petrol</td>\n",
       "      <td>Individual</td>\n",
       "      <td>Manual</td>\n",
       "      <td>First Owner</td>\n",
       "      <td>16.1 kmpl</td>\n",
       "      <td>1298 CC</td>\n",
       "      <td>88.2 bhp</td>\n",
       "      <td>11.5@ 4,500(kgm@ rpm)</td>\n",
       "      <td>5.0</td>\n",
       "    </tr>\n",
       "    <tr>\n",
       "      <th>...</th>\n",
       "      <td>...</td>\n",
       "      <td>...</td>\n",
       "      <td>...</td>\n",
       "      <td>...</td>\n",
       "      <td>...</td>\n",
       "      <td>...</td>\n",
       "      <td>...</td>\n",
       "      <td>...</td>\n",
       "      <td>...</td>\n",
       "      <td>...</td>\n",
       "      <td>...</td>\n",
       "      <td>...</td>\n",
       "    </tr>\n",
       "    <tr>\n",
       "      <th>Hyundai i20 Magna</th>\n",
       "      <td>2013</td>\n",
       "      <td>320000</td>\n",
       "      <td>110000</td>\n",
       "      <td>Petrol</td>\n",
       "      <td>Individual</td>\n",
       "      <td>Manual</td>\n",
       "      <td>First Owner</td>\n",
       "      <td>18.5 kmpl</td>\n",
       "      <td>1197 CC</td>\n",
       "      <td>82.85 bhp</td>\n",
       "      <td>113.7Nm@ 4000rpm</td>\n",
       "      <td>5.0</td>\n",
       "    </tr>\n",
       "    <tr>\n",
       "      <th>Hyundai Verna CRDi SX</th>\n",
       "      <td>2007</td>\n",
       "      <td>135000</td>\n",
       "      <td>119000</td>\n",
       "      <td>Diesel</td>\n",
       "      <td>Individual</td>\n",
       "      <td>Manual</td>\n",
       "      <td>Fourth &amp; Above Owner</td>\n",
       "      <td>16.8 kmpl</td>\n",
       "      <td>1493 CC</td>\n",
       "      <td>110 bhp</td>\n",
       "      <td>24@ 1,900-2,750(kgm@ rpm)</td>\n",
       "      <td>5.0</td>\n",
       "    </tr>\n",
       "    <tr>\n",
       "      <th>Maruti Swift Dzire ZDi</th>\n",
       "      <td>2009</td>\n",
       "      <td>382000</td>\n",
       "      <td>120000</td>\n",
       "      <td>Diesel</td>\n",
       "      <td>Individual</td>\n",
       "      <td>Manual</td>\n",
       "      <td>First Owner</td>\n",
       "      <td>19.3 kmpl</td>\n",
       "      <td>1248 CC</td>\n",
       "      <td>73.9 bhp</td>\n",
       "      <td>190Nm@ 2000rpm</td>\n",
       "      <td>5.0</td>\n",
       "    </tr>\n",
       "    <tr>\n",
       "      <th>Tata Indigo CR4</th>\n",
       "      <td>2013</td>\n",
       "      <td>290000</td>\n",
       "      <td>25000</td>\n",
       "      <td>Diesel</td>\n",
       "      <td>Individual</td>\n",
       "      <td>Manual</td>\n",
       "      <td>First Owner</td>\n",
       "      <td>23.57 kmpl</td>\n",
       "      <td>1396 CC</td>\n",
       "      <td>70 bhp</td>\n",
       "      <td>140Nm@ 1800-3000rpm</td>\n",
       "      <td>5.0</td>\n",
       "    </tr>\n",
       "    <tr>\n",
       "      <th>Tata Indigo CR4</th>\n",
       "      <td>2013</td>\n",
       "      <td>290000</td>\n",
       "      <td>25000</td>\n",
       "      <td>Diesel</td>\n",
       "      <td>Individual</td>\n",
       "      <td>Manual</td>\n",
       "      <td>First Owner</td>\n",
       "      <td>23.57 kmpl</td>\n",
       "      <td>1396 CC</td>\n",
       "      <td>70 bhp</td>\n",
       "      <td>140Nm@ 1800-3000rpm</td>\n",
       "      <td>5.0</td>\n",
       "    </tr>\n",
       "  </tbody>\n",
       "</table>\n",
       "<p>8128 rows × 12 columns</p>\n",
       "</div>"
      ],
      "text/plain": [
       "                              year  selling_price  km_driven    fuel  \\\n",
       "name                                                                   \n",
       "Maruti Swift Dzire VDI        2014         450000     145500  Diesel   \n",
       "Skoda Rapid 1.5 TDI Ambition  2014         370000     120000  Diesel   \n",
       "Honda City 2017-2020 EXi      2006         158000     140000  Petrol   \n",
       "Hyundai i20 Sportz Diesel     2010         225000     127000  Diesel   \n",
       "Maruti Swift VXI BSIII        2007         130000     120000  Petrol   \n",
       "...                            ...            ...        ...     ...   \n",
       "Hyundai i20 Magna             2013         320000     110000  Petrol   \n",
       "Hyundai Verna CRDi SX         2007         135000     119000  Diesel   \n",
       "Maruti Swift Dzire ZDi        2009         382000     120000  Diesel   \n",
       "Tata Indigo CR4               2013         290000      25000  Diesel   \n",
       "Tata Indigo CR4               2013         290000      25000  Diesel   \n",
       "\n",
       "                             seller_type transmission                 owner  \\\n",
       "name                                                                          \n",
       "Maruti Swift Dzire VDI        Individual       Manual           First Owner   \n",
       "Skoda Rapid 1.5 TDI Ambition  Individual       Manual          Second Owner   \n",
       "Honda City 2017-2020 EXi      Individual       Manual           Third Owner   \n",
       "Hyundai i20 Sportz Diesel     Individual       Manual           First Owner   \n",
       "Maruti Swift VXI BSIII        Individual       Manual           First Owner   \n",
       "...                                  ...          ...                   ...   \n",
       "Hyundai i20 Magna             Individual       Manual           First Owner   \n",
       "Hyundai Verna CRDi SX         Individual       Manual  Fourth & Above Owner   \n",
       "Maruti Swift Dzire ZDi        Individual       Manual           First Owner   \n",
       "Tata Indigo CR4               Individual       Manual           First Owner   \n",
       "Tata Indigo CR4               Individual       Manual           First Owner   \n",
       "\n",
       "                                 mileage   engine   max_power  \\\n",
       "name                                                            \n",
       "Maruti Swift Dzire VDI         23.4 kmpl  1248 CC      74 bhp   \n",
       "Skoda Rapid 1.5 TDI Ambition  21.14 kmpl  1498 CC  103.52 bhp   \n",
       "Honda City 2017-2020 EXi       17.7 kmpl  1497 CC      78 bhp   \n",
       "Hyundai i20 Sportz Diesel      23.0 kmpl  1396 CC      90 bhp   \n",
       "Maruti Swift VXI BSIII         16.1 kmpl  1298 CC    88.2 bhp   \n",
       "...                                  ...      ...         ...   \n",
       "Hyundai i20 Magna              18.5 kmpl  1197 CC   82.85 bhp   \n",
       "Hyundai Verna CRDi SX          16.8 kmpl  1493 CC     110 bhp   \n",
       "Maruti Swift Dzire ZDi         19.3 kmpl  1248 CC    73.9 bhp   \n",
       "Tata Indigo CR4               23.57 kmpl  1396 CC      70 bhp   \n",
       "Tata Indigo CR4               23.57 kmpl  1396 CC      70 bhp   \n",
       "\n",
       "                                                 torque  seats  \n",
       "name                                                            \n",
       "Maruti Swift Dzire VDI                   190Nm@ 2000rpm    5.0  \n",
       "Skoda Rapid 1.5 TDI Ambition        250Nm@ 1500-2500rpm    5.0  \n",
       "Honda City 2017-2020 EXi          12.7@ 2,700(kgm@ rpm)    5.0  \n",
       "Hyundai i20 Sportz Diesel      22.4 kgm at 1750-2750rpm    5.0  \n",
       "Maruti Swift VXI BSIII            11.5@ 4,500(kgm@ rpm)    5.0  \n",
       "...                                                 ...    ...  \n",
       "Hyundai i20 Magna                      113.7Nm@ 4000rpm    5.0  \n",
       "Hyundai Verna CRDi SX         24@ 1,900-2,750(kgm@ rpm)    5.0  \n",
       "Maruti Swift Dzire ZDi                   190Nm@ 2000rpm    5.0  \n",
       "Tata Indigo CR4                     140Nm@ 1800-3000rpm    5.0  \n",
       "Tata Indigo CR4                     140Nm@ 1800-3000rpm    5.0  \n",
       "\n",
       "[8128 rows x 12 columns]"
      ]
     },
     "execution_count": 3,
     "metadata": {},
     "output_type": "execute_result"
    }
   ],
   "source": [
    "car"
   ]
  },
  {
   "cell_type": "code",
   "execution_count": 4,
   "id": "b3494785",
   "metadata": {},
   "outputs": [
    {
     "data": {
      "text/plain": [
       "(8128, 12)"
      ]
     },
     "execution_count": 4,
     "metadata": {},
     "output_type": "execute_result"
    }
   ],
   "source": [
    "car.shape"
   ]
  },
  {
   "cell_type": "markdown",
   "id": "ab9a4f39",
   "metadata": {},
   "source": [
    "# Checking informations"
   ]
  },
  {
   "cell_type": "code",
   "execution_count": 5,
   "id": "ac4da969",
   "metadata": {},
   "outputs": [
    {
     "name": "stdout",
     "output_type": "stream",
     "text": [
      "<class 'pandas.core.frame.DataFrame'>\n",
      "Index: 8128 entries, Maruti Swift Dzire VDI to Tata Indigo CR4\n",
      "Data columns (total 12 columns):\n",
      " #   Column         Non-Null Count  Dtype  \n",
      "---  ------         --------------  -----  \n",
      " 0   year           8128 non-null   int64  \n",
      " 1   selling_price  8128 non-null   int64  \n",
      " 2   km_driven      8128 non-null   int64  \n",
      " 3   fuel           8128 non-null   object \n",
      " 4   seller_type    8128 non-null   object \n",
      " 5   transmission   8128 non-null   object \n",
      " 6   owner          8128 non-null   object \n",
      " 7   mileage        7907 non-null   object \n",
      " 8   engine         7907 non-null   object \n",
      " 9   max_power      7913 non-null   object \n",
      " 10  torque         7906 non-null   object \n",
      " 11  seats          7907 non-null   float64\n",
      "dtypes: float64(1), int64(3), object(8)\n",
      "memory usage: 825.5+ KB\n"
     ]
    }
   ],
   "source": [
    "car.info()"
   ]
  },
  {
   "cell_type": "markdown",
   "id": "abd6cfe1",
   "metadata": {},
   "source": [
    "## There are null values in the attribute 'mileage', 'engine', 'max power', 'torque' , 'seats'"
   ]
  },
  {
   "cell_type": "code",
   "execution_count": 6,
   "id": "e280d0b7",
   "metadata": {},
   "outputs": [
    {
     "data": {
      "text/plain": [
       "year             False\n",
       "selling_price    False\n",
       "km_driven        False\n",
       "fuel             False\n",
       "seller_type      False\n",
       "transmission     False\n",
       "owner            False\n",
       "mileage           True\n",
       "engine            True\n",
       "max_power         True\n",
       "torque            True\n",
       "seats             True\n",
       "dtype: bool"
      ]
     },
     "execution_count": 6,
     "metadata": {},
     "output_type": "execute_result"
    }
   ],
   "source": [
    "car.isnull().any()"
   ]
  },
  {
   "cell_type": "code",
   "execution_count": 7,
   "id": "94e2c516",
   "metadata": {},
   "outputs": [
    {
     "data": {
      "text/plain": [
       "year               0\n",
       "selling_price      0\n",
       "km_driven          0\n",
       "fuel               0\n",
       "seller_type        0\n",
       "transmission       0\n",
       "owner              0\n",
       "mileage          221\n",
       "engine           221\n",
       "max_power        215\n",
       "torque           222\n",
       "seats            221\n",
       "dtype: int64"
      ]
     },
     "execution_count": 7,
     "metadata": {},
     "output_type": "execute_result"
    }
   ],
   "source": [
    "car.isnull().sum()"
   ]
  },
  {
   "cell_type": "markdown",
   "id": "eb6e9e1b",
   "metadata": {},
   "source": [
    "## percentage of missing values w.r.t the dataframe car_details"
   ]
  },
  {
   "cell_type": "code",
   "execution_count": 8,
   "id": "51105bd1",
   "metadata": {},
   "outputs": [
    {
     "data": {
      "text/plain": [
       "year             0.000000\n",
       "selling_price    0.000000\n",
       "km_driven        0.000000\n",
       "fuel             0.000000\n",
       "seller_type      0.000000\n",
       "transmission     0.000000\n",
       "owner            0.000000\n",
       "mileage          2.718996\n",
       "engine           2.718996\n",
       "max_power        2.645177\n",
       "torque           2.731299\n",
       "seats            2.718996\n",
       "dtype: float64"
      ]
     },
     "execution_count": 8,
     "metadata": {},
     "output_type": "execute_result"
    }
   ],
   "source": [
    "car.isnull().sum()/len(car) *100"
   ]
  },
  {
   "cell_type": "markdown",
   "id": "197f4df0",
   "metadata": {},
   "source": [
    "### Insight from the missing values of the attributes:\n",
    "#### 1) The percentage of missing values of the attributes is maximum 2-3%(approx) of the whole dataframe. So we can drop those instances for handling these missing values\n",
    "#### 2) We can also apply other null imputation methods to fill up the null spaces of the respective attributes. \n",
    "#### For this dataframe we are choosing the first method i.e. dropping the instances."
   ]
  },
  {
   "cell_type": "markdown",
   "id": "31a2b5e6",
   "metadata": {},
   "source": [
    "# Making a copy of the main dataset for processing and other analysis"
   ]
  },
  {
   "cell_type": "code",
   "execution_count": 9,
   "id": "6c1803d8",
   "metadata": {},
   "outputs": [],
   "source": [
    "car_details = car.copy()"
   ]
  },
  {
   "cell_type": "code",
   "execution_count": 10,
   "id": "84955285",
   "metadata": {
    "scrolled": false
   },
   "outputs": [
    {
     "data": {
      "text/html": [
       "<div>\n",
       "<style scoped>\n",
       "    .dataframe tbody tr th:only-of-type {\n",
       "        vertical-align: middle;\n",
       "    }\n",
       "\n",
       "    .dataframe tbody tr th {\n",
       "        vertical-align: top;\n",
       "    }\n",
       "\n",
       "    .dataframe thead th {\n",
       "        text-align: right;\n",
       "    }\n",
       "</style>\n",
       "<table border=\"1\" class=\"dataframe\">\n",
       "  <thead>\n",
       "    <tr style=\"text-align: right;\">\n",
       "      <th></th>\n",
       "      <th>year</th>\n",
       "      <th>selling_price</th>\n",
       "      <th>km_driven</th>\n",
       "      <th>fuel</th>\n",
       "      <th>seller_type</th>\n",
       "      <th>transmission</th>\n",
       "      <th>owner</th>\n",
       "      <th>mileage</th>\n",
       "      <th>engine</th>\n",
       "      <th>max_power</th>\n",
       "      <th>torque</th>\n",
       "      <th>seats</th>\n",
       "    </tr>\n",
       "    <tr>\n",
       "      <th>name</th>\n",
       "      <th></th>\n",
       "      <th></th>\n",
       "      <th></th>\n",
       "      <th></th>\n",
       "      <th></th>\n",
       "      <th></th>\n",
       "      <th></th>\n",
       "      <th></th>\n",
       "      <th></th>\n",
       "      <th></th>\n",
       "      <th></th>\n",
       "      <th></th>\n",
       "    </tr>\n",
       "  </thead>\n",
       "  <tbody>\n",
       "    <tr>\n",
       "      <th>Maruti Swift Dzire VDI</th>\n",
       "      <td>2014</td>\n",
       "      <td>450000</td>\n",
       "      <td>145500</td>\n",
       "      <td>Diesel</td>\n",
       "      <td>Individual</td>\n",
       "      <td>Manual</td>\n",
       "      <td>First Owner</td>\n",
       "      <td>23.4 kmpl</td>\n",
       "      <td>1248 CC</td>\n",
       "      <td>74 bhp</td>\n",
       "      <td>190Nm@ 2000rpm</td>\n",
       "      <td>5.0</td>\n",
       "    </tr>\n",
       "    <tr>\n",
       "      <th>Skoda Rapid 1.5 TDI Ambition</th>\n",
       "      <td>2014</td>\n",
       "      <td>370000</td>\n",
       "      <td>120000</td>\n",
       "      <td>Diesel</td>\n",
       "      <td>Individual</td>\n",
       "      <td>Manual</td>\n",
       "      <td>Second Owner</td>\n",
       "      <td>21.14 kmpl</td>\n",
       "      <td>1498 CC</td>\n",
       "      <td>103.52 bhp</td>\n",
       "      <td>250Nm@ 1500-2500rpm</td>\n",
       "      <td>5.0</td>\n",
       "    </tr>\n",
       "    <tr>\n",
       "      <th>Honda City 2017-2020 EXi</th>\n",
       "      <td>2006</td>\n",
       "      <td>158000</td>\n",
       "      <td>140000</td>\n",
       "      <td>Petrol</td>\n",
       "      <td>Individual</td>\n",
       "      <td>Manual</td>\n",
       "      <td>Third Owner</td>\n",
       "      <td>17.7 kmpl</td>\n",
       "      <td>1497 CC</td>\n",
       "      <td>78 bhp</td>\n",
       "      <td>12.7@ 2,700(kgm@ rpm)</td>\n",
       "      <td>5.0</td>\n",
       "    </tr>\n",
       "    <tr>\n",
       "      <th>Hyundai i20 Sportz Diesel</th>\n",
       "      <td>2010</td>\n",
       "      <td>225000</td>\n",
       "      <td>127000</td>\n",
       "      <td>Diesel</td>\n",
       "      <td>Individual</td>\n",
       "      <td>Manual</td>\n",
       "      <td>First Owner</td>\n",
       "      <td>23.0 kmpl</td>\n",
       "      <td>1396 CC</td>\n",
       "      <td>90 bhp</td>\n",
       "      <td>22.4 kgm at 1750-2750rpm</td>\n",
       "      <td>5.0</td>\n",
       "    </tr>\n",
       "    <tr>\n",
       "      <th>Maruti Swift VXI BSIII</th>\n",
       "      <td>2007</td>\n",
       "      <td>130000</td>\n",
       "      <td>120000</td>\n",
       "      <td>Petrol</td>\n",
       "      <td>Individual</td>\n",
       "      <td>Manual</td>\n",
       "      <td>First Owner</td>\n",
       "      <td>16.1 kmpl</td>\n",
       "      <td>1298 CC</td>\n",
       "      <td>88.2 bhp</td>\n",
       "      <td>11.5@ 4,500(kgm@ rpm)</td>\n",
       "      <td>5.0</td>\n",
       "    </tr>\n",
       "    <tr>\n",
       "      <th>Hyundai Xcent 1.2 VTVT E Plus</th>\n",
       "      <td>2017</td>\n",
       "      <td>440000</td>\n",
       "      <td>45000</td>\n",
       "      <td>Petrol</td>\n",
       "      <td>Individual</td>\n",
       "      <td>Manual</td>\n",
       "      <td>First Owner</td>\n",
       "      <td>20.14 kmpl</td>\n",
       "      <td>1197 CC</td>\n",
       "      <td>81.86 bhp</td>\n",
       "      <td>113.75nm@ 4000rpm</td>\n",
       "      <td>5.0</td>\n",
       "    </tr>\n",
       "    <tr>\n",
       "      <th>Maruti Wagon R LXI DUO BSIII</th>\n",
       "      <td>2007</td>\n",
       "      <td>96000</td>\n",
       "      <td>175000</td>\n",
       "      <td>LPG</td>\n",
       "      <td>Individual</td>\n",
       "      <td>Manual</td>\n",
       "      <td>First Owner</td>\n",
       "      <td>17.3 km/kg</td>\n",
       "      <td>1061 CC</td>\n",
       "      <td>57.5 bhp</td>\n",
       "      <td>7.8@ 4,500(kgm@ rpm)</td>\n",
       "      <td>5.0</td>\n",
       "    </tr>\n",
       "    <tr>\n",
       "      <th>Maruti 800 DX BSII</th>\n",
       "      <td>2001</td>\n",
       "      <td>45000</td>\n",
       "      <td>5000</td>\n",
       "      <td>Petrol</td>\n",
       "      <td>Individual</td>\n",
       "      <td>Manual</td>\n",
       "      <td>Second Owner</td>\n",
       "      <td>16.1 kmpl</td>\n",
       "      <td>796 CC</td>\n",
       "      <td>37 bhp</td>\n",
       "      <td>59Nm@ 2500rpm</td>\n",
       "      <td>4.0</td>\n",
       "    </tr>\n",
       "    <tr>\n",
       "      <th>Toyota Etios VXD</th>\n",
       "      <td>2011</td>\n",
       "      <td>350000</td>\n",
       "      <td>90000</td>\n",
       "      <td>Diesel</td>\n",
       "      <td>Individual</td>\n",
       "      <td>Manual</td>\n",
       "      <td>First Owner</td>\n",
       "      <td>23.59 kmpl</td>\n",
       "      <td>1364 CC</td>\n",
       "      <td>67.1 bhp</td>\n",
       "      <td>170Nm@ 1800-2400rpm</td>\n",
       "      <td>5.0</td>\n",
       "    </tr>\n",
       "    <tr>\n",
       "      <th>Ford Figo Diesel Celebration Edition</th>\n",
       "      <td>2013</td>\n",
       "      <td>200000</td>\n",
       "      <td>169000</td>\n",
       "      <td>Diesel</td>\n",
       "      <td>Individual</td>\n",
       "      <td>Manual</td>\n",
       "      <td>First Owner</td>\n",
       "      <td>20.0 kmpl</td>\n",
       "      <td>1399 CC</td>\n",
       "      <td>68.1 bhp</td>\n",
       "      <td>160Nm@ 2000rpm</td>\n",
       "      <td>5.0</td>\n",
       "    </tr>\n",
       "    <tr>\n",
       "      <th>Renault Duster 110PS Diesel RxL</th>\n",
       "      <td>2014</td>\n",
       "      <td>500000</td>\n",
       "      <td>68000</td>\n",
       "      <td>Diesel</td>\n",
       "      <td>Individual</td>\n",
       "      <td>Manual</td>\n",
       "      <td>Second Owner</td>\n",
       "      <td>19.01 kmpl</td>\n",
       "      <td>1461 CC</td>\n",
       "      <td>108.45 bhp</td>\n",
       "      <td>248Nm@ 2250rpm</td>\n",
       "      <td>5.0</td>\n",
       "    </tr>\n",
       "    <tr>\n",
       "      <th>Maruti Zen LX</th>\n",
       "      <td>2005</td>\n",
       "      <td>92000</td>\n",
       "      <td>100000</td>\n",
       "      <td>Petrol</td>\n",
       "      <td>Individual</td>\n",
       "      <td>Manual</td>\n",
       "      <td>Second Owner</td>\n",
       "      <td>17.3 kmpl</td>\n",
       "      <td>993 CC</td>\n",
       "      <td>60 bhp</td>\n",
       "      <td>78Nm@ 4500rpm</td>\n",
       "      <td>5.0</td>\n",
       "    </tr>\n",
       "    <tr>\n",
       "      <th>Maruti Swift Dzire VDi</th>\n",
       "      <td>2009</td>\n",
       "      <td>280000</td>\n",
       "      <td>140000</td>\n",
       "      <td>Diesel</td>\n",
       "      <td>Individual</td>\n",
       "      <td>Manual</td>\n",
       "      <td>Second Owner</td>\n",
       "      <td>19.3 kmpl</td>\n",
       "      <td>1248 CC</td>\n",
       "      <td>73.9 bhp</td>\n",
       "      <td>190Nm@ 2000rpm</td>\n",
       "      <td>5.0</td>\n",
       "    </tr>\n",
       "    <tr>\n",
       "      <th>Maruti Swift 1.3 VXi</th>\n",
       "      <td>2007</td>\n",
       "      <td>200000</td>\n",
       "      <td>80000</td>\n",
       "      <td>Petrol</td>\n",
       "      <td>Individual</td>\n",
       "      <td>Manual</td>\n",
       "      <td>Second Owner</td>\n",
       "      <td>NaN</td>\n",
       "      <td>NaN</td>\n",
       "      <td>NaN</td>\n",
       "      <td>NaN</td>\n",
       "      <td>NaN</td>\n",
       "    </tr>\n",
       "    <tr>\n",
       "      <th>Maruti Wagon R LXI Minor</th>\n",
       "      <td>2009</td>\n",
       "      <td>180000</td>\n",
       "      <td>90000</td>\n",
       "      <td>Petrol</td>\n",
       "      <td>Individual</td>\n",
       "      <td>Manual</td>\n",
       "      <td>Second Owner</td>\n",
       "      <td>18.9 kmpl</td>\n",
       "      <td>1061 CC</td>\n",
       "      <td>67 bhp</td>\n",
       "      <td>84Nm@ 3500rpm</td>\n",
       "      <td>5.0</td>\n",
       "    </tr>\n",
       "  </tbody>\n",
       "</table>\n",
       "</div>"
      ],
      "text/plain": [
       "                                      year  selling_price  km_driven    fuel  \\\n",
       "name                                                                           \n",
       "Maruti Swift Dzire VDI                2014         450000     145500  Diesel   \n",
       "Skoda Rapid 1.5 TDI Ambition          2014         370000     120000  Diesel   \n",
       "Honda City 2017-2020 EXi              2006         158000     140000  Petrol   \n",
       "Hyundai i20 Sportz Diesel             2010         225000     127000  Diesel   \n",
       "Maruti Swift VXI BSIII                2007         130000     120000  Petrol   \n",
       "Hyundai Xcent 1.2 VTVT E Plus         2017         440000      45000  Petrol   \n",
       "Maruti Wagon R LXI DUO BSIII          2007          96000     175000     LPG   \n",
       "Maruti 800 DX BSII                    2001          45000       5000  Petrol   \n",
       "Toyota Etios VXD                      2011         350000      90000  Diesel   \n",
       "Ford Figo Diesel Celebration Edition  2013         200000     169000  Diesel   \n",
       "Renault Duster 110PS Diesel RxL       2014         500000      68000  Diesel   \n",
       "Maruti Zen LX                         2005          92000     100000  Petrol   \n",
       "Maruti Swift Dzire VDi                2009         280000     140000  Diesel   \n",
       "Maruti Swift 1.3 VXi                  2007         200000      80000  Petrol   \n",
       "Maruti Wagon R LXI Minor              2009         180000      90000  Petrol   \n",
       "\n",
       "                                     seller_type transmission         owner  \\\n",
       "name                                                                          \n",
       "Maruti Swift Dzire VDI                Individual       Manual   First Owner   \n",
       "Skoda Rapid 1.5 TDI Ambition          Individual       Manual  Second Owner   \n",
       "Honda City 2017-2020 EXi              Individual       Manual   Third Owner   \n",
       "Hyundai i20 Sportz Diesel             Individual       Manual   First Owner   \n",
       "Maruti Swift VXI BSIII                Individual       Manual   First Owner   \n",
       "Hyundai Xcent 1.2 VTVT E Plus         Individual       Manual   First Owner   \n",
       "Maruti Wagon R LXI DUO BSIII          Individual       Manual   First Owner   \n",
       "Maruti 800 DX BSII                    Individual       Manual  Second Owner   \n",
       "Toyota Etios VXD                      Individual       Manual   First Owner   \n",
       "Ford Figo Diesel Celebration Edition  Individual       Manual   First Owner   \n",
       "Renault Duster 110PS Diesel RxL       Individual       Manual  Second Owner   \n",
       "Maruti Zen LX                         Individual       Manual  Second Owner   \n",
       "Maruti Swift Dzire VDi                Individual       Manual  Second Owner   \n",
       "Maruti Swift 1.3 VXi                  Individual       Manual  Second Owner   \n",
       "Maruti Wagon R LXI Minor              Individual       Manual  Second Owner   \n",
       "\n",
       "                                         mileage   engine   max_power  \\\n",
       "name                                                                    \n",
       "Maruti Swift Dzire VDI                 23.4 kmpl  1248 CC      74 bhp   \n",
       "Skoda Rapid 1.5 TDI Ambition          21.14 kmpl  1498 CC  103.52 bhp   \n",
       "Honda City 2017-2020 EXi               17.7 kmpl  1497 CC      78 bhp   \n",
       "Hyundai i20 Sportz Diesel              23.0 kmpl  1396 CC      90 bhp   \n",
       "Maruti Swift VXI BSIII                 16.1 kmpl  1298 CC    88.2 bhp   \n",
       "Hyundai Xcent 1.2 VTVT E Plus         20.14 kmpl  1197 CC   81.86 bhp   \n",
       "Maruti Wagon R LXI DUO BSIII          17.3 km/kg  1061 CC    57.5 bhp   \n",
       "Maruti 800 DX BSII                     16.1 kmpl   796 CC      37 bhp   \n",
       "Toyota Etios VXD                      23.59 kmpl  1364 CC    67.1 bhp   \n",
       "Ford Figo Diesel Celebration Edition   20.0 kmpl  1399 CC    68.1 bhp   \n",
       "Renault Duster 110PS Diesel RxL       19.01 kmpl  1461 CC  108.45 bhp   \n",
       "Maruti Zen LX                          17.3 kmpl   993 CC      60 bhp   \n",
       "Maruti Swift Dzire VDi                 19.3 kmpl  1248 CC    73.9 bhp   \n",
       "Maruti Swift 1.3 VXi                         NaN      NaN         NaN   \n",
       "Maruti Wagon R LXI Minor               18.9 kmpl  1061 CC      67 bhp   \n",
       "\n",
       "                                                        torque  seats  \n",
       "name                                                                   \n",
       "Maruti Swift Dzire VDI                          190Nm@ 2000rpm    5.0  \n",
       "Skoda Rapid 1.5 TDI Ambition               250Nm@ 1500-2500rpm    5.0  \n",
       "Honda City 2017-2020 EXi                 12.7@ 2,700(kgm@ rpm)    5.0  \n",
       "Hyundai i20 Sportz Diesel             22.4 kgm at 1750-2750rpm    5.0  \n",
       "Maruti Swift VXI BSIII                   11.5@ 4,500(kgm@ rpm)    5.0  \n",
       "Hyundai Xcent 1.2 VTVT E Plus                113.75nm@ 4000rpm    5.0  \n",
       "Maruti Wagon R LXI DUO BSIII              7.8@ 4,500(kgm@ rpm)    5.0  \n",
       "Maruti 800 DX BSII                               59Nm@ 2500rpm    4.0  \n",
       "Toyota Etios VXD                           170Nm@ 1800-2400rpm    5.0  \n",
       "Ford Figo Diesel Celebration Edition            160Nm@ 2000rpm    5.0  \n",
       "Renault Duster 110PS Diesel RxL                 248Nm@ 2250rpm    5.0  \n",
       "Maruti Zen LX                                    78Nm@ 4500rpm    5.0  \n",
       "Maruti Swift Dzire VDi                          190Nm@ 2000rpm    5.0  \n",
       "Maruti Swift 1.3 VXi                                       NaN    NaN  \n",
       "Maruti Wagon R LXI Minor                         84Nm@ 3500rpm    5.0  "
      ]
     },
     "execution_count": 10,
     "metadata": {},
     "output_type": "execute_result"
    }
   ],
   "source": [
    "car_details.head(15)"
   ]
  },
  {
   "cell_type": "markdown",
   "id": "d5abbe37",
   "metadata": {},
   "source": [
    "## Checking the correlation before cleaning the data"
   ]
  },
  {
   "cell_type": "code",
   "execution_count": 11,
   "id": "e1411110",
   "metadata": {},
   "outputs": [
    {
     "data": {
      "text/html": [
       "<div>\n",
       "<style scoped>\n",
       "    .dataframe tbody tr th:only-of-type {\n",
       "        vertical-align: middle;\n",
       "    }\n",
       "\n",
       "    .dataframe tbody tr th {\n",
       "        vertical-align: top;\n",
       "    }\n",
       "\n",
       "    .dataframe thead th {\n",
       "        text-align: right;\n",
       "    }\n",
       "</style>\n",
       "<table border=\"1\" class=\"dataframe\">\n",
       "  <thead>\n",
       "    <tr style=\"text-align: right;\">\n",
       "      <th></th>\n",
       "      <th>year</th>\n",
       "      <th>selling_price</th>\n",
       "      <th>km_driven</th>\n",
       "      <th>seats</th>\n",
       "    </tr>\n",
       "  </thead>\n",
       "  <tbody>\n",
       "    <tr>\n",
       "      <th>year</th>\n",
       "      <td>1.000000</td>\n",
       "      <td>0.414092</td>\n",
       "      <td>-0.418006</td>\n",
       "      <td>-0.009144</td>\n",
       "    </tr>\n",
       "    <tr>\n",
       "      <th>selling_price</th>\n",
       "      <td>0.414092</td>\n",
       "      <td>1.000000</td>\n",
       "      <td>-0.225534</td>\n",
       "      <td>0.041358</td>\n",
       "    </tr>\n",
       "    <tr>\n",
       "      <th>km_driven</th>\n",
       "      <td>-0.418006</td>\n",
       "      <td>-0.225534</td>\n",
       "      <td>1.000000</td>\n",
       "      <td>0.227336</td>\n",
       "    </tr>\n",
       "    <tr>\n",
       "      <th>seats</th>\n",
       "      <td>-0.009144</td>\n",
       "      <td>0.041358</td>\n",
       "      <td>0.227336</td>\n",
       "      <td>1.000000</td>\n",
       "    </tr>\n",
       "  </tbody>\n",
       "</table>\n",
       "</div>"
      ],
      "text/plain": [
       "                   year  selling_price  km_driven     seats\n",
       "year           1.000000       0.414092  -0.418006 -0.009144\n",
       "selling_price  0.414092       1.000000  -0.225534  0.041358\n",
       "km_driven     -0.418006      -0.225534   1.000000  0.227336\n",
       "seats         -0.009144       0.041358   0.227336  1.000000"
      ]
     },
     "execution_count": 11,
     "metadata": {},
     "output_type": "execute_result"
    }
   ],
   "source": [
    "car_details.corr()"
   ]
  },
  {
   "cell_type": "markdown",
   "id": "d87e3cb6",
   "metadata": {},
   "source": [
    "## Here we are getting highest correlation coefficient between 'year' and 'seling_price' which is 0.414092 . But the other attributes like: 'mileage', 'engine', 'max_power' and 'torque' seem to be numeric and may have some correlation with the selling price."
   ]
  },
  {
   "cell_type": "markdown",
   "id": "458d9bba",
   "metadata": {},
   "source": [
    "## we have to convert 'mileage', 'engine', 'max_power', 'torque' to numerical attributes. We need to treat with the 'torque' attribute separately"
   ]
  },
  {
   "cell_type": "code",
   "execution_count": 12,
   "id": "44e07aca",
   "metadata": {},
   "outputs": [],
   "source": [
    "attr = ['mileage', 'engine', 'max_power']\n",
    "for i in attr:\n",
    "    car_details[i] = car_details[i].apply(lambda x : (str(x).split(\" \")[0]))"
   ]
  },
  {
   "cell_type": "code",
   "execution_count": 13,
   "id": "4cc54b37",
   "metadata": {},
   "outputs": [],
   "source": [
    "#car_details['mileage'] = car_details['mileage'].apply(lambda x : str(x).split(\" \")[0])"
   ]
  },
  {
   "cell_type": "code",
   "execution_count": 14,
   "id": "72c052eb",
   "metadata": {},
   "outputs": [
    {
     "data": {
      "text/html": [
       "<div>\n",
       "<style scoped>\n",
       "    .dataframe tbody tr th:only-of-type {\n",
       "        vertical-align: middle;\n",
       "    }\n",
       "\n",
       "    .dataframe tbody tr th {\n",
       "        vertical-align: top;\n",
       "    }\n",
       "\n",
       "    .dataframe thead th {\n",
       "        text-align: right;\n",
       "    }\n",
       "</style>\n",
       "<table border=\"1\" class=\"dataframe\">\n",
       "  <thead>\n",
       "    <tr style=\"text-align: right;\">\n",
       "      <th></th>\n",
       "      <th>mileage</th>\n",
       "      <th>engine</th>\n",
       "      <th>max_power</th>\n",
       "    </tr>\n",
       "    <tr>\n",
       "      <th>name</th>\n",
       "      <th></th>\n",
       "      <th></th>\n",
       "      <th></th>\n",
       "    </tr>\n",
       "  </thead>\n",
       "  <tbody>\n",
       "    <tr>\n",
       "      <th>Maruti Swift Dzire VDI</th>\n",
       "      <td>23.4</td>\n",
       "      <td>1248</td>\n",
       "      <td>74</td>\n",
       "    </tr>\n",
       "    <tr>\n",
       "      <th>Skoda Rapid 1.5 TDI Ambition</th>\n",
       "      <td>21.14</td>\n",
       "      <td>1498</td>\n",
       "      <td>103.52</td>\n",
       "    </tr>\n",
       "    <tr>\n",
       "      <th>Honda City 2017-2020 EXi</th>\n",
       "      <td>17.7</td>\n",
       "      <td>1497</td>\n",
       "      <td>78</td>\n",
       "    </tr>\n",
       "    <tr>\n",
       "      <th>Hyundai i20 Sportz Diesel</th>\n",
       "      <td>23.0</td>\n",
       "      <td>1396</td>\n",
       "      <td>90</td>\n",
       "    </tr>\n",
       "    <tr>\n",
       "      <th>Maruti Swift VXI BSIII</th>\n",
       "      <td>16.1</td>\n",
       "      <td>1298</td>\n",
       "      <td>88.2</td>\n",
       "    </tr>\n",
       "    <tr>\n",
       "      <th>...</th>\n",
       "      <td>...</td>\n",
       "      <td>...</td>\n",
       "      <td>...</td>\n",
       "    </tr>\n",
       "    <tr>\n",
       "      <th>Hyundai i20 Magna</th>\n",
       "      <td>18.5</td>\n",
       "      <td>1197</td>\n",
       "      <td>82.85</td>\n",
       "    </tr>\n",
       "    <tr>\n",
       "      <th>Hyundai Verna CRDi SX</th>\n",
       "      <td>16.8</td>\n",
       "      <td>1493</td>\n",
       "      <td>110</td>\n",
       "    </tr>\n",
       "    <tr>\n",
       "      <th>Maruti Swift Dzire ZDi</th>\n",
       "      <td>19.3</td>\n",
       "      <td>1248</td>\n",
       "      <td>73.9</td>\n",
       "    </tr>\n",
       "    <tr>\n",
       "      <th>Tata Indigo CR4</th>\n",
       "      <td>23.57</td>\n",
       "      <td>1396</td>\n",
       "      <td>70</td>\n",
       "    </tr>\n",
       "    <tr>\n",
       "      <th>Tata Indigo CR4</th>\n",
       "      <td>23.57</td>\n",
       "      <td>1396</td>\n",
       "      <td>70</td>\n",
       "    </tr>\n",
       "  </tbody>\n",
       "</table>\n",
       "<p>8128 rows × 3 columns</p>\n",
       "</div>"
      ],
      "text/plain": [
       "                             mileage engine max_power\n",
       "name                                                 \n",
       "Maruti Swift Dzire VDI          23.4   1248        74\n",
       "Skoda Rapid 1.5 TDI Ambition   21.14   1498    103.52\n",
       "Honda City 2017-2020 EXi        17.7   1497        78\n",
       "Hyundai i20 Sportz Diesel       23.0   1396        90\n",
       "Maruti Swift VXI BSIII          16.1   1298      88.2\n",
       "...                              ...    ...       ...\n",
       "Hyundai i20 Magna               18.5   1197     82.85\n",
       "Hyundai Verna CRDi SX           16.8   1493       110\n",
       "Maruti Swift Dzire ZDi          19.3   1248      73.9\n",
       "Tata Indigo CR4                23.57   1396        70\n",
       "Tata Indigo CR4                23.57   1396        70\n",
       "\n",
       "[8128 rows x 3 columns]"
      ]
     },
     "execution_count": 14,
     "metadata": {},
     "output_type": "execute_result"
    }
   ],
   "source": [
    "car_details[['mileage','engine','max_power']]"
   ]
  },
  {
   "cell_type": "code",
   "execution_count": 15,
   "id": "04ef6407",
   "metadata": {
    "scrolled": false
   },
   "outputs": [
    {
     "data": {
      "text/html": [
       "<div>\n",
       "<style scoped>\n",
       "    .dataframe tbody tr th:only-of-type {\n",
       "        vertical-align: middle;\n",
       "    }\n",
       "\n",
       "    .dataframe tbody tr th {\n",
       "        vertical-align: top;\n",
       "    }\n",
       "\n",
       "    .dataframe thead th {\n",
       "        text-align: right;\n",
       "    }\n",
       "</style>\n",
       "<table border=\"1\" class=\"dataframe\">\n",
       "  <thead>\n",
       "    <tr style=\"text-align: right;\">\n",
       "      <th></th>\n",
       "      <th>year</th>\n",
       "      <th>selling_price</th>\n",
       "      <th>km_driven</th>\n",
       "      <th>fuel</th>\n",
       "      <th>seller_type</th>\n",
       "      <th>transmission</th>\n",
       "      <th>owner</th>\n",
       "      <th>mileage</th>\n",
       "      <th>engine</th>\n",
       "      <th>max_power</th>\n",
       "      <th>torque</th>\n",
       "      <th>seats</th>\n",
       "    </tr>\n",
       "    <tr>\n",
       "      <th>name</th>\n",
       "      <th></th>\n",
       "      <th></th>\n",
       "      <th></th>\n",
       "      <th></th>\n",
       "      <th></th>\n",
       "      <th></th>\n",
       "      <th></th>\n",
       "      <th></th>\n",
       "      <th></th>\n",
       "      <th></th>\n",
       "      <th></th>\n",
       "      <th></th>\n",
       "    </tr>\n",
       "  </thead>\n",
       "  <tbody>\n",
       "    <tr>\n",
       "      <th>Maruti Swift Dzire VDI</th>\n",
       "      <td>2014</td>\n",
       "      <td>450000</td>\n",
       "      <td>145500</td>\n",
       "      <td>Diesel</td>\n",
       "      <td>Individual</td>\n",
       "      <td>Manual</td>\n",
       "      <td>First Owner</td>\n",
       "      <td>23.4</td>\n",
       "      <td>1248</td>\n",
       "      <td>74</td>\n",
       "      <td>190Nm@ 2000rpm</td>\n",
       "      <td>5.0</td>\n",
       "    </tr>\n",
       "    <tr>\n",
       "      <th>Skoda Rapid 1.5 TDI Ambition</th>\n",
       "      <td>2014</td>\n",
       "      <td>370000</td>\n",
       "      <td>120000</td>\n",
       "      <td>Diesel</td>\n",
       "      <td>Individual</td>\n",
       "      <td>Manual</td>\n",
       "      <td>Second Owner</td>\n",
       "      <td>21.14</td>\n",
       "      <td>1498</td>\n",
       "      <td>103.52</td>\n",
       "      <td>250Nm@ 1500-2500rpm</td>\n",
       "      <td>5.0</td>\n",
       "    </tr>\n",
       "    <tr>\n",
       "      <th>Honda City 2017-2020 EXi</th>\n",
       "      <td>2006</td>\n",
       "      <td>158000</td>\n",
       "      <td>140000</td>\n",
       "      <td>Petrol</td>\n",
       "      <td>Individual</td>\n",
       "      <td>Manual</td>\n",
       "      <td>Third Owner</td>\n",
       "      <td>17.7</td>\n",
       "      <td>1497</td>\n",
       "      <td>78</td>\n",
       "      <td>12.7@ 2,700(kgm@ rpm)</td>\n",
       "      <td>5.0</td>\n",
       "    </tr>\n",
       "    <tr>\n",
       "      <th>Hyundai i20 Sportz Diesel</th>\n",
       "      <td>2010</td>\n",
       "      <td>225000</td>\n",
       "      <td>127000</td>\n",
       "      <td>Diesel</td>\n",
       "      <td>Individual</td>\n",
       "      <td>Manual</td>\n",
       "      <td>First Owner</td>\n",
       "      <td>23.0</td>\n",
       "      <td>1396</td>\n",
       "      <td>90</td>\n",
       "      <td>22.4 kgm at 1750-2750rpm</td>\n",
       "      <td>5.0</td>\n",
       "    </tr>\n",
       "    <tr>\n",
       "      <th>Maruti Swift VXI BSIII</th>\n",
       "      <td>2007</td>\n",
       "      <td>130000</td>\n",
       "      <td>120000</td>\n",
       "      <td>Petrol</td>\n",
       "      <td>Individual</td>\n",
       "      <td>Manual</td>\n",
       "      <td>First Owner</td>\n",
       "      <td>16.1</td>\n",
       "      <td>1298</td>\n",
       "      <td>88.2</td>\n",
       "      <td>11.5@ 4,500(kgm@ rpm)</td>\n",
       "      <td>5.0</td>\n",
       "    </tr>\n",
       "    <tr>\n",
       "      <th>Hyundai Xcent 1.2 VTVT E Plus</th>\n",
       "      <td>2017</td>\n",
       "      <td>440000</td>\n",
       "      <td>45000</td>\n",
       "      <td>Petrol</td>\n",
       "      <td>Individual</td>\n",
       "      <td>Manual</td>\n",
       "      <td>First Owner</td>\n",
       "      <td>20.14</td>\n",
       "      <td>1197</td>\n",
       "      <td>81.86</td>\n",
       "      <td>113.75nm@ 4000rpm</td>\n",
       "      <td>5.0</td>\n",
       "    </tr>\n",
       "    <tr>\n",
       "      <th>Maruti Wagon R LXI DUO BSIII</th>\n",
       "      <td>2007</td>\n",
       "      <td>96000</td>\n",
       "      <td>175000</td>\n",
       "      <td>LPG</td>\n",
       "      <td>Individual</td>\n",
       "      <td>Manual</td>\n",
       "      <td>First Owner</td>\n",
       "      <td>17.3</td>\n",
       "      <td>1061</td>\n",
       "      <td>57.5</td>\n",
       "      <td>7.8@ 4,500(kgm@ rpm)</td>\n",
       "      <td>5.0</td>\n",
       "    </tr>\n",
       "    <tr>\n",
       "      <th>Maruti 800 DX BSII</th>\n",
       "      <td>2001</td>\n",
       "      <td>45000</td>\n",
       "      <td>5000</td>\n",
       "      <td>Petrol</td>\n",
       "      <td>Individual</td>\n",
       "      <td>Manual</td>\n",
       "      <td>Second Owner</td>\n",
       "      <td>16.1</td>\n",
       "      <td>796</td>\n",
       "      <td>37</td>\n",
       "      <td>59Nm@ 2500rpm</td>\n",
       "      <td>4.0</td>\n",
       "    </tr>\n",
       "    <tr>\n",
       "      <th>Toyota Etios VXD</th>\n",
       "      <td>2011</td>\n",
       "      <td>350000</td>\n",
       "      <td>90000</td>\n",
       "      <td>Diesel</td>\n",
       "      <td>Individual</td>\n",
       "      <td>Manual</td>\n",
       "      <td>First Owner</td>\n",
       "      <td>23.59</td>\n",
       "      <td>1364</td>\n",
       "      <td>67.1</td>\n",
       "      <td>170Nm@ 1800-2400rpm</td>\n",
       "      <td>5.0</td>\n",
       "    </tr>\n",
       "    <tr>\n",
       "      <th>Ford Figo Diesel Celebration Edition</th>\n",
       "      <td>2013</td>\n",
       "      <td>200000</td>\n",
       "      <td>169000</td>\n",
       "      <td>Diesel</td>\n",
       "      <td>Individual</td>\n",
       "      <td>Manual</td>\n",
       "      <td>First Owner</td>\n",
       "      <td>20.0</td>\n",
       "      <td>1399</td>\n",
       "      <td>68.1</td>\n",
       "      <td>160Nm@ 2000rpm</td>\n",
       "      <td>5.0</td>\n",
       "    </tr>\n",
       "    <tr>\n",
       "      <th>Renault Duster 110PS Diesel RxL</th>\n",
       "      <td>2014</td>\n",
       "      <td>500000</td>\n",
       "      <td>68000</td>\n",
       "      <td>Diesel</td>\n",
       "      <td>Individual</td>\n",
       "      <td>Manual</td>\n",
       "      <td>Second Owner</td>\n",
       "      <td>19.01</td>\n",
       "      <td>1461</td>\n",
       "      <td>108.45</td>\n",
       "      <td>248Nm@ 2250rpm</td>\n",
       "      <td>5.0</td>\n",
       "    </tr>\n",
       "    <tr>\n",
       "      <th>Maruti Zen LX</th>\n",
       "      <td>2005</td>\n",
       "      <td>92000</td>\n",
       "      <td>100000</td>\n",
       "      <td>Petrol</td>\n",
       "      <td>Individual</td>\n",
       "      <td>Manual</td>\n",
       "      <td>Second Owner</td>\n",
       "      <td>17.3</td>\n",
       "      <td>993</td>\n",
       "      <td>60</td>\n",
       "      <td>78Nm@ 4500rpm</td>\n",
       "      <td>5.0</td>\n",
       "    </tr>\n",
       "    <tr>\n",
       "      <th>Maruti Swift Dzire VDi</th>\n",
       "      <td>2009</td>\n",
       "      <td>280000</td>\n",
       "      <td>140000</td>\n",
       "      <td>Diesel</td>\n",
       "      <td>Individual</td>\n",
       "      <td>Manual</td>\n",
       "      <td>Second Owner</td>\n",
       "      <td>19.3</td>\n",
       "      <td>1248</td>\n",
       "      <td>73.9</td>\n",
       "      <td>190Nm@ 2000rpm</td>\n",
       "      <td>5.0</td>\n",
       "    </tr>\n",
       "    <tr>\n",
       "      <th>Maruti Swift 1.3 VXi</th>\n",
       "      <td>2007</td>\n",
       "      <td>200000</td>\n",
       "      <td>80000</td>\n",
       "      <td>Petrol</td>\n",
       "      <td>Individual</td>\n",
       "      <td>Manual</td>\n",
       "      <td>Second Owner</td>\n",
       "      <td>nan</td>\n",
       "      <td>nan</td>\n",
       "      <td>nan</td>\n",
       "      <td>NaN</td>\n",
       "      <td>NaN</td>\n",
       "    </tr>\n",
       "    <tr>\n",
       "      <th>Maruti Wagon R LXI Minor</th>\n",
       "      <td>2009</td>\n",
       "      <td>180000</td>\n",
       "      <td>90000</td>\n",
       "      <td>Petrol</td>\n",
       "      <td>Individual</td>\n",
       "      <td>Manual</td>\n",
       "      <td>Second Owner</td>\n",
       "      <td>18.9</td>\n",
       "      <td>1061</td>\n",
       "      <td>67</td>\n",
       "      <td>84Nm@ 3500rpm</td>\n",
       "      <td>5.0</td>\n",
       "    </tr>\n",
       "  </tbody>\n",
       "</table>\n",
       "</div>"
      ],
      "text/plain": [
       "                                      year  selling_price  km_driven    fuel  \\\n",
       "name                                                                           \n",
       "Maruti Swift Dzire VDI                2014         450000     145500  Diesel   \n",
       "Skoda Rapid 1.5 TDI Ambition          2014         370000     120000  Diesel   \n",
       "Honda City 2017-2020 EXi              2006         158000     140000  Petrol   \n",
       "Hyundai i20 Sportz Diesel             2010         225000     127000  Diesel   \n",
       "Maruti Swift VXI BSIII                2007         130000     120000  Petrol   \n",
       "Hyundai Xcent 1.2 VTVT E Plus         2017         440000      45000  Petrol   \n",
       "Maruti Wagon R LXI DUO BSIII          2007          96000     175000     LPG   \n",
       "Maruti 800 DX BSII                    2001          45000       5000  Petrol   \n",
       "Toyota Etios VXD                      2011         350000      90000  Diesel   \n",
       "Ford Figo Diesel Celebration Edition  2013         200000     169000  Diesel   \n",
       "Renault Duster 110PS Diesel RxL       2014         500000      68000  Diesel   \n",
       "Maruti Zen LX                         2005          92000     100000  Petrol   \n",
       "Maruti Swift Dzire VDi                2009         280000     140000  Diesel   \n",
       "Maruti Swift 1.3 VXi                  2007         200000      80000  Petrol   \n",
       "Maruti Wagon R LXI Minor              2009         180000      90000  Petrol   \n",
       "\n",
       "                                     seller_type transmission         owner  \\\n",
       "name                                                                          \n",
       "Maruti Swift Dzire VDI                Individual       Manual   First Owner   \n",
       "Skoda Rapid 1.5 TDI Ambition          Individual       Manual  Second Owner   \n",
       "Honda City 2017-2020 EXi              Individual       Manual   Third Owner   \n",
       "Hyundai i20 Sportz Diesel             Individual       Manual   First Owner   \n",
       "Maruti Swift VXI BSIII                Individual       Manual   First Owner   \n",
       "Hyundai Xcent 1.2 VTVT E Plus         Individual       Manual   First Owner   \n",
       "Maruti Wagon R LXI DUO BSIII          Individual       Manual   First Owner   \n",
       "Maruti 800 DX BSII                    Individual       Manual  Second Owner   \n",
       "Toyota Etios VXD                      Individual       Manual   First Owner   \n",
       "Ford Figo Diesel Celebration Edition  Individual       Manual   First Owner   \n",
       "Renault Duster 110PS Diesel RxL       Individual       Manual  Second Owner   \n",
       "Maruti Zen LX                         Individual       Manual  Second Owner   \n",
       "Maruti Swift Dzire VDi                Individual       Manual  Second Owner   \n",
       "Maruti Swift 1.3 VXi                  Individual       Manual  Second Owner   \n",
       "Maruti Wagon R LXI Minor              Individual       Manual  Second Owner   \n",
       "\n",
       "                                     mileage engine max_power  \\\n",
       "name                                                            \n",
       "Maruti Swift Dzire VDI                  23.4   1248        74   \n",
       "Skoda Rapid 1.5 TDI Ambition           21.14   1498    103.52   \n",
       "Honda City 2017-2020 EXi                17.7   1497        78   \n",
       "Hyundai i20 Sportz Diesel               23.0   1396        90   \n",
       "Maruti Swift VXI BSIII                  16.1   1298      88.2   \n",
       "Hyundai Xcent 1.2 VTVT E Plus          20.14   1197     81.86   \n",
       "Maruti Wagon R LXI DUO BSIII            17.3   1061      57.5   \n",
       "Maruti 800 DX BSII                      16.1    796        37   \n",
       "Toyota Etios VXD                       23.59   1364      67.1   \n",
       "Ford Figo Diesel Celebration Edition    20.0   1399      68.1   \n",
       "Renault Duster 110PS Diesel RxL        19.01   1461    108.45   \n",
       "Maruti Zen LX                           17.3    993        60   \n",
       "Maruti Swift Dzire VDi                  19.3   1248      73.9   \n",
       "Maruti Swift 1.3 VXi                     nan    nan       nan   \n",
       "Maruti Wagon R LXI Minor                18.9   1061        67   \n",
       "\n",
       "                                                        torque  seats  \n",
       "name                                                                   \n",
       "Maruti Swift Dzire VDI                          190Nm@ 2000rpm    5.0  \n",
       "Skoda Rapid 1.5 TDI Ambition               250Nm@ 1500-2500rpm    5.0  \n",
       "Honda City 2017-2020 EXi                 12.7@ 2,700(kgm@ rpm)    5.0  \n",
       "Hyundai i20 Sportz Diesel             22.4 kgm at 1750-2750rpm    5.0  \n",
       "Maruti Swift VXI BSIII                   11.5@ 4,500(kgm@ rpm)    5.0  \n",
       "Hyundai Xcent 1.2 VTVT E Plus                113.75nm@ 4000rpm    5.0  \n",
       "Maruti Wagon R LXI DUO BSIII              7.8@ 4,500(kgm@ rpm)    5.0  \n",
       "Maruti 800 DX BSII                               59Nm@ 2500rpm    4.0  \n",
       "Toyota Etios VXD                           170Nm@ 1800-2400rpm    5.0  \n",
       "Ford Figo Diesel Celebration Edition            160Nm@ 2000rpm    5.0  \n",
       "Renault Duster 110PS Diesel RxL                 248Nm@ 2250rpm    5.0  \n",
       "Maruti Zen LX                                    78Nm@ 4500rpm    5.0  \n",
       "Maruti Swift Dzire VDi                          190Nm@ 2000rpm    5.0  \n",
       "Maruti Swift 1.3 VXi                                       NaN    NaN  \n",
       "Maruti Wagon R LXI Minor                         84Nm@ 3500rpm    5.0  "
      ]
     },
     "execution_count": 15,
     "metadata": {},
     "output_type": "execute_result"
    }
   ],
   "source": [
    "car_details.head(15)"
   ]
  },
  {
   "cell_type": "markdown",
   "id": "4b0094f4",
   "metadata": {},
   "source": [
    "## Converting the 'mileage', 'engine', 'max_power' to numeric from text or object type"
   ]
  },
  {
   "cell_type": "code",
   "execution_count": 16,
   "id": "f7460633",
   "metadata": {},
   "outputs": [],
   "source": [
    "attr = ['mileage', 'engine', 'max_power']\n",
    "for i in attr:\n",
    "    car_details[i] = pd.to_numeric(car_details[i],errors = 'coerce')"
   ]
  },
  {
   "cell_type": "code",
   "execution_count": 17,
   "id": "4b764c90",
   "metadata": {
    "scrolled": false
   },
   "outputs": [
    {
     "data": {
      "text/html": [
       "<div>\n",
       "<style scoped>\n",
       "    .dataframe tbody tr th:only-of-type {\n",
       "        vertical-align: middle;\n",
       "    }\n",
       "\n",
       "    .dataframe tbody tr th {\n",
       "        vertical-align: top;\n",
       "    }\n",
       "\n",
       "    .dataframe thead th {\n",
       "        text-align: right;\n",
       "    }\n",
       "</style>\n",
       "<table border=\"1\" class=\"dataframe\">\n",
       "  <thead>\n",
       "    <tr style=\"text-align: right;\">\n",
       "      <th></th>\n",
       "      <th>year</th>\n",
       "      <th>selling_price</th>\n",
       "      <th>km_driven</th>\n",
       "      <th>fuel</th>\n",
       "      <th>seller_type</th>\n",
       "      <th>transmission</th>\n",
       "      <th>owner</th>\n",
       "      <th>mileage</th>\n",
       "      <th>engine</th>\n",
       "      <th>max_power</th>\n",
       "      <th>torque</th>\n",
       "      <th>seats</th>\n",
       "    </tr>\n",
       "    <tr>\n",
       "      <th>name</th>\n",
       "      <th></th>\n",
       "      <th></th>\n",
       "      <th></th>\n",
       "      <th></th>\n",
       "      <th></th>\n",
       "      <th></th>\n",
       "      <th></th>\n",
       "      <th></th>\n",
       "      <th></th>\n",
       "      <th></th>\n",
       "      <th></th>\n",
       "      <th></th>\n",
       "    </tr>\n",
       "  </thead>\n",
       "  <tbody>\n",
       "    <tr>\n",
       "      <th>Maruti Swift Dzire VDI</th>\n",
       "      <td>2014</td>\n",
       "      <td>450000</td>\n",
       "      <td>145500</td>\n",
       "      <td>Diesel</td>\n",
       "      <td>Individual</td>\n",
       "      <td>Manual</td>\n",
       "      <td>First Owner</td>\n",
       "      <td>23.40</td>\n",
       "      <td>1248.0</td>\n",
       "      <td>74.00</td>\n",
       "      <td>190Nm@ 2000rpm</td>\n",
       "      <td>5.0</td>\n",
       "    </tr>\n",
       "    <tr>\n",
       "      <th>Skoda Rapid 1.5 TDI Ambition</th>\n",
       "      <td>2014</td>\n",
       "      <td>370000</td>\n",
       "      <td>120000</td>\n",
       "      <td>Diesel</td>\n",
       "      <td>Individual</td>\n",
       "      <td>Manual</td>\n",
       "      <td>Second Owner</td>\n",
       "      <td>21.14</td>\n",
       "      <td>1498.0</td>\n",
       "      <td>103.52</td>\n",
       "      <td>250Nm@ 1500-2500rpm</td>\n",
       "      <td>5.0</td>\n",
       "    </tr>\n",
       "    <tr>\n",
       "      <th>Honda City 2017-2020 EXi</th>\n",
       "      <td>2006</td>\n",
       "      <td>158000</td>\n",
       "      <td>140000</td>\n",
       "      <td>Petrol</td>\n",
       "      <td>Individual</td>\n",
       "      <td>Manual</td>\n",
       "      <td>Third Owner</td>\n",
       "      <td>17.70</td>\n",
       "      <td>1497.0</td>\n",
       "      <td>78.00</td>\n",
       "      <td>12.7@ 2,700(kgm@ rpm)</td>\n",
       "      <td>5.0</td>\n",
       "    </tr>\n",
       "    <tr>\n",
       "      <th>Hyundai i20 Sportz Diesel</th>\n",
       "      <td>2010</td>\n",
       "      <td>225000</td>\n",
       "      <td>127000</td>\n",
       "      <td>Diesel</td>\n",
       "      <td>Individual</td>\n",
       "      <td>Manual</td>\n",
       "      <td>First Owner</td>\n",
       "      <td>23.00</td>\n",
       "      <td>1396.0</td>\n",
       "      <td>90.00</td>\n",
       "      <td>22.4 kgm at 1750-2750rpm</td>\n",
       "      <td>5.0</td>\n",
       "    </tr>\n",
       "    <tr>\n",
       "      <th>Maruti Swift VXI BSIII</th>\n",
       "      <td>2007</td>\n",
       "      <td>130000</td>\n",
       "      <td>120000</td>\n",
       "      <td>Petrol</td>\n",
       "      <td>Individual</td>\n",
       "      <td>Manual</td>\n",
       "      <td>First Owner</td>\n",
       "      <td>16.10</td>\n",
       "      <td>1298.0</td>\n",
       "      <td>88.20</td>\n",
       "      <td>11.5@ 4,500(kgm@ rpm)</td>\n",
       "      <td>5.0</td>\n",
       "    </tr>\n",
       "    <tr>\n",
       "      <th>Hyundai Xcent 1.2 VTVT E Plus</th>\n",
       "      <td>2017</td>\n",
       "      <td>440000</td>\n",
       "      <td>45000</td>\n",
       "      <td>Petrol</td>\n",
       "      <td>Individual</td>\n",
       "      <td>Manual</td>\n",
       "      <td>First Owner</td>\n",
       "      <td>20.14</td>\n",
       "      <td>1197.0</td>\n",
       "      <td>81.86</td>\n",
       "      <td>113.75nm@ 4000rpm</td>\n",
       "      <td>5.0</td>\n",
       "    </tr>\n",
       "    <tr>\n",
       "      <th>Maruti Wagon R LXI DUO BSIII</th>\n",
       "      <td>2007</td>\n",
       "      <td>96000</td>\n",
       "      <td>175000</td>\n",
       "      <td>LPG</td>\n",
       "      <td>Individual</td>\n",
       "      <td>Manual</td>\n",
       "      <td>First Owner</td>\n",
       "      <td>17.30</td>\n",
       "      <td>1061.0</td>\n",
       "      <td>57.50</td>\n",
       "      <td>7.8@ 4,500(kgm@ rpm)</td>\n",
       "      <td>5.0</td>\n",
       "    </tr>\n",
       "    <tr>\n",
       "      <th>Maruti 800 DX BSII</th>\n",
       "      <td>2001</td>\n",
       "      <td>45000</td>\n",
       "      <td>5000</td>\n",
       "      <td>Petrol</td>\n",
       "      <td>Individual</td>\n",
       "      <td>Manual</td>\n",
       "      <td>Second Owner</td>\n",
       "      <td>16.10</td>\n",
       "      <td>796.0</td>\n",
       "      <td>37.00</td>\n",
       "      <td>59Nm@ 2500rpm</td>\n",
       "      <td>4.0</td>\n",
       "    </tr>\n",
       "    <tr>\n",
       "      <th>Toyota Etios VXD</th>\n",
       "      <td>2011</td>\n",
       "      <td>350000</td>\n",
       "      <td>90000</td>\n",
       "      <td>Diesel</td>\n",
       "      <td>Individual</td>\n",
       "      <td>Manual</td>\n",
       "      <td>First Owner</td>\n",
       "      <td>23.59</td>\n",
       "      <td>1364.0</td>\n",
       "      <td>67.10</td>\n",
       "      <td>170Nm@ 1800-2400rpm</td>\n",
       "      <td>5.0</td>\n",
       "    </tr>\n",
       "    <tr>\n",
       "      <th>Ford Figo Diesel Celebration Edition</th>\n",
       "      <td>2013</td>\n",
       "      <td>200000</td>\n",
       "      <td>169000</td>\n",
       "      <td>Diesel</td>\n",
       "      <td>Individual</td>\n",
       "      <td>Manual</td>\n",
       "      <td>First Owner</td>\n",
       "      <td>20.00</td>\n",
       "      <td>1399.0</td>\n",
       "      <td>68.10</td>\n",
       "      <td>160Nm@ 2000rpm</td>\n",
       "      <td>5.0</td>\n",
       "    </tr>\n",
       "    <tr>\n",
       "      <th>Renault Duster 110PS Diesel RxL</th>\n",
       "      <td>2014</td>\n",
       "      <td>500000</td>\n",
       "      <td>68000</td>\n",
       "      <td>Diesel</td>\n",
       "      <td>Individual</td>\n",
       "      <td>Manual</td>\n",
       "      <td>Second Owner</td>\n",
       "      <td>19.01</td>\n",
       "      <td>1461.0</td>\n",
       "      <td>108.45</td>\n",
       "      <td>248Nm@ 2250rpm</td>\n",
       "      <td>5.0</td>\n",
       "    </tr>\n",
       "    <tr>\n",
       "      <th>Maruti Zen LX</th>\n",
       "      <td>2005</td>\n",
       "      <td>92000</td>\n",
       "      <td>100000</td>\n",
       "      <td>Petrol</td>\n",
       "      <td>Individual</td>\n",
       "      <td>Manual</td>\n",
       "      <td>Second Owner</td>\n",
       "      <td>17.30</td>\n",
       "      <td>993.0</td>\n",
       "      <td>60.00</td>\n",
       "      <td>78Nm@ 4500rpm</td>\n",
       "      <td>5.0</td>\n",
       "    </tr>\n",
       "    <tr>\n",
       "      <th>Maruti Swift Dzire VDi</th>\n",
       "      <td>2009</td>\n",
       "      <td>280000</td>\n",
       "      <td>140000</td>\n",
       "      <td>Diesel</td>\n",
       "      <td>Individual</td>\n",
       "      <td>Manual</td>\n",
       "      <td>Second Owner</td>\n",
       "      <td>19.30</td>\n",
       "      <td>1248.0</td>\n",
       "      <td>73.90</td>\n",
       "      <td>190Nm@ 2000rpm</td>\n",
       "      <td>5.0</td>\n",
       "    </tr>\n",
       "    <tr>\n",
       "      <th>Maruti Swift 1.3 VXi</th>\n",
       "      <td>2007</td>\n",
       "      <td>200000</td>\n",
       "      <td>80000</td>\n",
       "      <td>Petrol</td>\n",
       "      <td>Individual</td>\n",
       "      <td>Manual</td>\n",
       "      <td>Second Owner</td>\n",
       "      <td>NaN</td>\n",
       "      <td>NaN</td>\n",
       "      <td>NaN</td>\n",
       "      <td>NaN</td>\n",
       "      <td>NaN</td>\n",
       "    </tr>\n",
       "    <tr>\n",
       "      <th>Maruti Wagon R LXI Minor</th>\n",
       "      <td>2009</td>\n",
       "      <td>180000</td>\n",
       "      <td>90000</td>\n",
       "      <td>Petrol</td>\n",
       "      <td>Individual</td>\n",
       "      <td>Manual</td>\n",
       "      <td>Second Owner</td>\n",
       "      <td>18.90</td>\n",
       "      <td>1061.0</td>\n",
       "      <td>67.00</td>\n",
       "      <td>84Nm@ 3500rpm</td>\n",
       "      <td>5.0</td>\n",
       "    </tr>\n",
       "  </tbody>\n",
       "</table>\n",
       "</div>"
      ],
      "text/plain": [
       "                                      year  selling_price  km_driven    fuel  \\\n",
       "name                                                                           \n",
       "Maruti Swift Dzire VDI                2014         450000     145500  Diesel   \n",
       "Skoda Rapid 1.5 TDI Ambition          2014         370000     120000  Diesel   \n",
       "Honda City 2017-2020 EXi              2006         158000     140000  Petrol   \n",
       "Hyundai i20 Sportz Diesel             2010         225000     127000  Diesel   \n",
       "Maruti Swift VXI BSIII                2007         130000     120000  Petrol   \n",
       "Hyundai Xcent 1.2 VTVT E Plus         2017         440000      45000  Petrol   \n",
       "Maruti Wagon R LXI DUO BSIII          2007          96000     175000     LPG   \n",
       "Maruti 800 DX BSII                    2001          45000       5000  Petrol   \n",
       "Toyota Etios VXD                      2011         350000      90000  Diesel   \n",
       "Ford Figo Diesel Celebration Edition  2013         200000     169000  Diesel   \n",
       "Renault Duster 110PS Diesel RxL       2014         500000      68000  Diesel   \n",
       "Maruti Zen LX                         2005          92000     100000  Petrol   \n",
       "Maruti Swift Dzire VDi                2009         280000     140000  Diesel   \n",
       "Maruti Swift 1.3 VXi                  2007         200000      80000  Petrol   \n",
       "Maruti Wagon R LXI Minor              2009         180000      90000  Petrol   \n",
       "\n",
       "                                     seller_type transmission         owner  \\\n",
       "name                                                                          \n",
       "Maruti Swift Dzire VDI                Individual       Manual   First Owner   \n",
       "Skoda Rapid 1.5 TDI Ambition          Individual       Manual  Second Owner   \n",
       "Honda City 2017-2020 EXi              Individual       Manual   Third Owner   \n",
       "Hyundai i20 Sportz Diesel             Individual       Manual   First Owner   \n",
       "Maruti Swift VXI BSIII                Individual       Manual   First Owner   \n",
       "Hyundai Xcent 1.2 VTVT E Plus         Individual       Manual   First Owner   \n",
       "Maruti Wagon R LXI DUO BSIII          Individual       Manual   First Owner   \n",
       "Maruti 800 DX BSII                    Individual       Manual  Second Owner   \n",
       "Toyota Etios VXD                      Individual       Manual   First Owner   \n",
       "Ford Figo Diesel Celebration Edition  Individual       Manual   First Owner   \n",
       "Renault Duster 110PS Diesel RxL       Individual       Manual  Second Owner   \n",
       "Maruti Zen LX                         Individual       Manual  Second Owner   \n",
       "Maruti Swift Dzire VDi                Individual       Manual  Second Owner   \n",
       "Maruti Swift 1.3 VXi                  Individual       Manual  Second Owner   \n",
       "Maruti Wagon R LXI Minor              Individual       Manual  Second Owner   \n",
       "\n",
       "                                      mileage  engine  max_power  \\\n",
       "name                                                               \n",
       "Maruti Swift Dzire VDI                  23.40  1248.0      74.00   \n",
       "Skoda Rapid 1.5 TDI Ambition            21.14  1498.0     103.52   \n",
       "Honda City 2017-2020 EXi                17.70  1497.0      78.00   \n",
       "Hyundai i20 Sportz Diesel               23.00  1396.0      90.00   \n",
       "Maruti Swift VXI BSIII                  16.10  1298.0      88.20   \n",
       "Hyundai Xcent 1.2 VTVT E Plus           20.14  1197.0      81.86   \n",
       "Maruti Wagon R LXI DUO BSIII            17.30  1061.0      57.50   \n",
       "Maruti 800 DX BSII                      16.10   796.0      37.00   \n",
       "Toyota Etios VXD                        23.59  1364.0      67.10   \n",
       "Ford Figo Diesel Celebration Edition    20.00  1399.0      68.10   \n",
       "Renault Duster 110PS Diesel RxL         19.01  1461.0     108.45   \n",
       "Maruti Zen LX                           17.30   993.0      60.00   \n",
       "Maruti Swift Dzire VDi                  19.30  1248.0      73.90   \n",
       "Maruti Swift 1.3 VXi                      NaN     NaN        NaN   \n",
       "Maruti Wagon R LXI Minor                18.90  1061.0      67.00   \n",
       "\n",
       "                                                        torque  seats  \n",
       "name                                                                   \n",
       "Maruti Swift Dzire VDI                          190Nm@ 2000rpm    5.0  \n",
       "Skoda Rapid 1.5 TDI Ambition               250Nm@ 1500-2500rpm    5.0  \n",
       "Honda City 2017-2020 EXi                 12.7@ 2,700(kgm@ rpm)    5.0  \n",
       "Hyundai i20 Sportz Diesel             22.4 kgm at 1750-2750rpm    5.0  \n",
       "Maruti Swift VXI BSIII                   11.5@ 4,500(kgm@ rpm)    5.0  \n",
       "Hyundai Xcent 1.2 VTVT E Plus                113.75nm@ 4000rpm    5.0  \n",
       "Maruti Wagon R LXI DUO BSIII              7.8@ 4,500(kgm@ rpm)    5.0  \n",
       "Maruti 800 DX BSII                               59Nm@ 2500rpm    4.0  \n",
       "Toyota Etios VXD                           170Nm@ 1800-2400rpm    5.0  \n",
       "Ford Figo Diesel Celebration Edition            160Nm@ 2000rpm    5.0  \n",
       "Renault Duster 110PS Diesel RxL                 248Nm@ 2250rpm    5.0  \n",
       "Maruti Zen LX                                    78Nm@ 4500rpm    5.0  \n",
       "Maruti Swift Dzire VDi                          190Nm@ 2000rpm    5.0  \n",
       "Maruti Swift 1.3 VXi                                       NaN    NaN  \n",
       "Maruti Wagon R LXI Minor                         84Nm@ 3500rpm    5.0  "
      ]
     },
     "execution_count": 17,
     "metadata": {},
     "output_type": "execute_result"
    }
   ],
   "source": [
    "car_details.head(15)"
   ]
  },
  {
   "cell_type": "code",
   "execution_count": 18,
   "id": "c329db78",
   "metadata": {},
   "outputs": [
    {
     "data": {
      "text/html": [
       "<div>\n",
       "<style scoped>\n",
       "    .dataframe tbody tr th:only-of-type {\n",
       "        vertical-align: middle;\n",
       "    }\n",
       "\n",
       "    .dataframe tbody tr th {\n",
       "        vertical-align: top;\n",
       "    }\n",
       "\n",
       "    .dataframe thead th {\n",
       "        text-align: right;\n",
       "    }\n",
       "</style>\n",
       "<table border=\"1\" class=\"dataframe\">\n",
       "  <thead>\n",
       "    <tr style=\"text-align: right;\">\n",
       "      <th></th>\n",
       "      <th>mileage</th>\n",
       "      <th>engine</th>\n",
       "      <th>max_power</th>\n",
       "    </tr>\n",
       "    <tr>\n",
       "      <th>name</th>\n",
       "      <th></th>\n",
       "      <th></th>\n",
       "      <th></th>\n",
       "    </tr>\n",
       "  </thead>\n",
       "  <tbody>\n",
       "    <tr>\n",
       "      <th>Maruti Swift Dzire VDI</th>\n",
       "      <td>23.40</td>\n",
       "      <td>1248.0</td>\n",
       "      <td>74.00</td>\n",
       "    </tr>\n",
       "    <tr>\n",
       "      <th>Skoda Rapid 1.5 TDI Ambition</th>\n",
       "      <td>21.14</td>\n",
       "      <td>1498.0</td>\n",
       "      <td>103.52</td>\n",
       "    </tr>\n",
       "    <tr>\n",
       "      <th>Honda City 2017-2020 EXi</th>\n",
       "      <td>17.70</td>\n",
       "      <td>1497.0</td>\n",
       "      <td>78.00</td>\n",
       "    </tr>\n",
       "    <tr>\n",
       "      <th>Hyundai i20 Sportz Diesel</th>\n",
       "      <td>23.00</td>\n",
       "      <td>1396.0</td>\n",
       "      <td>90.00</td>\n",
       "    </tr>\n",
       "    <tr>\n",
       "      <th>Maruti Swift VXI BSIII</th>\n",
       "      <td>16.10</td>\n",
       "      <td>1298.0</td>\n",
       "      <td>88.20</td>\n",
       "    </tr>\n",
       "    <tr>\n",
       "      <th>...</th>\n",
       "      <td>...</td>\n",
       "      <td>...</td>\n",
       "      <td>...</td>\n",
       "    </tr>\n",
       "    <tr>\n",
       "      <th>Hyundai i20 Magna</th>\n",
       "      <td>18.50</td>\n",
       "      <td>1197.0</td>\n",
       "      <td>82.85</td>\n",
       "    </tr>\n",
       "    <tr>\n",
       "      <th>Hyundai Verna CRDi SX</th>\n",
       "      <td>16.80</td>\n",
       "      <td>1493.0</td>\n",
       "      <td>110.00</td>\n",
       "    </tr>\n",
       "    <tr>\n",
       "      <th>Maruti Swift Dzire ZDi</th>\n",
       "      <td>19.30</td>\n",
       "      <td>1248.0</td>\n",
       "      <td>73.90</td>\n",
       "    </tr>\n",
       "    <tr>\n",
       "      <th>Tata Indigo CR4</th>\n",
       "      <td>23.57</td>\n",
       "      <td>1396.0</td>\n",
       "      <td>70.00</td>\n",
       "    </tr>\n",
       "    <tr>\n",
       "      <th>Tata Indigo CR4</th>\n",
       "      <td>23.57</td>\n",
       "      <td>1396.0</td>\n",
       "      <td>70.00</td>\n",
       "    </tr>\n",
       "  </tbody>\n",
       "</table>\n",
       "<p>8128 rows × 3 columns</p>\n",
       "</div>"
      ],
      "text/plain": [
       "                              mileage  engine  max_power\n",
       "name                                                    \n",
       "Maruti Swift Dzire VDI          23.40  1248.0      74.00\n",
       "Skoda Rapid 1.5 TDI Ambition    21.14  1498.0     103.52\n",
       "Honda City 2017-2020 EXi        17.70  1497.0      78.00\n",
       "Hyundai i20 Sportz Diesel       23.00  1396.0      90.00\n",
       "Maruti Swift VXI BSIII          16.10  1298.0      88.20\n",
       "...                               ...     ...        ...\n",
       "Hyundai i20 Magna               18.50  1197.0      82.85\n",
       "Hyundai Verna CRDi SX           16.80  1493.0     110.00\n",
       "Maruti Swift Dzire ZDi          19.30  1248.0      73.90\n",
       "Tata Indigo CR4                 23.57  1396.0      70.00\n",
       "Tata Indigo CR4                 23.57  1396.0      70.00\n",
       "\n",
       "[8128 rows x 3 columns]"
      ]
     },
     "execution_count": 18,
     "metadata": {},
     "output_type": "execute_result"
    }
   ],
   "source": [
    "car_details[['mileage','engine','max_power']]"
   ]
  },
  {
   "cell_type": "code",
   "execution_count": 19,
   "id": "59f49586",
   "metadata": {},
   "outputs": [
    {
     "data": {
      "text/plain": [
       "year               int64\n",
       "selling_price      int64\n",
       "km_driven          int64\n",
       "fuel              object\n",
       "seller_type       object\n",
       "transmission      object\n",
       "owner             object\n",
       "mileage          float64\n",
       "engine           float64\n",
       "max_power        float64\n",
       "torque            object\n",
       "seats            float64\n",
       "dtype: object"
      ]
     },
     "execution_count": 19,
     "metadata": {},
     "output_type": "execute_result"
    }
   ],
   "source": [
    "car_details.dtypes"
   ]
  },
  {
   "cell_type": "markdown",
   "id": "328a2051",
   "metadata": {},
   "source": [
    "## As we can see that 'Mileage', 'Engine', 'Max_Power' these attributes have been converted to Float Type"
   ]
  },
  {
   "cell_type": "code",
   "execution_count": 20,
   "id": "31e2b6ef",
   "metadata": {},
   "outputs": [
    {
     "name": "stdout",
     "output_type": "stream",
     "text": [
      "<class 'pandas.core.frame.DataFrame'>\n",
      "Index: 8128 entries, Maruti Swift Dzire VDI to Tata Indigo CR4\n",
      "Data columns (total 12 columns):\n",
      " #   Column         Non-Null Count  Dtype  \n",
      "---  ------         --------------  -----  \n",
      " 0   year           8128 non-null   int64  \n",
      " 1   selling_price  8128 non-null   int64  \n",
      " 2   km_driven      8128 non-null   int64  \n",
      " 3   fuel           8128 non-null   object \n",
      " 4   seller_type    8128 non-null   object \n",
      " 5   transmission   8128 non-null   object \n",
      " 6   owner          8128 non-null   object \n",
      " 7   mileage        7907 non-null   float64\n",
      " 8   engine         7907 non-null   float64\n",
      " 9   max_power      7912 non-null   float64\n",
      " 10  torque         7906 non-null   object \n",
      " 11  seats          7907 non-null   float64\n",
      "dtypes: float64(4), int64(3), object(5)\n",
      "memory usage: 825.5+ KB\n"
     ]
    }
   ],
   "source": [
    "car_details.info()"
   ]
  },
  {
   "cell_type": "code",
   "execution_count": 21,
   "id": "f7d80919",
   "metadata": {},
   "outputs": [],
   "source": [
    "corr = car_details.corr()"
   ]
  },
  {
   "cell_type": "code",
   "execution_count": 22,
   "id": "55c45351",
   "metadata": {
    "scrolled": true
   },
   "outputs": [
    {
     "data": {
      "text/html": [
       "<div>\n",
       "<style scoped>\n",
       "    .dataframe tbody tr th:only-of-type {\n",
       "        vertical-align: middle;\n",
       "    }\n",
       "\n",
       "    .dataframe tbody tr th {\n",
       "        vertical-align: top;\n",
       "    }\n",
       "\n",
       "    .dataframe thead th {\n",
       "        text-align: right;\n",
       "    }\n",
       "</style>\n",
       "<table border=\"1\" class=\"dataframe\">\n",
       "  <thead>\n",
       "    <tr style=\"text-align: right;\">\n",
       "      <th></th>\n",
       "      <th>year</th>\n",
       "      <th>selling_price</th>\n",
       "      <th>km_driven</th>\n",
       "      <th>mileage</th>\n",
       "      <th>engine</th>\n",
       "      <th>max_power</th>\n",
       "      <th>seats</th>\n",
       "    </tr>\n",
       "  </thead>\n",
       "  <tbody>\n",
       "    <tr>\n",
       "      <th>year</th>\n",
       "      <td>1.000000</td>\n",
       "      <td>0.414092</td>\n",
       "      <td>-0.418006</td>\n",
       "      <td>0.329145</td>\n",
       "      <td>0.018848</td>\n",
       "      <td>0.226320</td>\n",
       "      <td>-0.009144</td>\n",
       "    </tr>\n",
       "    <tr>\n",
       "      <th>selling_price</th>\n",
       "      <td>0.414092</td>\n",
       "      <td>1.000000</td>\n",
       "      <td>-0.225534</td>\n",
       "      <td>-0.126054</td>\n",
       "      <td>0.455734</td>\n",
       "      <td>0.748489</td>\n",
       "      <td>0.041358</td>\n",
       "    </tr>\n",
       "    <tr>\n",
       "      <th>km_driven</th>\n",
       "      <td>-0.418006</td>\n",
       "      <td>-0.225534</td>\n",
       "      <td>1.000000</td>\n",
       "      <td>-0.173073</td>\n",
       "      <td>0.205914</td>\n",
       "      <td>-0.038075</td>\n",
       "      <td>0.227336</td>\n",
       "    </tr>\n",
       "    <tr>\n",
       "      <th>mileage</th>\n",
       "      <td>0.329145</td>\n",
       "      <td>-0.126054</td>\n",
       "      <td>-0.173073</td>\n",
       "      <td>1.000000</td>\n",
       "      <td>-0.575831</td>\n",
       "      <td>-0.374621</td>\n",
       "      <td>-0.452085</td>\n",
       "    </tr>\n",
       "    <tr>\n",
       "      <th>engine</th>\n",
       "      <td>0.018848</td>\n",
       "      <td>0.455734</td>\n",
       "      <td>0.205914</td>\n",
       "      <td>-0.575831</td>\n",
       "      <td>1.000000</td>\n",
       "      <td>0.703975</td>\n",
       "      <td>0.610309</td>\n",
       "    </tr>\n",
       "    <tr>\n",
       "      <th>max_power</th>\n",
       "      <td>0.226320</td>\n",
       "      <td>0.748489</td>\n",
       "      <td>-0.038075</td>\n",
       "      <td>-0.374621</td>\n",
       "      <td>0.703975</td>\n",
       "      <td>1.000000</td>\n",
       "      <td>0.191999</td>\n",
       "    </tr>\n",
       "    <tr>\n",
       "      <th>seats</th>\n",
       "      <td>-0.009144</td>\n",
       "      <td>0.041358</td>\n",
       "      <td>0.227336</td>\n",
       "      <td>-0.452085</td>\n",
       "      <td>0.610309</td>\n",
       "      <td>0.191999</td>\n",
       "      <td>1.000000</td>\n",
       "    </tr>\n",
       "  </tbody>\n",
       "</table>\n",
       "</div>"
      ],
      "text/plain": [
       "                   year  selling_price  km_driven   mileage    engine  \\\n",
       "year           1.000000       0.414092  -0.418006  0.329145  0.018848   \n",
       "selling_price  0.414092       1.000000  -0.225534 -0.126054  0.455734   \n",
       "km_driven     -0.418006      -0.225534   1.000000 -0.173073  0.205914   \n",
       "mileage        0.329145      -0.126054  -0.173073  1.000000 -0.575831   \n",
       "engine         0.018848       0.455734   0.205914 -0.575831  1.000000   \n",
       "max_power      0.226320       0.748489  -0.038075 -0.374621  0.703975   \n",
       "seats         -0.009144       0.041358   0.227336 -0.452085  0.610309   \n",
       "\n",
       "               max_power     seats  \n",
       "year            0.226320 -0.009144  \n",
       "selling_price   0.748489  0.041358  \n",
       "km_driven      -0.038075  0.227336  \n",
       "mileage        -0.374621 -0.452085  \n",
       "engine          0.703975  0.610309  \n",
       "max_power       1.000000  0.191999  \n",
       "seats           0.191999  1.000000  "
      ]
     },
     "execution_count": 22,
     "metadata": {},
     "output_type": "execute_result"
    }
   ],
   "source": [
    "corr"
   ]
  },
  {
   "cell_type": "code",
   "execution_count": 23,
   "id": "0c40bde8",
   "metadata": {},
   "outputs": [
    {
     "data": {
      "text/plain": [
       "selling_price    1.000000\n",
       "max_power        0.748489\n",
       "engine           0.455734\n",
       "year             0.414092\n",
       "seats            0.041358\n",
       "mileage         -0.126054\n",
       "km_driven       -0.225534\n",
       "Name: selling_price, dtype: float64"
      ]
     },
     "execution_count": 23,
     "metadata": {},
     "output_type": "execute_result"
    }
   ],
   "source": [
    "corr.selling_price.sort_values(ascending=False)"
   ]
  },
  {
   "cell_type": "markdown",
   "id": "ee4fc76e",
   "metadata": {},
   "source": [
    "## 'selling_prie' has the highest correlation with 'max_power' having approx value 0.75"
   ]
  },
  {
   "cell_type": "code",
   "execution_count": 24,
   "id": "a9cc1316",
   "metadata": {},
   "outputs": [
    {
     "data": {
      "text/plain": [
       "<AxesSubplot:>"
      ]
     },
     "execution_count": 24,
     "metadata": {},
     "output_type": "execute_result"
    },
    {
     "data": {
      "image/png": "[encoded data removed]",
      "text/plain": [
       "<Figure size 432x288 with 2 Axes>"
      ]
     },
     "metadata": {
      "needs_background": "light"
     },
     "output_type": "display_data"
    }
   ],
   "source": [
    "sns.heatmap(car_details.corr(),annot=True)"
   ]
  },
  {
   "cell_type": "code",
   "execution_count": 25,
   "id": "e74ad83b",
   "metadata": {},
   "outputs": [
    {
     "data": {
      "text/plain": [
       "name\n",
       "Maruti Swift Dzire VDI                     190Nm@ 2000rpm\n",
       "Skoda Rapid 1.5 TDI Ambition          250Nm@ 1500-2500rpm\n",
       "Honda City 2017-2020 EXi            12.7@ 2,700(kgm@ rpm)\n",
       "Hyundai i20 Sportz Diesel        22.4 kgm at 1750-2750rpm\n",
       "Maruti Swift VXI BSIII              11.5@ 4,500(kgm@ rpm)\n",
       "                                          ...            \n",
       "Hyundai i20 Magna                        113.7Nm@ 4000rpm\n",
       "Hyundai Verna CRDi SX           24@ 1,900-2,750(kgm@ rpm)\n",
       "Maruti Swift Dzire ZDi                     190Nm@ 2000rpm\n",
       "Tata Indigo CR4                       140Nm@ 1800-3000rpm\n",
       "Tata Indigo CR4                       140Nm@ 1800-3000rpm\n",
       "Name: torque, Length: 8128, dtype: object"
      ]
     },
     "execution_count": 25,
     "metadata": {},
     "output_type": "execute_result"
    }
   ],
   "source": [
    "car_details['torque']"
   ]
  },
  {
   "cell_type": "code",
   "execution_count": 26,
   "id": "89275fa8",
   "metadata": {
    "scrolled": true
   },
   "outputs": [
    {
     "data": {
      "text/plain": [
       "190Nm@ 2000rpm               530\n",
       "200Nm@ 1750rpm               445\n",
       "90Nm@ 3500rpm                405\n",
       "113Nm@ 4200rpm               223\n",
       "114Nm@ 4000rpm               171\n",
       "                            ... \n",
       "350nm@ 1800-2600rpm            1\n",
       "72Nm@ 4388rpm                  1\n",
       "51@ 1,750-3,000(kgm@ rpm)      1\n",
       "250 Nm at 1,500-3,000 rpm      1\n",
       "88.4Nm@ 4200rpm                1\n",
       "Name: torque, Length: 441, dtype: int64"
      ]
     },
     "execution_count": 26,
     "metadata": {},
     "output_type": "execute_result"
    }
   ],
   "source": [
    "car['torque'].value_counts()"
   ]
  },
  {
   "cell_type": "markdown",
   "id": "6e88bd30",
   "metadata": {},
   "source": [
    "### From this torque attribute we can say that it's extremely unorganized and the first few values have higher counts of vehicles and this count goes on gradually decreasing"
   ]
  },
  {
   "cell_type": "markdown",
   "id": "1eee9d2e",
   "metadata": {},
   "source": [
    "## Seeing the name of all the columns of the dataframe"
   ]
  },
  {
   "cell_type": "code",
   "execution_count": 27,
   "id": "594e85f7",
   "metadata": {},
   "outputs": [
    {
     "data": {
      "text/plain": [
       "Index(['year', 'selling_price', 'km_driven', 'fuel', 'seller_type',\n",
       "       'transmission', 'owner', 'mileage', 'engine', 'max_power', 'torque',\n",
       "       'seats'],\n",
       "      dtype='object')"
      ]
     },
     "execution_count": 27,
     "metadata": {},
     "output_type": "execute_result"
    }
   ],
   "source": [
    "car_details.columns"
   ]
  },
  {
   "cell_type": "markdown",
   "id": "27b6cc2e",
   "metadata": {},
   "source": [
    "## Finding the number of unique values of all the attributes of the 'car_details' dataframe:"
   ]
  },
  {
   "cell_type": "code",
   "execution_count": 28,
   "id": "d3f16b5e",
   "metadata": {
    "scrolled": false
   },
   "outputs": [
    {
     "name": "stdout",
     "output_type": "stream",
     "text": [
      "The number of unique values in year is :  29\n",
      "The number of unique values in selling_price is :  677\n",
      "The number of unique values in km_driven is :  921\n",
      "The number of unique values in fuel is :  4\n",
      "The number of unique values in seller_type is :  3\n",
      "The number of unique values in transmission is :  2\n",
      "The number of unique values in owner is :  5\n",
      "The number of unique values in mileage is :  381\n",
      "The number of unique values in engine is :  121\n",
      "The number of unique values in max_power is :  319\n",
      "The number of unique values in torque is :  441\n",
      "The number of unique values in seats is :  9\n"
     ]
    }
   ],
   "source": [
    "for i in car_details.columns:\n",
    "    print(f'The number of unique values in {i} is : ',car_details[i].nunique())\n",
    "#    print(\"The number of unique values in \"+ i +\" is :\", len(car_details[i].value_counts()) )"
   ]
  },
  {
   "cell_type": "code",
   "execution_count": 29,
   "id": "0d2b0324",
   "metadata": {},
   "outputs": [
    {
     "data": {
      "text/plain": [
       "int"
      ]
     },
     "execution_count": 29,
     "metadata": {},
     "output_type": "execute_result"
    }
   ],
   "source": [
    "type(pd.to_datetime('today').year)"
   ]
  },
  {
   "cell_type": "markdown",
   "id": "7cbbf365",
   "metadata": {},
   "source": [
    "## showing the unique values of the attributes"
   ]
  },
  {
   "cell_type": "code",
   "execution_count": 30,
   "id": "3f7afafc",
   "metadata": {},
   "outputs": [
    {
     "data": {
      "text/plain": [
       "array([2014, 2006, 2010, 2007, 2017, 2001, 2011, 2013, 2005, 2009, 2016,\n",
       "       2012, 2002, 2015, 2018, 2003, 2019, 2008, 2020, 1999, 2000, 1983,\n",
       "       2004, 1996, 1994, 1995, 1998, 1997, 1991], dtype=int64)"
      ]
     },
     "execution_count": 30,
     "metadata": {},
     "output_type": "execute_result"
    }
   ],
   "source": [
    "car_details['year'].unique()"
   ]
  },
  {
   "cell_type": "code",
   "execution_count": 31,
   "id": "ab7fefaa",
   "metadata": {},
   "outputs": [
    {
     "data": {
      "text/plain": [
       "1983"
      ]
     },
     "execution_count": 31,
     "metadata": {},
     "output_type": "execute_result"
    }
   ],
   "source": [
    "car_details['year'].min()"
   ]
  },
  {
   "cell_type": "code",
   "execution_count": 32,
   "id": "403fdba4",
   "metadata": {},
   "outputs": [
    {
     "data": {
      "text/plain": [
       "2020"
      ]
     },
     "execution_count": 32,
     "metadata": {},
     "output_type": "execute_result"
    }
   ],
   "source": [
    "car_details['year'].max()"
   ]
  },
  {
   "cell_type": "code",
   "execution_count": 33,
   "id": "d3f8788a",
   "metadata": {
    "scrolled": false
   },
   "outputs": [
    {
     "data": {
      "text/plain": [
       "array([145500, 120000, 140000, 127000,  45000, 175000,   5000,  90000,\n",
       "       169000,  68000], dtype=int64)"
      ]
     },
     "execution_count": 33,
     "metadata": {},
     "output_type": "execute_result"
    }
   ],
   "source": [
    "car_details['km_driven'].unique()[:10]            # showing first 10 values"
   ]
  },
  {
   "cell_type": "code",
   "execution_count": 34,
   "id": "e961efec",
   "metadata": {},
   "outputs": [
    {
     "data": {
      "text/plain": [
       "array(['Diesel', 'Petrol', 'LPG', 'CNG'], dtype=object)"
      ]
     },
     "execution_count": 34,
     "metadata": {},
     "output_type": "execute_result"
    }
   ],
   "source": [
    "car_details['fuel'].unique()"
   ]
  },
  {
   "cell_type": "code",
   "execution_count": 35,
   "id": "f0c06fe3",
   "metadata": {
    "scrolled": true
   },
   "outputs": [
    {
     "data": {
      "text/plain": [
       "array(['Individual', 'Dealer', 'Trustmark Dealer'], dtype=object)"
      ]
     },
     "execution_count": 35,
     "metadata": {},
     "output_type": "execute_result"
    }
   ],
   "source": [
    "car_details['seller_type'].unique()"
   ]
  },
  {
   "cell_type": "code",
   "execution_count": 36,
   "id": "2412723f",
   "metadata": {
    "scrolled": true
   },
   "outputs": [
    {
     "data": {
      "text/plain": [
       "array(['Manual', 'Automatic'], dtype=object)"
      ]
     },
     "execution_count": 36,
     "metadata": {},
     "output_type": "execute_result"
    }
   ],
   "source": [
    "car_details['transmission'].unique()"
   ]
  },
  {
   "cell_type": "code",
   "execution_count": 37,
   "id": "5adaf5a2",
   "metadata": {},
   "outputs": [
    {
     "data": {
      "text/plain": [
       "array(['First Owner', 'Second Owner', 'Third Owner',\n",
       "       'Fourth & Above Owner', 'Test Drive Car'], dtype=object)"
      ]
     },
     "execution_count": 37,
     "metadata": {},
     "output_type": "execute_result"
    }
   ],
   "source": [
    "car_details['owner'].unique()"
   ]
  },
  {
   "cell_type": "code",
   "execution_count": 38,
   "id": "9786cc9b",
   "metadata": {},
   "outputs": [
    {
     "data": {
      "text/plain": [
       "array([23.4 , 21.14, 17.7 , 23.  , 16.1 , 20.14, 17.3 , 23.59, 20.  ,\n",
       "       19.01])"
      ]
     },
     "execution_count": 38,
     "metadata": {},
     "output_type": "execute_result"
    }
   ],
   "source": [
    "car_details['mileage'].unique()[:10]                # showing first 10 values "
   ]
  },
  {
   "cell_type": "code",
   "execution_count": 39,
   "id": "79624147",
   "metadata": {},
   "outputs": [
    {
     "data": {
      "text/plain": [
       "array([1248., 1498., 1497., 1396., 1298., 1197., 1061.,  796., 1364.,\n",
       "       1399., 1461.,  993.,   nan, 1198., 1199.,  998., 1591., 2179.,\n",
       "       1368., 2982., 2494., 2143., 2477., 1462., 2755., 1968., 1798.,\n",
       "       1196., 1373., 1598., 1998., 1086., 1194., 1172., 1405., 1582.,\n",
       "        999., 2487., 1999., 3604., 2987., 1995., 1451., 1969., 2967.,\n",
       "       2497., 1797., 1991., 2362., 1493., 1599., 1341., 1794.,  799.,\n",
       "       1193., 2696., 1495., 1186., 1047., 2498., 2956., 2523., 1120.,\n",
       "        624., 1496., 1984., 2354.,  814.,  793., 1799.,  936., 1956.,\n",
       "       1997., 1499., 1948., 2997., 2489., 2499., 2609., 2953., 1150.,\n",
       "       1994., 1388., 1527., 2199.,  995., 2993., 1586., 1390.,  909.,\n",
       "       2393., 3198., 1339., 2835., 2092., 1595., 2496., 1596., 1597.,\n",
       "       2596., 2148., 1299., 1590., 2231., 2694., 2200., 1795., 1896.,\n",
       "       1796., 1422., 1489., 2359., 2197., 2999., 1781., 2650., 1343.,\n",
       "       2446., 3498., 2198., 2776., 1950.])"
      ]
     },
     "execution_count": 39,
     "metadata": {},
     "output_type": "execute_result"
    }
   ],
   "source": [
    "car_details['engine'].unique()"
   ]
  },
  {
   "cell_type": "code",
   "execution_count": 40,
   "id": "075a6d89",
   "metadata": {},
   "outputs": [
    {
     "data": {
      "text/plain": [
       "array([ 74.  , 103.52,  78.  ,  90.  ,  88.2 ,  81.86,  57.5 ,  37.  ,\n",
       "        67.1 ,  68.1 , 108.45,  60.  ,  73.9 ,    nan,  67.  ,  82.  ,\n",
       "        88.5 ,  46.3 ,  88.73,  64.1 ,  98.6 ,  88.8 ,  83.81,  83.1 ,\n",
       "        47.3 ,  73.8 ,  34.2 ,  35.  ,  81.83,  40.3 ])"
      ]
     },
     "execution_count": 40,
     "metadata": {},
     "output_type": "execute_result"
    }
   ],
   "source": [
    "car_details['max_power'].unique()[:30]         # showing first 30 values"
   ]
  },
  {
   "cell_type": "code",
   "execution_count": 41,
   "id": "f6b055c0",
   "metadata": {},
   "outputs": [
    {
     "data": {
      "text/plain": [
       "array(['190Nm@ 2000rpm', '250Nm@ 1500-2500rpm', '12.7@ 2,700(kgm@ rpm)',\n",
       "       '22.4 kgm at 1750-2750rpm', '11.5@ 4,500(kgm@ rpm)',\n",
       "       '113.75nm@ 4000rpm', '7.8@ 4,500(kgm@ rpm)', '59Nm@ 2500rpm',\n",
       "       '170Nm@ 1800-2400rpm', '160Nm@ 2000rpm', '248Nm@ 2250rpm',\n",
       "       '78Nm@ 4500rpm', nan, '84Nm@ 3500rpm', '115Nm@ 3500-3600rpm',\n",
       "       '200Nm@ 1750rpm', '62Nm@ 3000rpm', '219.7Nm@ 1500-2750rpm',\n",
       "       '114Nm@ 3500rpm', '115Nm@ 4000rpm', '69Nm@ 3500rpm',\n",
       "       '172.5Nm@ 1750rpm', '6.1kgm@ 3000rpm', '114.7Nm@ 4000rpm',\n",
       "       '60Nm@ 3500rpm', '90Nm@ 3500rpm', '151Nm@ 4850rpm',\n",
       "       '104Nm@ 4000rpm', '320Nm@ 1700-2700rpm', '250Nm@ 1750-2500rpm',\n",
       "       '145Nm@ 4600rpm', '146Nm@ 4800rpm', '343Nm@ 1400-3400rpm',\n",
       "       '200Nm@ 1400-3400rpm', '200Nm@ 1250-4000rpm',\n",
       "       '400Nm@ 2000-2500rpm', '138Nm@ 4400rpm', '360Nm@ 1200-3400rpm',\n",
       "       '200Nm@ 1200-3600rpm', '380Nm@ 1750-2500rpm'], dtype=object)"
      ]
     },
     "execution_count": 41,
     "metadata": {},
     "output_type": "execute_result"
    }
   ],
   "source": [
    "car_details['torque'].unique()[:40]            # showing first 40 values"
   ]
  },
  {
   "cell_type": "markdown",
   "id": "9093b37c",
   "metadata": {},
   "source": [
    "## The insight from 'torque' column is not much clear as the values for each instance are not in proper orientation. So we are dropping that attribute from this dataframe."
   ]
  },
  {
   "cell_type": "code",
   "execution_count": 42,
   "id": "9e2acec5",
   "metadata": {},
   "outputs": [],
   "source": [
    "car_details = car_details.drop('torque', axis=1)"
   ]
  },
  {
   "cell_type": "code",
   "execution_count": 43,
   "id": "9fd875ca",
   "metadata": {},
   "outputs": [
    {
     "data": {
      "text/plain": [
       "Index(['year', 'selling_price', 'km_driven', 'fuel', 'seller_type',\n",
       "       'transmission', 'owner', 'mileage', 'engine', 'max_power', 'seats'],\n",
       "      dtype='object')"
      ]
     },
     "execution_count": 43,
     "metadata": {},
     "output_type": "execute_result"
    }
   ],
   "source": [
    "car_details.columns    # After dropping the 'torque' attribute "
   ]
  },
  {
   "cell_type": "code",
   "execution_count": 44,
   "id": "050dffcd",
   "metadata": {},
   "outputs": [
    {
     "data": {
      "text/plain": [
       "array([ 5.,  4., nan,  7.,  8.,  6.,  9., 10., 14.,  2.])"
      ]
     },
     "execution_count": 44,
     "metadata": {},
     "output_type": "execute_result"
    }
   ],
   "source": [
    "car_details['seats'].unique()"
   ]
  },
  {
   "cell_type": "code",
   "execution_count": 45,
   "id": "95bcdabb",
   "metadata": {},
   "outputs": [
    {
     "data": {
      "text/plain": [
       "Timestamp('2021-11-17 02:06:18.120869')"
      ]
     },
     "execution_count": 45,
     "metadata": {},
     "output_type": "execute_result"
    }
   ],
   "source": [
    "pd.to_datetime('today')"
   ]
  },
  {
   "cell_type": "code",
   "execution_count": 46,
   "id": "69eeb3db",
   "metadata": {},
   "outputs": [
    {
     "data": {
      "text/plain": [
       "2021"
      ]
     },
     "execution_count": 46,
     "metadata": {},
     "output_type": "execute_result"
    }
   ],
   "source": [
    "pd.to_datetime('today').year"
   ]
  },
  {
   "cell_type": "markdown",
   "id": "08579d3a",
   "metadata": {},
   "source": [
    "## Adding a new column for the purpose of EDA to check the selling price variation with respect to 'year of service'"
   ]
  },
  {
   "cell_type": "code",
   "execution_count": 47,
   "id": "e3627bea",
   "metadata": {},
   "outputs": [],
   "source": [
    "car_details['Year_of_service'] = car_details['year'].apply(lambda x : pd.to_datetime('today').year - x)"
   ]
  },
  {
   "cell_type": "code",
   "execution_count": 48,
   "id": "297d25cd",
   "metadata": {},
   "outputs": [
    {
     "data": {
      "text/html": [
       "<div>\n",
       "<style scoped>\n",
       "    .dataframe tbody tr th:only-of-type {\n",
       "        vertical-align: middle;\n",
       "    }\n",
       "\n",
       "    .dataframe tbody tr th {\n",
       "        vertical-align: top;\n",
       "    }\n",
       "\n",
       "    .dataframe thead th {\n",
       "        text-align: right;\n",
       "    }\n",
       "</style>\n",
       "<table border=\"1\" class=\"dataframe\">\n",
       "  <thead>\n",
       "    <tr style=\"text-align: right;\">\n",
       "      <th></th>\n",
       "      <th>year</th>\n",
       "      <th>Year_of_service</th>\n",
       "    </tr>\n",
       "    <tr>\n",
       "      <th>name</th>\n",
       "      <th></th>\n",
       "      <th></th>\n",
       "    </tr>\n",
       "  </thead>\n",
       "  <tbody>\n",
       "    <tr>\n",
       "      <th>Maruti Swift Dzire VDI</th>\n",
       "      <td>2014</td>\n",
       "      <td>7</td>\n",
       "    </tr>\n",
       "    <tr>\n",
       "      <th>Skoda Rapid 1.5 TDI Ambition</th>\n",
       "      <td>2014</td>\n",
       "      <td>7</td>\n",
       "    </tr>\n",
       "    <tr>\n",
       "      <th>Honda City 2017-2020 EXi</th>\n",
       "      <td>2006</td>\n",
       "      <td>15</td>\n",
       "    </tr>\n",
       "    <tr>\n",
       "      <th>Hyundai i20 Sportz Diesel</th>\n",
       "      <td>2010</td>\n",
       "      <td>11</td>\n",
       "    </tr>\n",
       "    <tr>\n",
       "      <th>Maruti Swift VXI BSIII</th>\n",
       "      <td>2007</td>\n",
       "      <td>14</td>\n",
       "    </tr>\n",
       "  </tbody>\n",
       "</table>\n",
       "</div>"
      ],
      "text/plain": [
       "                              year  Year_of_service\n",
       "name                                               \n",
       "Maruti Swift Dzire VDI        2014                7\n",
       "Skoda Rapid 1.5 TDI Ambition  2014                7\n",
       "Honda City 2017-2020 EXi      2006               15\n",
       "Hyundai i20 Sportz Diesel     2010               11\n",
       "Maruti Swift VXI BSIII        2007               14"
      ]
     },
     "execution_count": 48,
     "metadata": {},
     "output_type": "execute_result"
    }
   ],
   "source": [
    "car_details[['year','Year_of_service']].head()"
   ]
  },
  {
   "cell_type": "code",
   "execution_count": 49,
   "id": "928b03b5",
   "metadata": {},
   "outputs": [],
   "source": [
    "corr1 = car_details.corr()"
   ]
  },
  {
   "cell_type": "code",
   "execution_count": 50,
   "id": "74503f98",
   "metadata": {},
   "outputs": [
    {
     "data": {
      "text/html": [
       "<div>\n",
       "<style scoped>\n",
       "    .dataframe tbody tr th:only-of-type {\n",
       "        vertical-align: middle;\n",
       "    }\n",
       "\n",
       "    .dataframe tbody tr th {\n",
       "        vertical-align: top;\n",
       "    }\n",
       "\n",
       "    .dataframe thead th {\n",
       "        text-align: right;\n",
       "    }\n",
       "</style>\n",
       "<table border=\"1\" class=\"dataframe\">\n",
       "  <thead>\n",
       "    <tr style=\"text-align: right;\">\n",
       "      <th></th>\n",
       "      <th>year</th>\n",
       "      <th>selling_price</th>\n",
       "      <th>km_driven</th>\n",
       "      <th>mileage</th>\n",
       "      <th>engine</th>\n",
       "      <th>max_power</th>\n",
       "      <th>seats</th>\n",
       "      <th>Year_of_service</th>\n",
       "    </tr>\n",
       "  </thead>\n",
       "  <tbody>\n",
       "    <tr>\n",
       "      <th>year</th>\n",
       "      <td>1.000000</td>\n",
       "      <td>0.414092</td>\n",
       "      <td>-0.418006</td>\n",
       "      <td>0.329145</td>\n",
       "      <td>0.018848</td>\n",
       "      <td>0.226320</td>\n",
       "      <td>-0.009144</td>\n",
       "      <td>-1.000000</td>\n",
       "    </tr>\n",
       "    <tr>\n",
       "      <th>selling_price</th>\n",
       "      <td>0.414092</td>\n",
       "      <td>1.000000</td>\n",
       "      <td>-0.225534</td>\n",
       "      <td>-0.126054</td>\n",
       "      <td>0.455734</td>\n",
       "      <td>0.748489</td>\n",
       "      <td>0.041358</td>\n",
       "      <td>-0.414092</td>\n",
       "    </tr>\n",
       "    <tr>\n",
       "      <th>km_driven</th>\n",
       "      <td>-0.418006</td>\n",
       "      <td>-0.225534</td>\n",
       "      <td>1.000000</td>\n",
       "      <td>-0.173073</td>\n",
       "      <td>0.205914</td>\n",
       "      <td>-0.038075</td>\n",
       "      <td>0.227336</td>\n",
       "      <td>0.418006</td>\n",
       "    </tr>\n",
       "    <tr>\n",
       "      <th>mileage</th>\n",
       "      <td>0.329145</td>\n",
       "      <td>-0.126054</td>\n",
       "      <td>-0.173073</td>\n",
       "      <td>1.000000</td>\n",
       "      <td>-0.575831</td>\n",
       "      <td>-0.374621</td>\n",
       "      <td>-0.452085</td>\n",
       "      <td>-0.329145</td>\n",
       "    </tr>\n",
       "    <tr>\n",
       "      <th>engine</th>\n",
       "      <td>0.018848</td>\n",
       "      <td>0.455734</td>\n",
       "      <td>0.205914</td>\n",
       "      <td>-0.575831</td>\n",
       "      <td>1.000000</td>\n",
       "      <td>0.703975</td>\n",
       "      <td>0.610309</td>\n",
       "      <td>-0.018848</td>\n",
       "    </tr>\n",
       "    <tr>\n",
       "      <th>max_power</th>\n",
       "      <td>0.226320</td>\n",
       "      <td>0.748489</td>\n",
       "      <td>-0.038075</td>\n",
       "      <td>-0.374621</td>\n",
       "      <td>0.703975</td>\n",
       "      <td>1.000000</td>\n",
       "      <td>0.191999</td>\n",
       "      <td>-0.226320</td>\n",
       "    </tr>\n",
       "    <tr>\n",
       "      <th>seats</th>\n",
       "      <td>-0.009144</td>\n",
       "      <td>0.041358</td>\n",
       "      <td>0.227336</td>\n",
       "      <td>-0.452085</td>\n",
       "      <td>0.610309</td>\n",
       "      <td>0.191999</td>\n",
       "      <td>1.000000</td>\n",
       "      <td>0.009144</td>\n",
       "    </tr>\n",
       "    <tr>\n",
       "      <th>Year_of_service</th>\n",
       "      <td>-1.000000</td>\n",
       "      <td>-0.414092</td>\n",
       "      <td>0.418006</td>\n",
       "      <td>-0.329145</td>\n",
       "      <td>-0.018848</td>\n",
       "      <td>-0.226320</td>\n",
       "      <td>0.009144</td>\n",
       "      <td>1.000000</td>\n",
       "    </tr>\n",
       "  </tbody>\n",
       "</table>\n",
       "</div>"
      ],
      "text/plain": [
       "                     year  selling_price  km_driven   mileage    engine  \\\n",
       "year             1.000000       0.414092  -0.418006  0.329145  0.018848   \n",
       "selling_price    0.414092       1.000000  -0.225534 -0.126054  0.455734   \n",
       "km_driven       -0.418006      -0.225534   1.000000 -0.173073  0.205914   \n",
       "mileage          0.329145      -0.126054  -0.173073  1.000000 -0.575831   \n",
       "engine           0.018848       0.455734   0.205914 -0.575831  1.000000   \n",
       "max_power        0.226320       0.748489  -0.038075 -0.374621  0.703975   \n",
       "seats           -0.009144       0.041358   0.227336 -0.452085  0.610309   \n",
       "Year_of_service -1.000000      -0.414092   0.418006 -0.329145 -0.018848   \n",
       "\n",
       "                 max_power     seats  Year_of_service  \n",
       "year              0.226320 -0.009144        -1.000000  \n",
       "selling_price     0.748489  0.041358        -0.414092  \n",
       "km_driven        -0.038075  0.227336         0.418006  \n",
       "mileage          -0.374621 -0.452085        -0.329145  \n",
       "engine            0.703975  0.610309        -0.018848  \n",
       "max_power         1.000000  0.191999        -0.226320  \n",
       "seats             0.191999  1.000000         0.009144  \n",
       "Year_of_service  -0.226320  0.009144         1.000000  "
      ]
     },
     "execution_count": 50,
     "metadata": {},
     "output_type": "execute_result"
    }
   ],
   "source": [
    "corr1"
   ]
  },
  {
   "cell_type": "markdown",
   "id": "9abfb3cf",
   "metadata": {},
   "source": [
    "## Making Box Plot of the numeric attributes to check if there is any outliers"
   ]
  },
  {
   "cell_type": "markdown",
   "id": "1ed913ec",
   "metadata": {},
   "source": [
    "## Box plot of 'max_power' attribute:"
   ]
  },
  {
   "cell_type": "code",
   "execution_count": 51,
   "id": "80c4566c",
   "metadata": {},
   "outputs": [
    {
     "data": {
      "text/plain": [
       "<AxesSubplot:ylabel='max_power'>"
      ]
     },
     "execution_count": 51,
     "metadata": {},
     "output_type": "execute_result"
    },
    {
     "data": {
      "image/png": "[encoded data removed]",
      "text/plain": [
       "<Figure size 432x288 with 1 Axes>"
      ]
     },
     "metadata": {
      "needs_background": "light"
     },
     "output_type": "display_data"
    }
   ],
   "source": [
    "sns.boxplot(y='max_power', data=car_details)"
   ]
  },
  {
   "cell_type": "code",
   "execution_count": 52,
   "id": "9c32477f",
   "metadata": {
    "scrolled": false
   },
   "outputs": [
    {
     "data": {
      "text/plain": [
       "<AxesSubplot:xlabel='year', ylabel='max_power'>"
      ]
     },
     "execution_count": 52,
     "metadata": {},
     "output_type": "execute_result"
    },
    {
     "data": {
      "image/png": "[encoded data removed]",
      "text/plain": [
       "<Figure size 1080x576 with 1 Axes>"
      ]
     },
     "metadata": {
      "needs_background": "light"
     },
     "output_type": "display_data"
    }
   ],
   "source": [
    "plt.figure(figsize=(15,8))\n",
    "sns.boxplot(x='year', y='max_power',data=car_details)"
   ]
  },
  {
   "cell_type": "markdown",
   "id": "33ee63d4",
   "metadata": {},
   "source": [
    "## Box plot of 'engine' attribute:"
   ]
  },
  {
   "cell_type": "code",
   "execution_count": 53,
   "id": "9418996d",
   "metadata": {},
   "outputs": [
    {
     "data": {
      "text/plain": [
       "<AxesSubplot:ylabel='engine'>"
      ]
     },
     "execution_count": 53,
     "metadata": {},
     "output_type": "execute_result"
    },
    {
     "data": {
      "image/png": "[encoded data removed]",
      "text/plain": [
       "<Figure size 432x288 with 1 Axes>"
      ]
     },
     "metadata": {
      "needs_background": "light"
     },
     "output_type": "display_data"
    }
   ],
   "source": [
    "sns.boxplot(y='engine', data=car_details)"
   ]
  },
  {
   "cell_type": "markdown",
   "id": "c19867a6",
   "metadata": {},
   "source": [
    "## Box plot of 'seats' attribute:"
   ]
  },
  {
   "cell_type": "code",
   "execution_count": 54,
   "id": "f347c2f9",
   "metadata": {
    "scrolled": true
   },
   "outputs": [
    {
     "data": {
      "text/plain": [
       "<AxesSubplot:ylabel='seats'>"
      ]
     },
     "execution_count": 54,
     "metadata": {},
     "output_type": "execute_result"
    },
    {
     "data": {
      "image/png": "[encoded data removed]",
      "text/plain": [
       "<Figure size 432x288 with 1 Axes>"
      ]
     },
     "metadata": {
      "needs_background": "light"
     },
     "output_type": "display_data"
    }
   ],
   "source": [
    "sns.boxplot(y='seats', data=car_details)"
   ]
  },
  {
   "cell_type": "markdown",
   "id": "622e6c14",
   "metadata": {},
   "source": [
    "## Box plot of 'mileage' attribute:"
   ]
  },
  {
   "cell_type": "code",
   "execution_count": 55,
   "id": "ba54305a",
   "metadata": {
    "scrolled": true
   },
   "outputs": [
    {
     "data": {
      "text/plain": [
       "<AxesSubplot:ylabel='mileage'>"
      ]
     },
     "execution_count": 55,
     "metadata": {},
     "output_type": "execute_result"
    },
    {
     "data": {
      "image/png": "[encoded data removed]",
      "text/plain": [
       "<Figure size 432x288 with 1 Axes>"
      ]
     },
     "metadata": {
      "needs_background": "light"
     },
     "output_type": "display_data"
    }
   ],
   "source": [
    "sns.boxplot(y='mileage', data=car_details)"
   ]
  },
  {
   "cell_type": "code",
   "execution_count": 56,
   "id": "126a0e8d",
   "metadata": {},
   "outputs": [
    {
     "data": {
      "text/plain": [
       "<AxesSubplot:ylabel='km_driven'>"
      ]
     },
     "execution_count": 56,
     "metadata": {},
     "output_type": "execute_result"
    },
    {
     "data": {
      "image/png": "[encoded data removed]",
      "text/plain": [
       "<Figure size 432x288 with 1 Axes>"
      ]
     },
     "metadata": {
      "needs_background": "light"
     },
     "output_type": "display_data"
    }
   ],
   "source": [
    "sns.boxplot(y='km_driven', data=car_details)"
   ]
  },
  {
   "cell_type": "markdown",
   "id": "4957d64d",
   "metadata": {},
   "source": [
    "## As there are outliers present in the 'max_power','engine','mileage','seats' attribute so we have to impute its null values using the 'median' instead of 'mean' as 'mean' is influenced by outliers."
   ]
  },
  {
   "cell_type": "code",
   "execution_count": null,
   "id": "589b2da3",
   "metadata": {},
   "outputs": [],
   "source": []
  },
  {
   "cell_type": "markdown",
   "id": "dd01e76f",
   "metadata": {},
   "source": [
    "## Statistical summary for the object type attributes"
   ]
  },
  {
   "cell_type": "code",
   "execution_count": 57,
   "id": "1a8a8e5f",
   "metadata": {},
   "outputs": [
    {
     "data": {
      "text/html": [
       "<div>\n",
       "<style scoped>\n",
       "    .dataframe tbody tr th:only-of-type {\n",
       "        vertical-align: middle;\n",
       "    }\n",
       "\n",
       "    .dataframe tbody tr th {\n",
       "        vertical-align: top;\n",
       "    }\n",
       "\n",
       "    .dataframe thead th {\n",
       "        text-align: right;\n",
       "    }\n",
       "</style>\n",
       "<table border=\"1\" class=\"dataframe\">\n",
       "  <thead>\n",
       "    <tr style=\"text-align: right;\">\n",
       "      <th></th>\n",
       "      <th>fuel</th>\n",
       "      <th>seller_type</th>\n",
       "      <th>transmission</th>\n",
       "      <th>owner</th>\n",
       "    </tr>\n",
       "  </thead>\n",
       "  <tbody>\n",
       "    <tr>\n",
       "      <th>count</th>\n",
       "      <td>8128</td>\n",
       "      <td>8128</td>\n",
       "      <td>8128</td>\n",
       "      <td>8128</td>\n",
       "    </tr>\n",
       "    <tr>\n",
       "      <th>unique</th>\n",
       "      <td>4</td>\n",
       "      <td>3</td>\n",
       "      <td>2</td>\n",
       "      <td>5</td>\n",
       "    </tr>\n",
       "    <tr>\n",
       "      <th>top</th>\n",
       "      <td>Diesel</td>\n",
       "      <td>Individual</td>\n",
       "      <td>Manual</td>\n",
       "      <td>First Owner</td>\n",
       "    </tr>\n",
       "    <tr>\n",
       "      <th>freq</th>\n",
       "      <td>4402</td>\n",
       "      <td>6766</td>\n",
       "      <td>7078</td>\n",
       "      <td>5289</td>\n",
       "    </tr>\n",
       "  </tbody>\n",
       "</table>\n",
       "</div>"
      ],
      "text/plain": [
       "          fuel seller_type transmission        owner\n",
       "count     8128        8128         8128         8128\n",
       "unique       4           3            2            5\n",
       "top     Diesel  Individual       Manual  First Owner\n",
       "freq      4402        6766         7078         5289"
      ]
     },
     "execution_count": 57,
     "metadata": {},
     "output_type": "execute_result"
    }
   ],
   "source": [
    "car_details.describe(include=object)"
   ]
  },
  {
   "cell_type": "code",
   "execution_count": 58,
   "id": "96d0ae15",
   "metadata": {},
   "outputs": [
    {
     "data": {
      "text/plain": [
       "array(['Diesel', 'Petrol', 'LPG', 'CNG'], dtype=object)"
      ]
     },
     "execution_count": 58,
     "metadata": {},
     "output_type": "execute_result"
    }
   ],
   "source": [
    "car_details['fuel'].unique()"
   ]
  },
  {
   "cell_type": "markdown",
   "id": "ee7fc47f",
   "metadata": {},
   "source": [
    "## Fuel"
   ]
  },
  {
   "cell_type": "code",
   "execution_count": 59,
   "id": "c9cb453b",
   "metadata": {},
   "outputs": [
    {
     "data": {
      "text/plain": [
       "<AxesSubplot:xlabel='fuel', ylabel='count'>"
      ]
     },
     "execution_count": 59,
     "metadata": {},
     "output_type": "execute_result"
    },
    {
     "data": {
      "image/png": "[encoded data removed]",
      "text/plain": [
       "<Figure size 432x288 with 1 Axes>"
      ]
     },
     "metadata": {
      "needs_background": "light"
     },
     "output_type": "display_data"
    }
   ],
   "source": [
    "sns.countplot(x='fuel',data=car_details)"
   ]
  },
  {
   "cell_type": "code",
   "execution_count": 60,
   "id": "125820ec",
   "metadata": {
    "scrolled": true
   },
   "outputs": [
    {
     "data": {
      "text/plain": [
       "<AxesSubplot:xlabel='fuel'>"
      ]
     },
     "execution_count": 60,
     "metadata": {},
     "output_type": "execute_result"
    },
    {
     "data": {
      "image/png": "[encoded data removed]",
      "text/plain": [
       "<Figure size 432x288 with 1 Axes>"
      ]
     },
     "metadata": {
      "needs_background": "light"
     },
     "output_type": "display_data"
    }
   ],
   "source": [
    "plt.figure()\n",
    "car_details.groupby('fuel')['selling_price'].mean().plot(kind='bar')\n"
   ]
  },
  {
   "cell_type": "markdown",
   "id": "d3553d18",
   "metadata": {},
   "source": [
    "#### As for each Fuel the mean selling price of car is varying huge so we can assume that fuel can be a good predictor or it may have a high influence on the selling price"
   ]
  },
  {
   "cell_type": "code",
   "execution_count": 61,
   "id": "0d36b1eb",
   "metadata": {
    "scrolled": false
   },
   "outputs": [],
   "source": [
    "#car_details['selling_price'].groupby(car_details['fuel']).std()"
   ]
  },
  {
   "cell_type": "markdown",
   "id": "ce6f3b79",
   "metadata": {},
   "source": [
    "## Owner"
   ]
  },
  {
   "cell_type": "code",
   "execution_count": 62,
   "id": "0b7d0e95",
   "metadata": {
    "scrolled": false
   },
   "outputs": [
    {
     "data": {
      "text/plain": [
       "<AxesSubplot:xlabel='owner', ylabel='count'>"
      ]
     },
     "execution_count": 62,
     "metadata": {},
     "output_type": "execute_result"
    },
    {
     "data": {
      "image/png": "[encoded data removed]",
      "text/plain": [
       "<Figure size 576x432 with 1 Axes>"
      ]
     },
     "metadata": {
      "needs_background": "light"
     },
     "output_type": "display_data"
    }
   ],
   "source": [
    "plt.figure(figsize=(8,6))\n",
    "sns.countplot(x='owner', data=car_details)"
   ]
  },
  {
   "cell_type": "markdown",
   "id": "a4a57590",
   "metadata": {},
   "source": [
    "## Checking Mean Selling price for individual group of different attributes"
   ]
  },
  {
   "cell_type": "code",
   "execution_count": 63,
   "id": "1c378ad9",
   "metadata": {},
   "outputs": [
    {
     "data": {
      "text/plain": [
       "<AxesSubplot:xlabel='owner'>"
      ]
     },
     "execution_count": 63,
     "metadata": {},
     "output_type": "execute_result"
    },
    {
     "data": {
      "image/png": "[encoded data removed]",
      "text/plain": [
       "<Figure size 432x288 with 1 Axes>"
      ]
     },
     "metadata": {
      "needs_background": "light"
     },
     "output_type": "display_data"
    }
   ],
   "source": [
    "plt.figure()\n",
    "car_details.groupby('owner')['selling_price'].mean().plot(kind='bar')"
   ]
  },
  {
   "cell_type": "code",
   "execution_count": 64,
   "id": "daba3ceb",
   "metadata": {},
   "outputs": [
    {
     "data": {
      "text/plain": [
       "<AxesSubplot:xlabel='seller_type'>"
      ]
     },
     "execution_count": 64,
     "metadata": {},
     "output_type": "execute_result"
    },
    {
     "data": {
      "image/png": "[encoded data removed]",
      "text/plain": [
       "<Figure size 432x288 with 1 Axes>"
      ]
     },
     "metadata": {
      "needs_background": "light"
     },
     "output_type": "display_data"
    }
   ],
   "source": [
    "plt.figure()\n",
    "car_details.groupby('seller_type')['selling_price'].mean().plot(kind='bar')"
   ]
  },
  {
   "cell_type": "markdown",
   "id": "d4b67f1b",
   "metadata": {},
   "source": [
    "#### For Test Drive Car the the mean price is higher tha others"
   ]
  },
  {
   "cell_type": "markdown",
   "id": "2cc0c0b8",
   "metadata": {},
   "source": [
    "## Transmission"
   ]
  },
  {
   "cell_type": "code",
   "execution_count": 65,
   "id": "3f232f9b",
   "metadata": {
    "scrolled": true
   },
   "outputs": [
    {
     "data": {
      "text/plain": [
       "<AxesSubplot:xlabel='transmission', ylabel='count'>"
      ]
     },
     "execution_count": 65,
     "metadata": {},
     "output_type": "execute_result"
    },
    {
     "data": {
      "image/png": "[encoded data removed]",
      "text/plain": [
       "<Figure size 432x288 with 1 Axes>"
      ]
     },
     "metadata": {
      "needs_background": "light"
     },
     "output_type": "display_data"
    }
   ],
   "source": [
    "sns.countplot(x='transmission',data=car_details)"
   ]
  },
  {
   "cell_type": "code",
   "execution_count": 66,
   "id": "a5634b4a",
   "metadata": {},
   "outputs": [
    {
     "data": {
      "text/plain": [
       "<AxesSubplot:xlabel='transmission'>"
      ]
     },
     "execution_count": 66,
     "metadata": {},
     "output_type": "execute_result"
    },
    {
     "data": {
      "image/png": "[encoded data removed]",
      "text/plain": [
       "<Figure size 432x288 with 1 Axes>"
      ]
     },
     "metadata": {
      "needs_background": "light"
     },
     "output_type": "display_data"
    }
   ],
   "source": [
    "plt.figure()\n",
    "car_details.groupby('transmission')['selling_price'].mean().plot(kind='bar')"
   ]
  },
  {
   "cell_type": "markdown",
   "id": "1e5683d7",
   "metadata": {},
   "source": [
    "## Seller_type"
   ]
  },
  {
   "cell_type": "code",
   "execution_count": 67,
   "id": "e3afab97",
   "metadata": {},
   "outputs": [
    {
     "data": {
      "text/plain": [
       "<AxesSubplot:xlabel='seller_type', ylabel='count'>"
      ]
     },
     "execution_count": 67,
     "metadata": {},
     "output_type": "execute_result"
    },
    {
     "data": {
      "image/png": "[encoded data removed]",
      "text/plain": [
       "<Figure size 432x288 with 1 Axes>"
      ]
     },
     "metadata": {
      "needs_background": "light"
     },
     "output_type": "display_data"
    }
   ],
   "source": [
    "sns.countplot(x='seller_type',data=car_details)"
   ]
  },
  {
   "cell_type": "code",
   "execution_count": 68,
   "id": "aac32562",
   "metadata": {
    "scrolled": true
   },
   "outputs": [
    {
     "data": {
      "text/html": [
       "<div>\n",
       "<style scoped>\n",
       "    .dataframe tbody tr th:only-of-type {\n",
       "        vertical-align: middle;\n",
       "    }\n",
       "\n",
       "    .dataframe tbody tr th {\n",
       "        vertical-align: top;\n",
       "    }\n",
       "\n",
       "    .dataframe thead th {\n",
       "        text-align: right;\n",
       "    }\n",
       "</style>\n",
       "<table border=\"1\" class=\"dataframe\">\n",
       "  <thead>\n",
       "    <tr style=\"text-align: right;\">\n",
       "      <th></th>\n",
       "      <th>year</th>\n",
       "      <th>selling_price</th>\n",
       "      <th>km_driven</th>\n",
       "      <th>fuel</th>\n",
       "      <th>seller_type</th>\n",
       "      <th>transmission</th>\n",
       "      <th>owner</th>\n",
       "      <th>mileage</th>\n",
       "      <th>engine</th>\n",
       "      <th>max_power</th>\n",
       "      <th>seats</th>\n",
       "      <th>Year_of_service</th>\n",
       "    </tr>\n",
       "    <tr>\n",
       "      <th>name</th>\n",
       "      <th></th>\n",
       "      <th></th>\n",
       "      <th></th>\n",
       "      <th></th>\n",
       "      <th></th>\n",
       "      <th></th>\n",
       "      <th></th>\n",
       "      <th></th>\n",
       "      <th></th>\n",
       "      <th></th>\n",
       "      <th></th>\n",
       "      <th></th>\n",
       "    </tr>\n",
       "  </thead>\n",
       "  <tbody>\n",
       "    <tr>\n",
       "      <th>Maruti Swift Dzire VDI</th>\n",
       "      <td>2014</td>\n",
       "      <td>450000</td>\n",
       "      <td>145500</td>\n",
       "      <td>Diesel</td>\n",
       "      <td>Individual</td>\n",
       "      <td>Manual</td>\n",
       "      <td>First Owner</td>\n",
       "      <td>23.40</td>\n",
       "      <td>1248.0</td>\n",
       "      <td>74.00</td>\n",
       "      <td>5.0</td>\n",
       "      <td>7</td>\n",
       "    </tr>\n",
       "    <tr>\n",
       "      <th>Skoda Rapid 1.5 TDI Ambition</th>\n",
       "      <td>2014</td>\n",
       "      <td>370000</td>\n",
       "      <td>120000</td>\n",
       "      <td>Diesel</td>\n",
       "      <td>Individual</td>\n",
       "      <td>Manual</td>\n",
       "      <td>Second Owner</td>\n",
       "      <td>21.14</td>\n",
       "      <td>1498.0</td>\n",
       "      <td>103.52</td>\n",
       "      <td>5.0</td>\n",
       "      <td>7</td>\n",
       "    </tr>\n",
       "    <tr>\n",
       "      <th>Honda City 2017-2020 EXi</th>\n",
       "      <td>2006</td>\n",
       "      <td>158000</td>\n",
       "      <td>140000</td>\n",
       "      <td>Petrol</td>\n",
       "      <td>Individual</td>\n",
       "      <td>Manual</td>\n",
       "      <td>Third Owner</td>\n",
       "      <td>17.70</td>\n",
       "      <td>1497.0</td>\n",
       "      <td>78.00</td>\n",
       "      <td>5.0</td>\n",
       "      <td>15</td>\n",
       "    </tr>\n",
       "    <tr>\n",
       "      <th>Hyundai i20 Sportz Diesel</th>\n",
       "      <td>2010</td>\n",
       "      <td>225000</td>\n",
       "      <td>127000</td>\n",
       "      <td>Diesel</td>\n",
       "      <td>Individual</td>\n",
       "      <td>Manual</td>\n",
       "      <td>First Owner</td>\n",
       "      <td>23.00</td>\n",
       "      <td>1396.0</td>\n",
       "      <td>90.00</td>\n",
       "      <td>5.0</td>\n",
       "      <td>11</td>\n",
       "    </tr>\n",
       "    <tr>\n",
       "      <th>Maruti Swift VXI BSIII</th>\n",
       "      <td>2007</td>\n",
       "      <td>130000</td>\n",
       "      <td>120000</td>\n",
       "      <td>Petrol</td>\n",
       "      <td>Individual</td>\n",
       "      <td>Manual</td>\n",
       "      <td>First Owner</td>\n",
       "      <td>16.10</td>\n",
       "      <td>1298.0</td>\n",
       "      <td>88.20</td>\n",
       "      <td>5.0</td>\n",
       "      <td>14</td>\n",
       "    </tr>\n",
       "  </tbody>\n",
       "</table>\n",
       "</div>"
      ],
      "text/plain": [
       "                              year  selling_price  km_driven    fuel  \\\n",
       "name                                                                   \n",
       "Maruti Swift Dzire VDI        2014         450000     145500  Diesel   \n",
       "Skoda Rapid 1.5 TDI Ambition  2014         370000     120000  Diesel   \n",
       "Honda City 2017-2020 EXi      2006         158000     140000  Petrol   \n",
       "Hyundai i20 Sportz Diesel     2010         225000     127000  Diesel   \n",
       "Maruti Swift VXI BSIII        2007         130000     120000  Petrol   \n",
       "\n",
       "                             seller_type transmission         owner  mileage  \\\n",
       "name                                                                           \n",
       "Maruti Swift Dzire VDI        Individual       Manual   First Owner    23.40   \n",
       "Skoda Rapid 1.5 TDI Ambition  Individual       Manual  Second Owner    21.14   \n",
       "Honda City 2017-2020 EXi      Individual       Manual   Third Owner    17.70   \n",
       "Hyundai i20 Sportz Diesel     Individual       Manual   First Owner    23.00   \n",
       "Maruti Swift VXI BSIII        Individual       Manual   First Owner    16.10   \n",
       "\n",
       "                              engine  max_power  seats  Year_of_service  \n",
       "name                                                                     \n",
       "Maruti Swift Dzire VDI        1248.0      74.00    5.0                7  \n",
       "Skoda Rapid 1.5 TDI Ambition  1498.0     103.52    5.0                7  \n",
       "Honda City 2017-2020 EXi      1497.0      78.00    5.0               15  \n",
       "Hyundai i20 Sportz Diesel     1396.0      90.00    5.0               11  \n",
       "Maruti Swift VXI BSIII        1298.0      88.20    5.0               14  "
      ]
     },
     "execution_count": 68,
     "metadata": {},
     "output_type": "execute_result"
    }
   ],
   "source": [
    "car_details.head()"
   ]
  },
  {
   "cell_type": "code",
   "execution_count": 69,
   "id": "2150f9d4",
   "metadata": {
    "scrolled": true
   },
   "outputs": [
    {
     "data": {
      "text/html": [
       "<div>\n",
       "<style scoped>\n",
       "    .dataframe tbody tr th:only-of-type {\n",
       "        vertical-align: middle;\n",
       "    }\n",
       "\n",
       "    .dataframe tbody tr th {\n",
       "        vertical-align: top;\n",
       "    }\n",
       "\n",
       "    .dataframe thead th {\n",
       "        text-align: right;\n",
       "    }\n",
       "</style>\n",
       "<table border=\"1\" class=\"dataframe\">\n",
       "  <thead>\n",
       "    <tr style=\"text-align: right;\">\n",
       "      <th></th>\n",
       "      <th>year</th>\n",
       "      <th>selling_price</th>\n",
       "      <th>km_driven</th>\n",
       "      <th>mileage</th>\n",
       "      <th>engine</th>\n",
       "      <th>max_power</th>\n",
       "      <th>seats</th>\n",
       "      <th>Year_of_service</th>\n",
       "    </tr>\n",
       "  </thead>\n",
       "  <tbody>\n",
       "    <tr>\n",
       "      <th>count</th>\n",
       "      <td>8128.000000</td>\n",
       "      <td>8.128000e+03</td>\n",
       "      <td>8.128000e+03</td>\n",
       "      <td>7907.000000</td>\n",
       "      <td>7907.000000</td>\n",
       "      <td>7912.000000</td>\n",
       "      <td>7907.000000</td>\n",
       "      <td>8128.000000</td>\n",
       "    </tr>\n",
       "    <tr>\n",
       "      <th>mean</th>\n",
       "      <td>2013.804011</td>\n",
       "      <td>6.382718e+05</td>\n",
       "      <td>6.981951e+04</td>\n",
       "      <td>19.418783</td>\n",
       "      <td>1458.625016</td>\n",
       "      <td>91.517919</td>\n",
       "      <td>5.416719</td>\n",
       "      <td>7.195989</td>\n",
       "    </tr>\n",
       "    <tr>\n",
       "      <th>std</th>\n",
       "      <td>4.044249</td>\n",
       "      <td>8.062534e+05</td>\n",
       "      <td>5.655055e+04</td>\n",
       "      <td>4.037145</td>\n",
       "      <td>503.916303</td>\n",
       "      <td>35.822499</td>\n",
       "      <td>0.959588</td>\n",
       "      <td>4.044249</td>\n",
       "    </tr>\n",
       "    <tr>\n",
       "      <th>min</th>\n",
       "      <td>1983.000000</td>\n",
       "      <td>2.999900e+04</td>\n",
       "      <td>1.000000e+00</td>\n",
       "      <td>0.000000</td>\n",
       "      <td>624.000000</td>\n",
       "      <td>0.000000</td>\n",
       "      <td>2.000000</td>\n",
       "      <td>1.000000</td>\n",
       "    </tr>\n",
       "    <tr>\n",
       "      <th>25%</th>\n",
       "      <td>2011.000000</td>\n",
       "      <td>2.549990e+05</td>\n",
       "      <td>3.500000e+04</td>\n",
       "      <td>16.780000</td>\n",
       "      <td>1197.000000</td>\n",
       "      <td>68.050000</td>\n",
       "      <td>5.000000</td>\n",
       "      <td>4.000000</td>\n",
       "    </tr>\n",
       "    <tr>\n",
       "      <th>50%</th>\n",
       "      <td>2015.000000</td>\n",
       "      <td>4.500000e+05</td>\n",
       "      <td>6.000000e+04</td>\n",
       "      <td>19.300000</td>\n",
       "      <td>1248.000000</td>\n",
       "      <td>82.000000</td>\n",
       "      <td>5.000000</td>\n",
       "      <td>6.000000</td>\n",
       "    </tr>\n",
       "    <tr>\n",
       "      <th>75%</th>\n",
       "      <td>2017.000000</td>\n",
       "      <td>6.750000e+05</td>\n",
       "      <td>9.800000e+04</td>\n",
       "      <td>22.320000</td>\n",
       "      <td>1582.000000</td>\n",
       "      <td>102.000000</td>\n",
       "      <td>5.000000</td>\n",
       "      <td>10.000000</td>\n",
       "    </tr>\n",
       "    <tr>\n",
       "      <th>max</th>\n",
       "      <td>2020.000000</td>\n",
       "      <td>1.000000e+07</td>\n",
       "      <td>2.360457e+06</td>\n",
       "      <td>42.000000</td>\n",
       "      <td>3604.000000</td>\n",
       "      <td>400.000000</td>\n",
       "      <td>14.000000</td>\n",
       "      <td>38.000000</td>\n",
       "    </tr>\n",
       "  </tbody>\n",
       "</table>\n",
       "</div>"
      ],
      "text/plain": [
       "              year  selling_price     km_driven      mileage       engine  \\\n",
       "count  8128.000000   8.128000e+03  8.128000e+03  7907.000000  7907.000000   \n",
       "mean   2013.804011   6.382718e+05  6.981951e+04    19.418783  1458.625016   \n",
       "std       4.044249   8.062534e+05  5.655055e+04     4.037145   503.916303   \n",
       "min    1983.000000   2.999900e+04  1.000000e+00     0.000000   624.000000   \n",
       "25%    2011.000000   2.549990e+05  3.500000e+04    16.780000  1197.000000   \n",
       "50%    2015.000000   4.500000e+05  6.000000e+04    19.300000  1248.000000   \n",
       "75%    2017.000000   6.750000e+05  9.800000e+04    22.320000  1582.000000   \n",
       "max    2020.000000   1.000000e+07  2.360457e+06    42.000000  3604.000000   \n",
       "\n",
       "         max_power        seats  Year_of_service  \n",
       "count  7912.000000  7907.000000      8128.000000  \n",
       "mean     91.517919     5.416719         7.195989  \n",
       "std      35.822499     0.959588         4.044249  \n",
       "min       0.000000     2.000000         1.000000  \n",
       "25%      68.050000     5.000000         4.000000  \n",
       "50%      82.000000     5.000000         6.000000  \n",
       "75%     102.000000     5.000000        10.000000  \n",
       "max     400.000000    14.000000        38.000000  "
      ]
     },
     "execution_count": 69,
     "metadata": {},
     "output_type": "execute_result"
    }
   ],
   "source": [
    "car_details.describe()"
   ]
  },
  {
   "cell_type": "markdown",
   "id": "7a6ec534",
   "metadata": {},
   "source": [
    "## Histogram and KDE "
   ]
  },
  {
   "cell_type": "code",
   "execution_count": 70,
   "id": "8e52e6e0",
   "metadata": {},
   "outputs": [
    {
     "data": {
      "text/plain": [
       "<AxesSubplot:xlabel='selling_price', ylabel='Count'>"
      ]
     },
     "execution_count": 70,
     "metadata": {},
     "output_type": "execute_result"
    },
    {
     "data": {
      "image/png": "[encoded data removed]",
      "text/plain": [
       "<Figure size 432x288 with 1 Axes>"
      ]
     },
     "metadata": {
      "needs_background": "light"
     },
     "output_type": "display_data"
    }
   ],
   "source": [
    "sns.histplot(x='selling_price',data=car_details,bins=10,kde=True)"
   ]
  },
  {
   "cell_type": "code",
   "execution_count": 71,
   "id": "76e5583a",
   "metadata": {},
   "outputs": [
    {
     "data": {
      "text/plain": [
       "<AxesSubplot:xlabel='mileage', ylabel='Count'>"
      ]
     },
     "execution_count": 71,
     "metadata": {},
     "output_type": "execute_result"
    },
    {
     "data": {
      "image/png": "[encoded data removed]",
      "text/plain": [
       "<Figure size 432x288 with 1 Axes>"
      ]
     },
     "metadata": {
      "needs_background": "light"
     },
     "output_type": "display_data"
    }
   ],
   "source": [
    "sns.histplot(x='mileage',data=car_details,bins=10,kde=True)"
   ]
  },
  {
   "cell_type": "code",
   "execution_count": 72,
   "id": "b4e97cb7",
   "metadata": {},
   "outputs": [
    {
     "data": {
      "text/plain": [
       "<AxesSubplot:xlabel='km_driven', ylabel='Count'>"
      ]
     },
     "execution_count": 72,
     "metadata": {},
     "output_type": "execute_result"
    },
    {
     "data": {
      "image/png": "[encoded data removed]",
      "text/plain": [
       "<Figure size 432x288 with 1 Axes>"
      ]
     },
     "metadata": {
      "needs_background": "light"
     },
     "output_type": "display_data"
    }
   ],
   "source": [
    "sns.histplot(x='km_driven',data=car_details,bins=20,kde=True)"
   ]
  },
  {
   "cell_type": "code",
   "execution_count": 73,
   "id": "31fef6b1",
   "metadata": {},
   "outputs": [
    {
     "data": {
      "text/plain": [
       "<AxesSubplot:xlabel='engine', ylabel='Count'>"
      ]
     },
     "execution_count": 73,
     "metadata": {},
     "output_type": "execute_result"
    },
    {
     "data": {
      "image/png": "[encoded data removed]",
      "text/plain": [
       "<Figure size 432x288 with 1 Axes>"
      ]
     },
     "metadata": {
      "needs_background": "light"
     },
     "output_type": "display_data"
    }
   ],
   "source": [
    "sns.histplot(x='engine',data=car_details,bins=20,kde=True)"
   ]
  },
  {
   "cell_type": "code",
   "execution_count": 74,
   "id": "2f081c31",
   "metadata": {},
   "outputs": [
    {
     "data": {
      "text/plain": [
       "<AxesSubplot:xlabel='max_power', ylabel='Count'>"
      ]
     },
     "execution_count": 74,
     "metadata": {},
     "output_type": "execute_result"
    },
    {
     "data": {
      "image/png": "[encoded data removed]",
      "text/plain": [
       "<Figure size 432x288 with 1 Axes>"
      ]
     },
     "metadata": {
      "needs_background": "light"
     },
     "output_type": "display_data"
    }
   ],
   "source": [
    "sns.histplot(x='max_power',data=car_details,bins=20,kde=True)"
   ]
  },
  {
   "cell_type": "code",
   "execution_count": 75,
   "id": "d63d9737",
   "metadata": {},
   "outputs": [
    {
     "data": {
      "text/plain": [
       "<AxesSubplot:xlabel='seats', ylabel='Count'>"
      ]
     },
     "execution_count": 75,
     "metadata": {},
     "output_type": "execute_result"
    },
    {
     "data": {
      "image/png": "[encoded data removed]",
      "text/plain": [
       "<Figure size 432x288 with 1 Axes>"
      ]
     },
     "metadata": {
      "needs_background": "light"
     },
     "output_type": "display_data"
    }
   ],
   "source": [
    "sns.histplot(x='seats',data=car_details,bins=20,kde=True)"
   ]
  },
  {
   "cell_type": "code",
   "execution_count": 76,
   "id": "2fc83fe1",
   "metadata": {
    "scrolled": true
   },
   "outputs": [
    {
     "data": {
      "text/plain": [
       "<AxesSubplot:xlabel='mileage', ylabel='selling_price'>"
      ]
     },
     "execution_count": 76,
     "metadata": {},
     "output_type": "execute_result"
    },
    {
     "data": {
      "image/png": "[encoded data removed]",
      "text/plain": [
       "<Figure size 432x288 with 1 Axes>"
      ]
     },
     "metadata": {
      "needs_background": "light"
     },
     "output_type": "display_data"
    }
   ],
   "source": [
    "sns.scatterplot(x='mileage',y='selling_price',data=car_details, hue='fuel')"
   ]
  },
  {
   "cell_type": "code",
   "execution_count": 77,
   "id": "04bcd5aa",
   "metadata": {
    "scrolled": true
   },
   "outputs": [
    {
     "data": {
      "text/plain": [
       "<AxesSubplot:xlabel='km_driven', ylabel='selling_price'>"
      ]
     },
     "execution_count": 77,
     "metadata": {},
     "output_type": "execute_result"
    },
    {
     "data": {
      "image/png": "[encoded data removed]",
      "text/plain": [
       "<Figure size 432x288 with 1 Axes>"
      ]
     },
     "metadata": {
      "needs_background": "light"
     },
     "output_type": "display_data"
    }
   ],
   "source": [
    "sns.scatterplot(x='km_driven',y='selling_price',data=car_details, hue='fuel')"
   ]
  },
  {
   "cell_type": "code",
   "execution_count": 78,
   "id": "4bc68f1e",
   "metadata": {},
   "outputs": [
    {
     "data": {
      "text/plain": [
       "<AxesSubplot:xlabel='engine', ylabel='selling_price'>"
      ]
     },
     "execution_count": 78,
     "metadata": {},
     "output_type": "execute_result"
    },
    {
     "data": {
      "image/png": "[encoded data removed]",
      "text/plain": [
       "<Figure size 432x288 with 1 Axes>"
      ]
     },
     "metadata": {
      "needs_background": "light"
     },
     "output_type": "display_data"
    }
   ],
   "source": [
    "sns.scatterplot(x='engine',y='selling_price',data=car_details, hue='fuel')"
   ]
  },
  {
   "cell_type": "code",
   "execution_count": 79,
   "id": "fba6fc7b",
   "metadata": {},
   "outputs": [
    {
     "data": {
      "text/plain": [
       "<AxesSubplot:xlabel='max_power', ylabel='selling_price'>"
      ]
     },
     "execution_count": 79,
     "metadata": {},
     "output_type": "execute_result"
    },
    {
     "data": {
      "image/png": "[encoded data removed]",
      "text/plain": [
       "<Figure size 432x288 with 1 Axes>"
      ]
     },
     "metadata": {
      "needs_background": "light"
     },
     "output_type": "display_data"
    }
   ],
   "source": [
    "sns.scatterplot(x='max_power',y='selling_price',data=car_details, hue='fuel')"
   ]
  },
  {
   "cell_type": "code",
   "execution_count": 80,
   "id": "52a0a1ab",
   "metadata": {},
   "outputs": [
    {
     "data": {
      "text/plain": [
       "<AxesSubplot:xlabel='seats', ylabel='selling_price'>"
      ]
     },
     "execution_count": 80,
     "metadata": {},
     "output_type": "execute_result"
    },
    {
     "data": {
      "image/png": "[encoded data removed]",
      "text/plain": [
       "<Figure size 432x288 with 1 Axes>"
      ]
     },
     "metadata": {
      "needs_background": "light"
     },
     "output_type": "display_data"
    }
   ],
   "source": [
    "sns.scatterplot(x='seats',y='selling_price',data=car_details, hue='fuel')"
   ]
  },
  {
   "cell_type": "code",
   "execution_count": 81,
   "id": "32a7e4e5",
   "metadata": {},
   "outputs": [
    {
     "data": {
      "text/plain": [
       "<seaborn.axisgrid.FacetGrid at 0x252ab135580>"
      ]
     },
     "execution_count": 81,
     "metadata": {},
     "output_type": "execute_result"
    },
    {
     "data": {
      "text/plain": [
       "<Figure size 720x432 with 0 Axes>"
      ]
     },
     "metadata": {},
     "output_type": "display_data"
    },
    {
     "data": {
      "image/png": "[encoded data removed]",
      "text/plain": [
       "<Figure size 427x360 with 1 Axes>"
      ]
     },
     "metadata": {
      "needs_background": "light"
     },
     "output_type": "display_data"
    }
   ],
   "source": [
    "plt.figure(figsize=(10,6))\n",
    "sns.lmplot(x='max_power',y='selling_price',markers='+',data=car_details,hue='fuel')"
   ]
  },
  {
   "cell_type": "code",
   "execution_count": 82,
   "id": "c7e5a2b1",
   "metadata": {},
   "outputs": [
    {
     "data": {
      "text/plain": [
       "<seaborn.axisgrid.FacetGrid at 0x252ab195bb0>"
      ]
     },
     "execution_count": 82,
     "metadata": {},
     "output_type": "execute_result"
    },
    {
     "data": {
      "text/plain": [
       "<Figure size 720x432 with 0 Axes>"
      ]
     },
     "metadata": {},
     "output_type": "display_data"
    },
    {
     "data": {
      "image/png": "[encoded data removed]",
      "text/plain": [
       "<Figure size 482x360 with 1 Axes>"
      ]
     },
     "metadata": {
      "needs_background": "light"
     },
     "output_type": "display_data"
    }
   ],
   "source": [
    "plt.figure(figsize=(10,6))\n",
    "sns.lmplot(x='max_power',y='selling_price',markers='+',data=car_details,hue='seller_type')"
   ]
  },
  {
   "cell_type": "code",
   "execution_count": 83,
   "id": "e30c19fd",
   "metadata": {},
   "outputs": [
    {
     "data": {
      "text/plain": [
       "<seaborn.axisgrid.FacetGrid at 0x252ac24b130>"
      ]
     },
     "execution_count": 83,
     "metadata": {},
     "output_type": "execute_result"
    },
    {
     "data": {
      "text/plain": [
       "<Figure size 720x432 with 0 Axes>"
      ]
     },
     "metadata": {},
     "output_type": "display_data"
    },
    {
     "data": {
      "image/png": "[encoded data removed]",
      "text/plain": [
       "<Figure size 427x360 with 1 Axes>"
      ]
     },
     "metadata": {
      "needs_background": "light"
     },
     "output_type": "display_data"
    }
   ],
   "source": [
    "plt.figure(figsize=(10,6))\n",
    "sns.lmplot(x='Year_of_service',y='selling_price',markers='+',data=car_details,hue='fuel')"
   ]
  },
  {
   "cell_type": "code",
   "execution_count": 84,
   "id": "9ca90025",
   "metadata": {
    "scrolled": true
   },
   "outputs": [
    {
     "data": {
      "image/png": "[encoded data removed]",
      "text/plain": [
       "<Figure size 864x288 with 1 Axes>"
      ]
     },
     "metadata": {
      "needs_background": "light"
     },
     "output_type": "display_data"
    }
   ],
   "source": [
    "plt.figure(figsize=(12,4))\n",
    "sns.regplot(x='max_power', y='selling_price', data=car_details,marker ='o',color='red')\n",
    "plt.show()"
   ]
  },
  {
   "cell_type": "markdown",
   "id": "2c5bf2a5",
   "metadata": {},
   "source": [
    "### From the exploratory Data Analysis we can say that if any car has high value of max_power and if it's Diesel driven as well as seller type is 'Dealer' and if its transmission type is 'Automatic' then its price will be higher. More over higher the year of service lower the selling price is also noticed."
   ]
  },
  {
   "cell_type": "code",
   "execution_count": 85,
   "id": "fe23ce90",
   "metadata": {
    "scrolled": false
   },
   "outputs": [
    {
     "data": {
      "text/html": [
       "<div>\n",
       "<style scoped>\n",
       "    .dataframe tbody tr th:only-of-type {\n",
       "        vertical-align: middle;\n",
       "    }\n",
       "\n",
       "    .dataframe tbody tr th {\n",
       "        vertical-align: top;\n",
       "    }\n",
       "\n",
       "    .dataframe thead th {\n",
       "        text-align: right;\n",
       "    }\n",
       "</style>\n",
       "<table border=\"1\" class=\"dataframe\">\n",
       "  <thead>\n",
       "    <tr style=\"text-align: right;\">\n",
       "      <th></th>\n",
       "      <th>year</th>\n",
       "      <th>selling_price</th>\n",
       "      <th>km_driven</th>\n",
       "      <th>fuel</th>\n",
       "      <th>seller_type</th>\n",
       "      <th>transmission</th>\n",
       "      <th>owner</th>\n",
       "      <th>mileage</th>\n",
       "      <th>engine</th>\n",
       "      <th>max_power</th>\n",
       "      <th>seats</th>\n",
       "      <th>Year_of_service</th>\n",
       "    </tr>\n",
       "    <tr>\n",
       "      <th>name</th>\n",
       "      <th></th>\n",
       "      <th></th>\n",
       "      <th></th>\n",
       "      <th></th>\n",
       "      <th></th>\n",
       "      <th></th>\n",
       "      <th></th>\n",
       "      <th></th>\n",
       "      <th></th>\n",
       "      <th></th>\n",
       "      <th></th>\n",
       "      <th></th>\n",
       "    </tr>\n",
       "  </thead>\n",
       "  <tbody>\n",
       "    <tr>\n",
       "      <th>Maruti Swift Dzire VDI</th>\n",
       "      <td>2014</td>\n",
       "      <td>450000</td>\n",
       "      <td>145500</td>\n",
       "      <td>Diesel</td>\n",
       "      <td>Individual</td>\n",
       "      <td>Manual</td>\n",
       "      <td>First Owner</td>\n",
       "      <td>23.40</td>\n",
       "      <td>1248.0</td>\n",
       "      <td>74.00</td>\n",
       "      <td>5.0</td>\n",
       "      <td>7</td>\n",
       "    </tr>\n",
       "    <tr>\n",
       "      <th>Skoda Rapid 1.5 TDI Ambition</th>\n",
       "      <td>2014</td>\n",
       "      <td>370000</td>\n",
       "      <td>120000</td>\n",
       "      <td>Diesel</td>\n",
       "      <td>Individual</td>\n",
       "      <td>Manual</td>\n",
       "      <td>Second Owner</td>\n",
       "      <td>21.14</td>\n",
       "      <td>1498.0</td>\n",
       "      <td>103.52</td>\n",
       "      <td>5.0</td>\n",
       "      <td>7</td>\n",
       "    </tr>\n",
       "    <tr>\n",
       "      <th>Honda City 2017-2020 EXi</th>\n",
       "      <td>2006</td>\n",
       "      <td>158000</td>\n",
       "      <td>140000</td>\n",
       "      <td>Petrol</td>\n",
       "      <td>Individual</td>\n",
       "      <td>Manual</td>\n",
       "      <td>Third Owner</td>\n",
       "      <td>17.70</td>\n",
       "      <td>1497.0</td>\n",
       "      <td>78.00</td>\n",
       "      <td>5.0</td>\n",
       "      <td>15</td>\n",
       "    </tr>\n",
       "    <tr>\n",
       "      <th>Hyundai i20 Sportz Diesel</th>\n",
       "      <td>2010</td>\n",
       "      <td>225000</td>\n",
       "      <td>127000</td>\n",
       "      <td>Diesel</td>\n",
       "      <td>Individual</td>\n",
       "      <td>Manual</td>\n",
       "      <td>First Owner</td>\n",
       "      <td>23.00</td>\n",
       "      <td>1396.0</td>\n",
       "      <td>90.00</td>\n",
       "      <td>5.0</td>\n",
       "      <td>11</td>\n",
       "    </tr>\n",
       "    <tr>\n",
       "      <th>Maruti Swift VXI BSIII</th>\n",
       "      <td>2007</td>\n",
       "      <td>130000</td>\n",
       "      <td>120000</td>\n",
       "      <td>Petrol</td>\n",
       "      <td>Individual</td>\n",
       "      <td>Manual</td>\n",
       "      <td>First Owner</td>\n",
       "      <td>16.10</td>\n",
       "      <td>1298.0</td>\n",
       "      <td>88.20</td>\n",
       "      <td>5.0</td>\n",
       "      <td>14</td>\n",
       "    </tr>\n",
       "    <tr>\n",
       "      <th>...</th>\n",
       "      <td>...</td>\n",
       "      <td>...</td>\n",
       "      <td>...</td>\n",
       "      <td>...</td>\n",
       "      <td>...</td>\n",
       "      <td>...</td>\n",
       "      <td>...</td>\n",
       "      <td>...</td>\n",
       "      <td>...</td>\n",
       "      <td>...</td>\n",
       "      <td>...</td>\n",
       "      <td>...</td>\n",
       "    </tr>\n",
       "    <tr>\n",
       "      <th>Hyundai i20 Magna</th>\n",
       "      <td>2013</td>\n",
       "      <td>320000</td>\n",
       "      <td>110000</td>\n",
       "      <td>Petrol</td>\n",
       "      <td>Individual</td>\n",
       "      <td>Manual</td>\n",
       "      <td>First Owner</td>\n",
       "      <td>18.50</td>\n",
       "      <td>1197.0</td>\n",
       "      <td>82.85</td>\n",
       "      <td>5.0</td>\n",
       "      <td>8</td>\n",
       "    </tr>\n",
       "    <tr>\n",
       "      <th>Hyundai Verna CRDi SX</th>\n",
       "      <td>2007</td>\n",
       "      <td>135000</td>\n",
       "      <td>119000</td>\n",
       "      <td>Diesel</td>\n",
       "      <td>Individual</td>\n",
       "      <td>Manual</td>\n",
       "      <td>Fourth &amp; Above Owner</td>\n",
       "      <td>16.80</td>\n",
       "      <td>1493.0</td>\n",
       "      <td>110.00</td>\n",
       "      <td>5.0</td>\n",
       "      <td>14</td>\n",
       "    </tr>\n",
       "    <tr>\n",
       "      <th>Maruti Swift Dzire ZDi</th>\n",
       "      <td>2009</td>\n",
       "      <td>382000</td>\n",
       "      <td>120000</td>\n",
       "      <td>Diesel</td>\n",
       "      <td>Individual</td>\n",
       "      <td>Manual</td>\n",
       "      <td>First Owner</td>\n",
       "      <td>19.30</td>\n",
       "      <td>1248.0</td>\n",
       "      <td>73.90</td>\n",
       "      <td>5.0</td>\n",
       "      <td>12</td>\n",
       "    </tr>\n",
       "    <tr>\n",
       "      <th>Tata Indigo CR4</th>\n",
       "      <td>2013</td>\n",
       "      <td>290000</td>\n",
       "      <td>25000</td>\n",
       "      <td>Diesel</td>\n",
       "      <td>Individual</td>\n",
       "      <td>Manual</td>\n",
       "      <td>First Owner</td>\n",
       "      <td>23.57</td>\n",
       "      <td>1396.0</td>\n",
       "      <td>70.00</td>\n",
       "      <td>5.0</td>\n",
       "      <td>8</td>\n",
       "    </tr>\n",
       "    <tr>\n",
       "      <th>Tata Indigo CR4</th>\n",
       "      <td>2013</td>\n",
       "      <td>290000</td>\n",
       "      <td>25000</td>\n",
       "      <td>Diesel</td>\n",
       "      <td>Individual</td>\n",
       "      <td>Manual</td>\n",
       "      <td>First Owner</td>\n",
       "      <td>23.57</td>\n",
       "      <td>1396.0</td>\n",
       "      <td>70.00</td>\n",
       "      <td>5.0</td>\n",
       "      <td>8</td>\n",
       "    </tr>\n",
       "  </tbody>\n",
       "</table>\n",
       "<p>8128 rows × 12 columns</p>\n",
       "</div>"
      ],
      "text/plain": [
       "                              year  selling_price  km_driven    fuel  \\\n",
       "name                                                                   \n",
       "Maruti Swift Dzire VDI        2014         450000     145500  Diesel   \n",
       "Skoda Rapid 1.5 TDI Ambition  2014         370000     120000  Diesel   \n",
       "Honda City 2017-2020 EXi      2006         158000     140000  Petrol   \n",
       "Hyundai i20 Sportz Diesel     2010         225000     127000  Diesel   \n",
       "Maruti Swift VXI BSIII        2007         130000     120000  Petrol   \n",
       "...                            ...            ...        ...     ...   \n",
       "Hyundai i20 Magna             2013         320000     110000  Petrol   \n",
       "Hyundai Verna CRDi SX         2007         135000     119000  Diesel   \n",
       "Maruti Swift Dzire ZDi        2009         382000     120000  Diesel   \n",
       "Tata Indigo CR4               2013         290000      25000  Diesel   \n",
       "Tata Indigo CR4               2013         290000      25000  Diesel   \n",
       "\n",
       "                             seller_type transmission                 owner  \\\n",
       "name                                                                          \n",
       "Maruti Swift Dzire VDI        Individual       Manual           First Owner   \n",
       "Skoda Rapid 1.5 TDI Ambition  Individual       Manual          Second Owner   \n",
       "Honda City 2017-2020 EXi      Individual       Manual           Third Owner   \n",
       "Hyundai i20 Sportz Diesel     Individual       Manual           First Owner   \n",
       "Maruti Swift VXI BSIII        Individual       Manual           First Owner   \n",
       "...                                  ...          ...                   ...   \n",
       "Hyundai i20 Magna             Individual       Manual           First Owner   \n",
       "Hyundai Verna CRDi SX         Individual       Manual  Fourth & Above Owner   \n",
       "Maruti Swift Dzire ZDi        Individual       Manual           First Owner   \n",
       "Tata Indigo CR4               Individual       Manual           First Owner   \n",
       "Tata Indigo CR4               Individual       Manual           First Owner   \n",
       "\n",
       "                              mileage  engine  max_power  seats  \\\n",
       "name                                                              \n",
       "Maruti Swift Dzire VDI          23.40  1248.0      74.00    5.0   \n",
       "Skoda Rapid 1.5 TDI Ambition    21.14  1498.0     103.52    5.0   \n",
       "Honda City 2017-2020 EXi        17.70  1497.0      78.00    5.0   \n",
       "Hyundai i20 Sportz Diesel       23.00  1396.0      90.00    5.0   \n",
       "Maruti Swift VXI BSIII          16.10  1298.0      88.20    5.0   \n",
       "...                               ...     ...        ...    ...   \n",
       "Hyundai i20 Magna               18.50  1197.0      82.85    5.0   \n",
       "Hyundai Verna CRDi SX           16.80  1493.0     110.00    5.0   \n",
       "Maruti Swift Dzire ZDi          19.30  1248.0      73.90    5.0   \n",
       "Tata Indigo CR4                 23.57  1396.0      70.00    5.0   \n",
       "Tata Indigo CR4                 23.57  1396.0      70.00    5.0   \n",
       "\n",
       "                              Year_of_service  \n",
       "name                                           \n",
       "Maruti Swift Dzire VDI                      7  \n",
       "Skoda Rapid 1.5 TDI Ambition                7  \n",
       "Honda City 2017-2020 EXi                   15  \n",
       "Hyundai i20 Sportz Diesel                  11  \n",
       "Maruti Swift VXI BSIII                     14  \n",
       "...                                       ...  \n",
       "Hyundai i20 Magna                           8  \n",
       "Hyundai Verna CRDi SX                      14  \n",
       "Maruti Swift Dzire ZDi                     12  \n",
       "Tata Indigo CR4                             8  \n",
       "Tata Indigo CR4                             8  \n",
       "\n",
       "[8128 rows x 12 columns]"
      ]
     },
     "execution_count": 85,
     "metadata": {},
     "output_type": "execute_result"
    }
   ],
   "source": [
    "car_details"
   ]
  },
  {
   "cell_type": "code",
   "execution_count": 86,
   "id": "f875110e",
   "metadata": {},
   "outputs": [
    {
     "data": {
      "text/html": [
       "<div>\n",
       "<style scoped>\n",
       "    .dataframe tbody tr th:only-of-type {\n",
       "        vertical-align: middle;\n",
       "    }\n",
       "\n",
       "    .dataframe tbody tr th {\n",
       "        vertical-align: top;\n",
       "    }\n",
       "\n",
       "    .dataframe thead th {\n",
       "        text-align: right;\n",
       "    }\n",
       "</style>\n",
       "<table border=\"1\" class=\"dataframe\">\n",
       "  <thead>\n",
       "    <tr style=\"text-align: right;\">\n",
       "      <th></th>\n",
       "      <th>year</th>\n",
       "      <th>selling_price</th>\n",
       "      <th>km_driven</th>\n",
       "      <th>fuel</th>\n",
       "      <th>seller_type</th>\n",
       "      <th>transmission</th>\n",
       "      <th>owner</th>\n",
       "      <th>mileage</th>\n",
       "      <th>engine</th>\n",
       "      <th>max_power</th>\n",
       "      <th>seats</th>\n",
       "      <th>Year_of_service</th>\n",
       "    </tr>\n",
       "    <tr>\n",
       "      <th>name</th>\n",
       "      <th></th>\n",
       "      <th></th>\n",
       "      <th></th>\n",
       "      <th></th>\n",
       "      <th></th>\n",
       "      <th></th>\n",
       "      <th></th>\n",
       "      <th></th>\n",
       "      <th></th>\n",
       "      <th></th>\n",
       "      <th></th>\n",
       "      <th></th>\n",
       "    </tr>\n",
       "  </thead>\n",
       "  <tbody>\n",
       "    <tr>\n",
       "      <th>Mahindra Willys CJ 3B 4X4</th>\n",
       "      <td>1983</td>\n",
       "      <td>300000</td>\n",
       "      <td>10000</td>\n",
       "      <td>Diesel</td>\n",
       "      <td>Individual</td>\n",
       "      <td>Manual</td>\n",
       "      <td>Third Owner</td>\n",
       "      <td>NaN</td>\n",
       "      <td>NaN</td>\n",
       "      <td>NaN</td>\n",
       "      <td>NaN</td>\n",
       "      <td>38</td>\n",
       "    </tr>\n",
       "  </tbody>\n",
       "</table>\n",
       "</div>"
      ],
      "text/plain": [
       "                           year  selling_price  km_driven    fuel seller_type  \\\n",
       "name                                                                            \n",
       "Mahindra Willys CJ 3B 4X4  1983         300000      10000  Diesel  Individual   \n",
       "\n",
       "                          transmission        owner  mileage  engine  \\\n",
       "name                                                                   \n",
       "Mahindra Willys CJ 3B 4X4       Manual  Third Owner      NaN     NaN   \n",
       "\n",
       "                           max_power  seats  Year_of_service  \n",
       "name                                                          \n",
       "Mahindra Willys CJ 3B 4X4        NaN    NaN               38  "
      ]
     },
     "execution_count": 86,
     "metadata": {},
     "output_type": "execute_result"
    }
   ],
   "source": [
    "car_details[car_details['Year_of_service']==38]"
   ]
  },
  {
   "cell_type": "markdown",
   "id": "5c192301",
   "metadata": {},
   "source": [
    "## 'Year_of_service' is the column made for EDA and lloking into the selling price variation for old car"
   ]
  },
  {
   "cell_type": "code",
   "execution_count": 87,
   "id": "931c2112",
   "metadata": {},
   "outputs": [],
   "source": [
    "car_details = car_details.drop('Year_of_service',axis=1)"
   ]
  },
  {
   "cell_type": "code",
   "execution_count": 88,
   "id": "50fcdda7",
   "metadata": {},
   "outputs": [
    {
     "name": "stdout",
     "output_type": "stream",
     "text": [
      "<class 'pandas.core.frame.DataFrame'>\n",
      "Index: 8128 entries, Maruti Swift Dzire VDI to Tata Indigo CR4\n",
      "Data columns (total 11 columns):\n",
      " #   Column         Non-Null Count  Dtype  \n",
      "---  ------         --------------  -----  \n",
      " 0   year           8128 non-null   int64  \n",
      " 1   selling_price  8128 non-null   int64  \n",
      " 2   km_driven      8128 non-null   int64  \n",
      " 3   fuel           8128 non-null   object \n",
      " 4   seller_type    8128 non-null   object \n",
      " 5   transmission   8128 non-null   object \n",
      " 6   owner          8128 non-null   object \n",
      " 7   mileage        7907 non-null   float64\n",
      " 8   engine         7907 non-null   float64\n",
      " 9   max_power      7912 non-null   float64\n",
      " 10  seats          7907 non-null   float64\n",
      "dtypes: float64(4), int64(3), object(4)\n",
      "memory usage: 891.0+ KB\n"
     ]
    }
   ],
   "source": [
    "car_details.info()"
   ]
  },
  {
   "cell_type": "code",
   "execution_count": 89,
   "id": "c223d34d",
   "metadata": {
    "scrolled": true
   },
   "outputs": [
    {
     "data": {
      "text/html": [
       "<div>\n",
       "<style scoped>\n",
       "    .dataframe tbody tr th:only-of-type {\n",
       "        vertical-align: middle;\n",
       "    }\n",
       "\n",
       "    .dataframe tbody tr th {\n",
       "        vertical-align: top;\n",
       "    }\n",
       "\n",
       "    .dataframe thead th {\n",
       "        text-align: right;\n",
       "    }\n",
       "</style>\n",
       "<table border=\"1\" class=\"dataframe\">\n",
       "  <thead>\n",
       "    <tr style=\"text-align: right;\">\n",
       "      <th></th>\n",
       "      <th>year</th>\n",
       "      <th>selling_price</th>\n",
       "      <th>km_driven</th>\n",
       "      <th>fuel</th>\n",
       "      <th>seller_type</th>\n",
       "      <th>transmission</th>\n",
       "      <th>owner</th>\n",
       "      <th>mileage</th>\n",
       "      <th>engine</th>\n",
       "      <th>max_power</th>\n",
       "      <th>seats</th>\n",
       "    </tr>\n",
       "    <tr>\n",
       "      <th>name</th>\n",
       "      <th></th>\n",
       "      <th></th>\n",
       "      <th></th>\n",
       "      <th></th>\n",
       "      <th></th>\n",
       "      <th></th>\n",
       "      <th></th>\n",
       "      <th></th>\n",
       "      <th></th>\n",
       "      <th></th>\n",
       "      <th></th>\n",
       "    </tr>\n",
       "  </thead>\n",
       "  <tbody>\n",
       "    <tr>\n",
       "      <th>Maruti Swift Dzire VDI</th>\n",
       "      <td>2014</td>\n",
       "      <td>450000</td>\n",
       "      <td>145500</td>\n",
       "      <td>Diesel</td>\n",
       "      <td>Individual</td>\n",
       "      <td>Manual</td>\n",
       "      <td>First Owner</td>\n",
       "      <td>23.40</td>\n",
       "      <td>1248.0</td>\n",
       "      <td>74.00</td>\n",
       "      <td>5.0</td>\n",
       "    </tr>\n",
       "    <tr>\n",
       "      <th>Skoda Rapid 1.5 TDI Ambition</th>\n",
       "      <td>2014</td>\n",
       "      <td>370000</td>\n",
       "      <td>120000</td>\n",
       "      <td>Diesel</td>\n",
       "      <td>Individual</td>\n",
       "      <td>Manual</td>\n",
       "      <td>Second Owner</td>\n",
       "      <td>21.14</td>\n",
       "      <td>1498.0</td>\n",
       "      <td>103.52</td>\n",
       "      <td>5.0</td>\n",
       "    </tr>\n",
       "    <tr>\n",
       "      <th>Honda City 2017-2020 EXi</th>\n",
       "      <td>2006</td>\n",
       "      <td>158000</td>\n",
       "      <td>140000</td>\n",
       "      <td>Petrol</td>\n",
       "      <td>Individual</td>\n",
       "      <td>Manual</td>\n",
       "      <td>Third Owner</td>\n",
       "      <td>17.70</td>\n",
       "      <td>1497.0</td>\n",
       "      <td>78.00</td>\n",
       "      <td>5.0</td>\n",
       "    </tr>\n",
       "    <tr>\n",
       "      <th>Hyundai i20 Sportz Diesel</th>\n",
       "      <td>2010</td>\n",
       "      <td>225000</td>\n",
       "      <td>127000</td>\n",
       "      <td>Diesel</td>\n",
       "      <td>Individual</td>\n",
       "      <td>Manual</td>\n",
       "      <td>First Owner</td>\n",
       "      <td>23.00</td>\n",
       "      <td>1396.0</td>\n",
       "      <td>90.00</td>\n",
       "      <td>5.0</td>\n",
       "    </tr>\n",
       "    <tr>\n",
       "      <th>Maruti Swift VXI BSIII</th>\n",
       "      <td>2007</td>\n",
       "      <td>130000</td>\n",
       "      <td>120000</td>\n",
       "      <td>Petrol</td>\n",
       "      <td>Individual</td>\n",
       "      <td>Manual</td>\n",
       "      <td>First Owner</td>\n",
       "      <td>16.10</td>\n",
       "      <td>1298.0</td>\n",
       "      <td>88.20</td>\n",
       "      <td>5.0</td>\n",
       "    </tr>\n",
       "  </tbody>\n",
       "</table>\n",
       "</div>"
      ],
      "text/plain": [
       "                              year  selling_price  km_driven    fuel  \\\n",
       "name                                                                   \n",
       "Maruti Swift Dzire VDI        2014         450000     145500  Diesel   \n",
       "Skoda Rapid 1.5 TDI Ambition  2014         370000     120000  Diesel   \n",
       "Honda City 2017-2020 EXi      2006         158000     140000  Petrol   \n",
       "Hyundai i20 Sportz Diesel     2010         225000     127000  Diesel   \n",
       "Maruti Swift VXI BSIII        2007         130000     120000  Petrol   \n",
       "\n",
       "                             seller_type transmission         owner  mileage  \\\n",
       "name                                                                           \n",
       "Maruti Swift Dzire VDI        Individual       Manual   First Owner    23.40   \n",
       "Skoda Rapid 1.5 TDI Ambition  Individual       Manual  Second Owner    21.14   \n",
       "Honda City 2017-2020 EXi      Individual       Manual   Third Owner    17.70   \n",
       "Hyundai i20 Sportz Diesel     Individual       Manual   First Owner    23.00   \n",
       "Maruti Swift VXI BSIII        Individual       Manual   First Owner    16.10   \n",
       "\n",
       "                              engine  max_power  seats  \n",
       "name                                                    \n",
       "Maruti Swift Dzire VDI        1248.0      74.00    5.0  \n",
       "Skoda Rapid 1.5 TDI Ambition  1498.0     103.52    5.0  \n",
       "Honda City 2017-2020 EXi      1497.0      78.00    5.0  \n",
       "Hyundai i20 Sportz Diesel     1396.0      90.00    5.0  \n",
       "Maruti Swift VXI BSIII        1298.0      88.20    5.0  "
      ]
     },
     "execution_count": 89,
     "metadata": {},
     "output_type": "execute_result"
    }
   ],
   "source": [
    "car_details.head()"
   ]
  },
  {
   "cell_type": "markdown",
   "id": "2991761d",
   "metadata": {},
   "source": [
    "## Dropping all the null values"
   ]
  },
  {
   "cell_type": "code",
   "execution_count": 90,
   "id": "dcde7885",
   "metadata": {
    "scrolled": true
   },
   "outputs": [],
   "source": [
    "car_details = car_details.dropna()"
   ]
  },
  {
   "cell_type": "code",
   "execution_count": 91,
   "id": "a9ef13f4",
   "metadata": {},
   "outputs": [
    {
     "name": "stdout",
     "output_type": "stream",
     "text": [
      "<class 'pandas.core.frame.DataFrame'>\n",
      "Index: 7906 entries, Maruti Swift Dzire VDI to Tata Indigo CR4\n",
      "Data columns (total 11 columns):\n",
      " #   Column         Non-Null Count  Dtype  \n",
      "---  ------         --------------  -----  \n",
      " 0   year           7906 non-null   int64  \n",
      " 1   selling_price  7906 non-null   int64  \n",
      " 2   km_driven      7906 non-null   int64  \n",
      " 3   fuel           7906 non-null   object \n",
      " 4   seller_type    7906 non-null   object \n",
      " 5   transmission   7906 non-null   object \n",
      " 6   owner          7906 non-null   object \n",
      " 7   mileage        7906 non-null   float64\n",
      " 8   engine         7906 non-null   float64\n",
      " 9   max_power      7906 non-null   float64\n",
      " 10  seats          7906 non-null   float64\n",
      "dtypes: float64(4), int64(3), object(4)\n",
      "memory usage: 741.2+ KB\n"
     ]
    }
   ],
   "source": [
    "car_details.info()"
   ]
  },
  {
   "cell_type": "code",
   "execution_count": 92,
   "id": "47656828",
   "metadata": {},
   "outputs": [
    {
     "data": {
      "text/html": [
       "<div>\n",
       "<style scoped>\n",
       "    .dataframe tbody tr th:only-of-type {\n",
       "        vertical-align: middle;\n",
       "    }\n",
       "\n",
       "    .dataframe tbody tr th {\n",
       "        vertical-align: top;\n",
       "    }\n",
       "\n",
       "    .dataframe thead th {\n",
       "        text-align: right;\n",
       "    }\n",
       "</style>\n",
       "<table border=\"1\" class=\"dataframe\">\n",
       "  <thead>\n",
       "    <tr style=\"text-align: right;\">\n",
       "      <th></th>\n",
       "      <th>year</th>\n",
       "      <th>selling_price</th>\n",
       "      <th>km_driven</th>\n",
       "      <th>fuel</th>\n",
       "      <th>seller_type</th>\n",
       "      <th>transmission</th>\n",
       "      <th>owner</th>\n",
       "      <th>mileage</th>\n",
       "      <th>engine</th>\n",
       "      <th>max_power</th>\n",
       "      <th>seats</th>\n",
       "    </tr>\n",
       "    <tr>\n",
       "      <th>name</th>\n",
       "      <th></th>\n",
       "      <th></th>\n",
       "      <th></th>\n",
       "      <th></th>\n",
       "      <th></th>\n",
       "      <th></th>\n",
       "      <th></th>\n",
       "      <th></th>\n",
       "      <th></th>\n",
       "      <th></th>\n",
       "      <th></th>\n",
       "    </tr>\n",
       "  </thead>\n",
       "  <tbody>\n",
       "    <tr>\n",
       "      <th>Maruti Swift Dzire VDI</th>\n",
       "      <td>2014</td>\n",
       "      <td>450000</td>\n",
       "      <td>145500</td>\n",
       "      <td>Diesel</td>\n",
       "      <td>Individual</td>\n",
       "      <td>Manual</td>\n",
       "      <td>First Owner</td>\n",
       "      <td>23.40</td>\n",
       "      <td>1248.0</td>\n",
       "      <td>74.00</td>\n",
       "      <td>5.0</td>\n",
       "    </tr>\n",
       "    <tr>\n",
       "      <th>Skoda Rapid 1.5 TDI Ambition</th>\n",
       "      <td>2014</td>\n",
       "      <td>370000</td>\n",
       "      <td>120000</td>\n",
       "      <td>Diesel</td>\n",
       "      <td>Individual</td>\n",
       "      <td>Manual</td>\n",
       "      <td>Second Owner</td>\n",
       "      <td>21.14</td>\n",
       "      <td>1498.0</td>\n",
       "      <td>103.52</td>\n",
       "      <td>5.0</td>\n",
       "    </tr>\n",
       "    <tr>\n",
       "      <th>Honda City 2017-2020 EXi</th>\n",
       "      <td>2006</td>\n",
       "      <td>158000</td>\n",
       "      <td>140000</td>\n",
       "      <td>Petrol</td>\n",
       "      <td>Individual</td>\n",
       "      <td>Manual</td>\n",
       "      <td>Third Owner</td>\n",
       "      <td>17.70</td>\n",
       "      <td>1497.0</td>\n",
       "      <td>78.00</td>\n",
       "      <td>5.0</td>\n",
       "    </tr>\n",
       "    <tr>\n",
       "      <th>Hyundai i20 Sportz Diesel</th>\n",
       "      <td>2010</td>\n",
       "      <td>225000</td>\n",
       "      <td>127000</td>\n",
       "      <td>Diesel</td>\n",
       "      <td>Individual</td>\n",
       "      <td>Manual</td>\n",
       "      <td>First Owner</td>\n",
       "      <td>23.00</td>\n",
       "      <td>1396.0</td>\n",
       "      <td>90.00</td>\n",
       "      <td>5.0</td>\n",
       "    </tr>\n",
       "    <tr>\n",
       "      <th>Maruti Swift VXI BSIII</th>\n",
       "      <td>2007</td>\n",
       "      <td>130000</td>\n",
       "      <td>120000</td>\n",
       "      <td>Petrol</td>\n",
       "      <td>Individual</td>\n",
       "      <td>Manual</td>\n",
       "      <td>First Owner</td>\n",
       "      <td>16.10</td>\n",
       "      <td>1298.0</td>\n",
       "      <td>88.20</td>\n",
       "      <td>5.0</td>\n",
       "    </tr>\n",
       "    <tr>\n",
       "      <th>Hyundai Xcent 1.2 VTVT E Plus</th>\n",
       "      <td>2017</td>\n",
       "      <td>440000</td>\n",
       "      <td>45000</td>\n",
       "      <td>Petrol</td>\n",
       "      <td>Individual</td>\n",
       "      <td>Manual</td>\n",
       "      <td>First Owner</td>\n",
       "      <td>20.14</td>\n",
       "      <td>1197.0</td>\n",
       "      <td>81.86</td>\n",
       "      <td>5.0</td>\n",
       "    </tr>\n",
       "    <tr>\n",
       "      <th>Maruti Wagon R LXI DUO BSIII</th>\n",
       "      <td>2007</td>\n",
       "      <td>96000</td>\n",
       "      <td>175000</td>\n",
       "      <td>LPG</td>\n",
       "      <td>Individual</td>\n",
       "      <td>Manual</td>\n",
       "      <td>First Owner</td>\n",
       "      <td>17.30</td>\n",
       "      <td>1061.0</td>\n",
       "      <td>57.50</td>\n",
       "      <td>5.0</td>\n",
       "    </tr>\n",
       "    <tr>\n",
       "      <th>Maruti 800 DX BSII</th>\n",
       "      <td>2001</td>\n",
       "      <td>45000</td>\n",
       "      <td>5000</td>\n",
       "      <td>Petrol</td>\n",
       "      <td>Individual</td>\n",
       "      <td>Manual</td>\n",
       "      <td>Second Owner</td>\n",
       "      <td>16.10</td>\n",
       "      <td>796.0</td>\n",
       "      <td>37.00</td>\n",
       "      <td>4.0</td>\n",
       "    </tr>\n",
       "    <tr>\n",
       "      <th>Toyota Etios VXD</th>\n",
       "      <td>2011</td>\n",
       "      <td>350000</td>\n",
       "      <td>90000</td>\n",
       "      <td>Diesel</td>\n",
       "      <td>Individual</td>\n",
       "      <td>Manual</td>\n",
       "      <td>First Owner</td>\n",
       "      <td>23.59</td>\n",
       "      <td>1364.0</td>\n",
       "      <td>67.10</td>\n",
       "      <td>5.0</td>\n",
       "    </tr>\n",
       "    <tr>\n",
       "      <th>Ford Figo Diesel Celebration Edition</th>\n",
       "      <td>2013</td>\n",
       "      <td>200000</td>\n",
       "      <td>169000</td>\n",
       "      <td>Diesel</td>\n",
       "      <td>Individual</td>\n",
       "      <td>Manual</td>\n",
       "      <td>First Owner</td>\n",
       "      <td>20.00</td>\n",
       "      <td>1399.0</td>\n",
       "      <td>68.10</td>\n",
       "      <td>5.0</td>\n",
       "    </tr>\n",
       "  </tbody>\n",
       "</table>\n",
       "</div>"
      ],
      "text/plain": [
       "                                      year  selling_price  km_driven    fuel  \\\n",
       "name                                                                           \n",
       "Maruti Swift Dzire VDI                2014         450000     145500  Diesel   \n",
       "Skoda Rapid 1.5 TDI Ambition          2014         370000     120000  Diesel   \n",
       "Honda City 2017-2020 EXi              2006         158000     140000  Petrol   \n",
       "Hyundai i20 Sportz Diesel             2010         225000     127000  Diesel   \n",
       "Maruti Swift VXI BSIII                2007         130000     120000  Petrol   \n",
       "Hyundai Xcent 1.2 VTVT E Plus         2017         440000      45000  Petrol   \n",
       "Maruti Wagon R LXI DUO BSIII          2007          96000     175000     LPG   \n",
       "Maruti 800 DX BSII                    2001          45000       5000  Petrol   \n",
       "Toyota Etios VXD                      2011         350000      90000  Diesel   \n",
       "Ford Figo Diesel Celebration Edition  2013         200000     169000  Diesel   \n",
       "\n",
       "                                     seller_type transmission         owner  \\\n",
       "name                                                                          \n",
       "Maruti Swift Dzire VDI                Individual       Manual   First Owner   \n",
       "Skoda Rapid 1.5 TDI Ambition          Individual       Manual  Second Owner   \n",
       "Honda City 2017-2020 EXi              Individual       Manual   Third Owner   \n",
       "Hyundai i20 Sportz Diesel             Individual       Manual   First Owner   \n",
       "Maruti Swift VXI BSIII                Individual       Manual   First Owner   \n",
       "Hyundai Xcent 1.2 VTVT E Plus         Individual       Manual   First Owner   \n",
       "Maruti Wagon R LXI DUO BSIII          Individual       Manual   First Owner   \n",
       "Maruti 800 DX BSII                    Individual       Manual  Second Owner   \n",
       "Toyota Etios VXD                      Individual       Manual   First Owner   \n",
       "Ford Figo Diesel Celebration Edition  Individual       Manual   First Owner   \n",
       "\n",
       "                                      mileage  engine  max_power  seats  \n",
       "name                                                                     \n",
       "Maruti Swift Dzire VDI                  23.40  1248.0      74.00    5.0  \n",
       "Skoda Rapid 1.5 TDI Ambition            21.14  1498.0     103.52    5.0  \n",
       "Honda City 2017-2020 EXi                17.70  1497.0      78.00    5.0  \n",
       "Hyundai i20 Sportz Diesel               23.00  1396.0      90.00    5.0  \n",
       "Maruti Swift VXI BSIII                  16.10  1298.0      88.20    5.0  \n",
       "Hyundai Xcent 1.2 VTVT E Plus           20.14  1197.0      81.86    5.0  \n",
       "Maruti Wagon R LXI DUO BSIII            17.30  1061.0      57.50    5.0  \n",
       "Maruti 800 DX BSII                      16.10   796.0      37.00    4.0  \n",
       "Toyota Etios VXD                        23.59  1364.0      67.10    5.0  \n",
       "Ford Figo Diesel Celebration Edition    20.00  1399.0      68.10    5.0  "
      ]
     },
     "execution_count": 92,
     "metadata": {},
     "output_type": "execute_result"
    }
   ],
   "source": [
    "car_details.head(10)"
   ]
  },
  {
   "cell_type": "code",
   "execution_count": 93,
   "id": "c6bfe2db",
   "metadata": {},
   "outputs": [
    {
     "data": {
      "text/plain": [
       "(7906, 11)"
      ]
     },
     "execution_count": 93,
     "metadata": {},
     "output_type": "execute_result"
    }
   ],
   "source": [
    "car_details.shape"
   ]
  },
  {
   "cell_type": "markdown",
   "id": "98447cb7",
   "metadata": {},
   "source": [
    "## Separating Predictor and Target attribute"
   ]
  },
  {
   "cell_type": "code",
   "execution_count": 94,
   "id": "d3b705ea",
   "metadata": {},
   "outputs": [],
   "source": [
    "X = car_details.drop('selling_price', axis = 1)\n",
    "y = car_details['selling_price']"
   ]
  },
  {
   "cell_type": "code",
   "execution_count": 95,
   "id": "02e95d07",
   "metadata": {
    "scrolled": true
   },
   "outputs": [
    {
     "data": {
      "text/html": [
       "<div>\n",
       "<style scoped>\n",
       "    .dataframe tbody tr th:only-of-type {\n",
       "        vertical-align: middle;\n",
       "    }\n",
       "\n",
       "    .dataframe tbody tr th {\n",
       "        vertical-align: top;\n",
       "    }\n",
       "\n",
       "    .dataframe thead th {\n",
       "        text-align: right;\n",
       "    }\n",
       "</style>\n",
       "<table border=\"1\" class=\"dataframe\">\n",
       "  <thead>\n",
       "    <tr style=\"text-align: right;\">\n",
       "      <th></th>\n",
       "      <th>year</th>\n",
       "      <th>km_driven</th>\n",
       "      <th>fuel</th>\n",
       "      <th>seller_type</th>\n",
       "      <th>transmission</th>\n",
       "      <th>owner</th>\n",
       "      <th>mileage</th>\n",
       "      <th>engine</th>\n",
       "      <th>max_power</th>\n",
       "      <th>seats</th>\n",
       "    </tr>\n",
       "    <tr>\n",
       "      <th>name</th>\n",
       "      <th></th>\n",
       "      <th></th>\n",
       "      <th></th>\n",
       "      <th></th>\n",
       "      <th></th>\n",
       "      <th></th>\n",
       "      <th></th>\n",
       "      <th></th>\n",
       "      <th></th>\n",
       "      <th></th>\n",
       "    </tr>\n",
       "  </thead>\n",
       "  <tbody>\n",
       "    <tr>\n",
       "      <th>Maruti Swift Dzire VDI</th>\n",
       "      <td>2014</td>\n",
       "      <td>145500</td>\n",
       "      <td>Diesel</td>\n",
       "      <td>Individual</td>\n",
       "      <td>Manual</td>\n",
       "      <td>First Owner</td>\n",
       "      <td>23.40</td>\n",
       "      <td>1248.0</td>\n",
       "      <td>74.00</td>\n",
       "      <td>5.0</td>\n",
       "    </tr>\n",
       "    <tr>\n",
       "      <th>Skoda Rapid 1.5 TDI Ambition</th>\n",
       "      <td>2014</td>\n",
       "      <td>120000</td>\n",
       "      <td>Diesel</td>\n",
       "      <td>Individual</td>\n",
       "      <td>Manual</td>\n",
       "      <td>Second Owner</td>\n",
       "      <td>21.14</td>\n",
       "      <td>1498.0</td>\n",
       "      <td>103.52</td>\n",
       "      <td>5.0</td>\n",
       "    </tr>\n",
       "    <tr>\n",
       "      <th>Honda City 2017-2020 EXi</th>\n",
       "      <td>2006</td>\n",
       "      <td>140000</td>\n",
       "      <td>Petrol</td>\n",
       "      <td>Individual</td>\n",
       "      <td>Manual</td>\n",
       "      <td>Third Owner</td>\n",
       "      <td>17.70</td>\n",
       "      <td>1497.0</td>\n",
       "      <td>78.00</td>\n",
       "      <td>5.0</td>\n",
       "    </tr>\n",
       "    <tr>\n",
       "      <th>Hyundai i20 Sportz Diesel</th>\n",
       "      <td>2010</td>\n",
       "      <td>127000</td>\n",
       "      <td>Diesel</td>\n",
       "      <td>Individual</td>\n",
       "      <td>Manual</td>\n",
       "      <td>First Owner</td>\n",
       "      <td>23.00</td>\n",
       "      <td>1396.0</td>\n",
       "      <td>90.00</td>\n",
       "      <td>5.0</td>\n",
       "    </tr>\n",
       "    <tr>\n",
       "      <th>Maruti Swift VXI BSIII</th>\n",
       "      <td>2007</td>\n",
       "      <td>120000</td>\n",
       "      <td>Petrol</td>\n",
       "      <td>Individual</td>\n",
       "      <td>Manual</td>\n",
       "      <td>First Owner</td>\n",
       "      <td>16.10</td>\n",
       "      <td>1298.0</td>\n",
       "      <td>88.20</td>\n",
       "      <td>5.0</td>\n",
       "    </tr>\n",
       "  </tbody>\n",
       "</table>\n",
       "</div>"
      ],
      "text/plain": [
       "                              year  km_driven    fuel seller_type  \\\n",
       "name                                                                \n",
       "Maruti Swift Dzire VDI        2014     145500  Diesel  Individual   \n",
       "Skoda Rapid 1.5 TDI Ambition  2014     120000  Diesel  Individual   \n",
       "Honda City 2017-2020 EXi      2006     140000  Petrol  Individual   \n",
       "Hyundai i20 Sportz Diesel     2010     127000  Diesel  Individual   \n",
       "Maruti Swift VXI BSIII        2007     120000  Petrol  Individual   \n",
       "\n",
       "                             transmission         owner  mileage  engine  \\\n",
       "name                                                                       \n",
       "Maruti Swift Dzire VDI             Manual   First Owner    23.40  1248.0   \n",
       "Skoda Rapid 1.5 TDI Ambition       Manual  Second Owner    21.14  1498.0   \n",
       "Honda City 2017-2020 EXi           Manual   Third Owner    17.70  1497.0   \n",
       "Hyundai i20 Sportz Diesel          Manual   First Owner    23.00  1396.0   \n",
       "Maruti Swift VXI BSIII             Manual   First Owner    16.10  1298.0   \n",
       "\n",
       "                              max_power  seats  \n",
       "name                                            \n",
       "Maruti Swift Dzire VDI            74.00    5.0  \n",
       "Skoda Rapid 1.5 TDI Ambition     103.52    5.0  \n",
       "Honda City 2017-2020 EXi          78.00    5.0  \n",
       "Hyundai i20 Sportz Diesel         90.00    5.0  \n",
       "Maruti Swift VXI BSIII            88.20    5.0  "
      ]
     },
     "execution_count": 95,
     "metadata": {},
     "output_type": "execute_result"
    }
   ],
   "source": [
    "X.head()"
   ]
  },
  {
   "cell_type": "code",
   "execution_count": 96,
   "id": "983bc008",
   "metadata": {
    "scrolled": true
   },
   "outputs": [
    {
     "data": {
      "text/plain": [
       "name\n",
       "Maruti Swift Dzire VDI          450000\n",
       "Skoda Rapid 1.5 TDI Ambition    370000\n",
       "Honda City 2017-2020 EXi        158000\n",
       "Hyundai i20 Sportz Diesel       225000\n",
       "Maruti Swift VXI BSIII          130000\n",
       "                                 ...  \n",
       "Hyundai i20 Magna               320000\n",
       "Hyundai Verna CRDi SX           135000\n",
       "Maruti Swift Dzire ZDi          382000\n",
       "Tata Indigo CR4                 290000\n",
       "Tata Indigo CR4                 290000\n",
       "Name: selling_price, Length: 7906, dtype: int64"
      ]
     },
     "execution_count": 96,
     "metadata": {},
     "output_type": "execute_result"
    }
   ],
   "source": [
    "y"
   ]
  },
  {
   "cell_type": "markdown",
   "id": "4c3d0b85",
   "metadata": {},
   "source": [
    "## Doing the train-test split"
   ]
  },
  {
   "cell_type": "code",
   "execution_count": 97,
   "id": "3da99e8f",
   "metadata": {},
   "outputs": [],
   "source": [
    "from sklearn.model_selection import train_test_split"
   ]
  },
  {
   "cell_type": "code",
   "execution_count": 98,
   "id": "fd6d6111",
   "metadata": {},
   "outputs": [],
   "source": [
    "X_train, X_test, y_train, y_test = train_test_split(X,y, test_size = 0.30, random_state=42)"
   ]
  },
  {
   "cell_type": "code",
   "execution_count": 99,
   "id": "434f7ab0",
   "metadata": {},
   "outputs": [
    {
     "data": {
      "text/plain": [
       "((5534, 10), (2372, 10), (5534,), (2372,))"
      ]
     },
     "execution_count": 99,
     "metadata": {},
     "output_type": "execute_result"
    }
   ],
   "source": [
    "X_train.shape, X_test.shape, y_train.shape, y_test.shape"
   ]
  },
  {
   "cell_type": "code",
   "execution_count": 100,
   "id": "73dcc16f",
   "metadata": {},
   "outputs": [
    {
     "data": {
      "text/plain": [
       "0.6999747027573995"
      ]
     },
     "execution_count": 100,
     "metadata": {},
     "output_type": "execute_result"
    }
   ],
   "source": [
    "len(X_train)/len(car_details)"
   ]
  },
  {
   "cell_type": "code",
   "execution_count": 101,
   "id": "375c1a90",
   "metadata": {},
   "outputs": [
    {
     "data": {
      "text/plain": [
       "0.3000252972426006"
      ]
     },
     "execution_count": 101,
     "metadata": {},
     "output_type": "execute_result"
    }
   ],
   "source": [
    "len(X_test)/len(car_details)"
   ]
  },
  {
   "cell_type": "code",
   "execution_count": 102,
   "id": "2dc4518a",
   "metadata": {},
   "outputs": [
    {
     "data": {
      "text/html": [
       "<div>\n",
       "<style scoped>\n",
       "    .dataframe tbody tr th:only-of-type {\n",
       "        vertical-align: middle;\n",
       "    }\n",
       "\n",
       "    .dataframe tbody tr th {\n",
       "        vertical-align: top;\n",
       "    }\n",
       "\n",
       "    .dataframe thead th {\n",
       "        text-align: right;\n",
       "    }\n",
       "</style>\n",
       "<table border=\"1\" class=\"dataframe\">\n",
       "  <thead>\n",
       "    <tr style=\"text-align: right;\">\n",
       "      <th></th>\n",
       "      <th>year</th>\n",
       "      <th>km_driven</th>\n",
       "      <th>fuel</th>\n",
       "      <th>seller_type</th>\n",
       "      <th>transmission</th>\n",
       "      <th>owner</th>\n",
       "      <th>mileage</th>\n",
       "      <th>engine</th>\n",
       "      <th>max_power</th>\n",
       "      <th>seats</th>\n",
       "    </tr>\n",
       "    <tr>\n",
       "      <th>name</th>\n",
       "      <th></th>\n",
       "      <th></th>\n",
       "      <th></th>\n",
       "      <th></th>\n",
       "      <th></th>\n",
       "      <th></th>\n",
       "      <th></th>\n",
       "      <th></th>\n",
       "      <th></th>\n",
       "      <th></th>\n",
       "    </tr>\n",
       "  </thead>\n",
       "  <tbody>\n",
       "    <tr>\n",
       "      <th>Hyundai i20 Active 1.4 SX</th>\n",
       "      <td>2015</td>\n",
       "      <td>108000</td>\n",
       "      <td>Diesel</td>\n",
       "      <td>Individual</td>\n",
       "      <td>Manual</td>\n",
       "      <td>First Owner</td>\n",
       "      <td>21.19</td>\n",
       "      <td>1396.0</td>\n",
       "      <td>88.73</td>\n",
       "      <td>5.0</td>\n",
       "    </tr>\n",
       "    <tr>\n",
       "      <th>Toyota Corolla Altis JS MT</th>\n",
       "      <td>2015</td>\n",
       "      <td>50000</td>\n",
       "      <td>Petrol</td>\n",
       "      <td>Individual</td>\n",
       "      <td>Manual</td>\n",
       "      <td>First Owner</td>\n",
       "      <td>14.28</td>\n",
       "      <td>1798.0</td>\n",
       "      <td>138.03</td>\n",
       "      <td>5.0</td>\n",
       "    </tr>\n",
       "    <tr>\n",
       "      <th>Tata Manza Club Class Quadrajet90 LS</th>\n",
       "      <td>2013</td>\n",
       "      <td>50000</td>\n",
       "      <td>Diesel</td>\n",
       "      <td>Individual</td>\n",
       "      <td>Manual</td>\n",
       "      <td>First Owner</td>\n",
       "      <td>21.02</td>\n",
       "      <td>1248.0</td>\n",
       "      <td>88.80</td>\n",
       "      <td>5.0</td>\n",
       "    </tr>\n",
       "    <tr>\n",
       "      <th>Tata Indigo CR4</th>\n",
       "      <td>2013</td>\n",
       "      <td>100000</td>\n",
       "      <td>Diesel</td>\n",
       "      <td>Individual</td>\n",
       "      <td>Manual</td>\n",
       "      <td>First Owner</td>\n",
       "      <td>23.57</td>\n",
       "      <td>1396.0</td>\n",
       "      <td>70.00</td>\n",
       "      <td>5.0</td>\n",
       "    </tr>\n",
       "    <tr>\n",
       "      <th>Mahindra Bolero Power Plus ZLX</th>\n",
       "      <td>2019</td>\n",
       "      <td>14000</td>\n",
       "      <td>Diesel</td>\n",
       "      <td>Individual</td>\n",
       "      <td>Manual</td>\n",
       "      <td>First Owner</td>\n",
       "      <td>16.50</td>\n",
       "      <td>1493.0</td>\n",
       "      <td>70.00</td>\n",
       "      <td>7.0</td>\n",
       "    </tr>\n",
       "  </tbody>\n",
       "</table>\n",
       "</div>"
      ],
      "text/plain": [
       "                                      year  km_driven    fuel seller_type  \\\n",
       "name                                                                        \n",
       "Hyundai i20 Active 1.4 SX             2015     108000  Diesel  Individual   \n",
       "Toyota Corolla Altis JS MT            2015      50000  Petrol  Individual   \n",
       "Tata Manza Club Class Quadrajet90 LS  2013      50000  Diesel  Individual   \n",
       "Tata Indigo CR4                       2013     100000  Diesel  Individual   \n",
       "Mahindra Bolero Power Plus ZLX        2019      14000  Diesel  Individual   \n",
       "\n",
       "                                     transmission        owner  mileage  \\\n",
       "name                                                                      \n",
       "Hyundai i20 Active 1.4 SX                  Manual  First Owner    21.19   \n",
       "Toyota Corolla Altis JS MT                 Manual  First Owner    14.28   \n",
       "Tata Manza Club Class Quadrajet90 LS       Manual  First Owner    21.02   \n",
       "Tata Indigo CR4                            Manual  First Owner    23.57   \n",
       "Mahindra Bolero Power Plus ZLX             Manual  First Owner    16.50   \n",
       "\n",
       "                                      engine  max_power  seats  \n",
       "name                                                            \n",
       "Hyundai i20 Active 1.4 SX             1396.0      88.73    5.0  \n",
       "Toyota Corolla Altis JS MT            1798.0     138.03    5.0  \n",
       "Tata Manza Club Class Quadrajet90 LS  1248.0      88.80    5.0  \n",
       "Tata Indigo CR4                       1396.0      70.00    5.0  \n",
       "Mahindra Bolero Power Plus ZLX        1493.0      70.00    7.0  "
      ]
     },
     "execution_count": 102,
     "metadata": {},
     "output_type": "execute_result"
    }
   ],
   "source": [
    "X_train.head()"
   ]
  },
  {
   "cell_type": "code",
   "execution_count": 103,
   "id": "db689b4e",
   "metadata": {},
   "outputs": [
    {
     "data": {
      "text/html": [
       "<div>\n",
       "<style scoped>\n",
       "    .dataframe tbody tr th:only-of-type {\n",
       "        vertical-align: middle;\n",
       "    }\n",
       "\n",
       "    .dataframe tbody tr th {\n",
       "        vertical-align: top;\n",
       "    }\n",
       "\n",
       "    .dataframe thead th {\n",
       "        text-align: right;\n",
       "    }\n",
       "</style>\n",
       "<table border=\"1\" class=\"dataframe\">\n",
       "  <thead>\n",
       "    <tr style=\"text-align: right;\">\n",
       "      <th></th>\n",
       "      <th>year</th>\n",
       "      <th>km_driven</th>\n",
       "      <th>fuel</th>\n",
       "      <th>seller_type</th>\n",
       "      <th>transmission</th>\n",
       "      <th>owner</th>\n",
       "      <th>mileage</th>\n",
       "      <th>engine</th>\n",
       "      <th>max_power</th>\n",
       "      <th>seats</th>\n",
       "    </tr>\n",
       "    <tr>\n",
       "      <th>name</th>\n",
       "      <th></th>\n",
       "      <th></th>\n",
       "      <th></th>\n",
       "      <th></th>\n",
       "      <th></th>\n",
       "      <th></th>\n",
       "      <th></th>\n",
       "      <th></th>\n",
       "      <th></th>\n",
       "      <th></th>\n",
       "    </tr>\n",
       "  </thead>\n",
       "  <tbody>\n",
       "    <tr>\n",
       "      <th>Maruti Swift VDI</th>\n",
       "      <td>2014</td>\n",
       "      <td>68000</td>\n",
       "      <td>Diesel</td>\n",
       "      <td>Dealer</td>\n",
       "      <td>Manual</td>\n",
       "      <td>First Owner</td>\n",
       "      <td>22.90</td>\n",
       "      <td>1248.0</td>\n",
       "      <td>74.0</td>\n",
       "      <td>5.0</td>\n",
       "    </tr>\n",
       "    <tr>\n",
       "      <th>Maruti Swift Dzire VDI</th>\n",
       "      <td>2015</td>\n",
       "      <td>110000</td>\n",
       "      <td>Diesel</td>\n",
       "      <td>Individual</td>\n",
       "      <td>Manual</td>\n",
       "      <td>First Owner</td>\n",
       "      <td>26.59</td>\n",
       "      <td>1248.0</td>\n",
       "      <td>74.0</td>\n",
       "      <td>5.0</td>\n",
       "    </tr>\n",
       "    <tr>\n",
       "      <th>Tata Indica Vista TDI LX</th>\n",
       "      <td>2012</td>\n",
       "      <td>185000</td>\n",
       "      <td>Diesel</td>\n",
       "      <td>Individual</td>\n",
       "      <td>Manual</td>\n",
       "      <td>Second Owner</td>\n",
       "      <td>19.40</td>\n",
       "      <td>1405.0</td>\n",
       "      <td>70.0</td>\n",
       "      <td>5.0</td>\n",
       "    </tr>\n",
       "    <tr>\n",
       "      <th>Toyota Corolla Altis Diesel D4DJ</th>\n",
       "      <td>2012</td>\n",
       "      <td>90000</td>\n",
       "      <td>Diesel</td>\n",
       "      <td>Individual</td>\n",
       "      <td>Manual</td>\n",
       "      <td>Fourth &amp; Above Owner</td>\n",
       "      <td>21.43</td>\n",
       "      <td>1364.0</td>\n",
       "      <td>87.2</td>\n",
       "      <td>5.0</td>\n",
       "    </tr>\n",
       "    <tr>\n",
       "      <th>Maruti Ignis 1.2 AMT Zeta BSIV</th>\n",
       "      <td>2018</td>\n",
       "      <td>15000</td>\n",
       "      <td>Petrol</td>\n",
       "      <td>Individual</td>\n",
       "      <td>Automatic</td>\n",
       "      <td>First Owner</td>\n",
       "      <td>20.89</td>\n",
       "      <td>1197.0</td>\n",
       "      <td>81.8</td>\n",
       "      <td>5.0</td>\n",
       "    </tr>\n",
       "  </tbody>\n",
       "</table>\n",
       "</div>"
      ],
      "text/plain": [
       "                                  year  km_driven    fuel seller_type  \\\n",
       "name                                                                    \n",
       "Maruti Swift VDI                  2014      68000  Diesel      Dealer   \n",
       "Maruti Swift Dzire VDI            2015     110000  Diesel  Individual   \n",
       "Tata Indica Vista TDI LX          2012     185000  Diesel  Individual   \n",
       "Toyota Corolla Altis Diesel D4DJ  2012      90000  Diesel  Individual   \n",
       "Maruti Ignis 1.2 AMT Zeta BSIV    2018      15000  Petrol  Individual   \n",
       "\n",
       "                                 transmission                 owner  mileage  \\\n",
       "name                                                                           \n",
       "Maruti Swift VDI                       Manual           First Owner    22.90   \n",
       "Maruti Swift Dzire VDI                 Manual           First Owner    26.59   \n",
       "Tata Indica Vista TDI LX               Manual          Second Owner    19.40   \n",
       "Toyota Corolla Altis Diesel D4DJ       Manual  Fourth & Above Owner    21.43   \n",
       "Maruti Ignis 1.2 AMT Zeta BSIV      Automatic           First Owner    20.89   \n",
       "\n",
       "                                  engine  max_power  seats  \n",
       "name                                                        \n",
       "Maruti Swift VDI                  1248.0       74.0    5.0  \n",
       "Maruti Swift Dzire VDI            1248.0       74.0    5.0  \n",
       "Tata Indica Vista TDI LX          1405.0       70.0    5.0  \n",
       "Toyota Corolla Altis Diesel D4DJ  1364.0       87.2    5.0  \n",
       "Maruti Ignis 1.2 AMT Zeta BSIV    1197.0       81.8    5.0  "
      ]
     },
     "execution_count": 103,
     "metadata": {},
     "output_type": "execute_result"
    }
   ],
   "source": [
    "X_test.head()"
   ]
  },
  {
   "cell_type": "code",
   "execution_count": 104,
   "id": "163d5549",
   "metadata": {},
   "outputs": [
    {
     "data": {
      "text/plain": [
       "name\n",
       "Hyundai i20 Active 1.4 SX                  600000\n",
       "Toyota Corolla Altis JS MT                1100000\n",
       "Tata Manza Club Class Quadrajet90 LS       250000\n",
       "Tata Indigo CR4                            250000\n",
       "Mahindra Bolero Power Plus ZLX             740000\n",
       "                                           ...   \n",
       "Maruti Baleno Alpha 1.2                    711000\n",
       "Honda Brio 1.2 VX MT                       411000\n",
       "Hyundai Accent GLX                         110000\n",
       "BMW 3 Series 320d Corporate Edition        900000\n",
       "Hyundai Elite i20 Asta Option CVT BSIV     800000\n",
       "Name: selling_price, Length: 5534, dtype: int64"
      ]
     },
     "execution_count": 104,
     "metadata": {},
     "output_type": "execute_result"
    }
   ],
   "source": [
    "y_train"
   ]
  },
  {
   "cell_type": "code",
   "execution_count": 105,
   "id": "02b7513c",
   "metadata": {
    "scrolled": true
   },
   "outputs": [
    {
     "data": {
      "text/plain": [
       "name\n",
       "Maruti Swift VDI                               501000\n",
       "Maruti Swift Dzire VDI                         440000\n",
       "Tata Indica Vista TDI LX                       140000\n",
       "Toyota Corolla Altis Diesel D4DJ               476999\n",
       "Maruti Ignis 1.2 AMT Zeta BSIV                 620000\n",
       "                                                ...  \n",
       "Hyundai EON Era Plus                           220000\n",
       "Chevrolet Beat Diesel LT                       175000\n",
       "Tata Tigor 1.2 Revotron XZA                    525000\n",
       "Mahindra Scorpio 1.99 S4 Plus                  650000\n",
       "Volkswagen Ameo 1.5 TDI Highline Plus 16 AT    650000\n",
       "Name: selling_price, Length: 2372, dtype: int64"
      ]
     },
     "execution_count": 105,
     "metadata": {},
     "output_type": "execute_result"
    }
   ],
   "source": [
    "y_test"
   ]
  },
  {
   "cell_type": "markdown",
   "id": "e53671ce",
   "metadata": {},
   "source": [
    "## Separating Numerical and categorical attributes in the train set"
   ]
  },
  {
   "cell_type": "code",
   "execution_count": 106,
   "id": "a8c21d14",
   "metadata": {},
   "outputs": [],
   "source": [
    "X_train_num = X_train.drop(['fuel','seller_type','transmission','owner'],axis = 1)\n",
    "X_train_cat = X_train[['fuel','seller_type','transmission','owner']]"
   ]
  },
  {
   "cell_type": "code",
   "execution_count": 107,
   "id": "2a06940c",
   "metadata": {},
   "outputs": [
    {
     "data": {
      "text/html": [
       "<div>\n",
       "<style scoped>\n",
       "    .dataframe tbody tr th:only-of-type {\n",
       "        vertical-align: middle;\n",
       "    }\n",
       "\n",
       "    .dataframe tbody tr th {\n",
       "        vertical-align: top;\n",
       "    }\n",
       "\n",
       "    .dataframe thead th {\n",
       "        text-align: right;\n",
       "    }\n",
       "</style>\n",
       "<table border=\"1\" class=\"dataframe\">\n",
       "  <thead>\n",
       "    <tr style=\"text-align: right;\">\n",
       "      <th></th>\n",
       "      <th>year</th>\n",
       "      <th>km_driven</th>\n",
       "      <th>mileage</th>\n",
       "      <th>engine</th>\n",
       "      <th>max_power</th>\n",
       "      <th>seats</th>\n",
       "    </tr>\n",
       "    <tr>\n",
       "      <th>name</th>\n",
       "      <th></th>\n",
       "      <th></th>\n",
       "      <th></th>\n",
       "      <th></th>\n",
       "      <th></th>\n",
       "      <th></th>\n",
       "    </tr>\n",
       "  </thead>\n",
       "  <tbody>\n",
       "    <tr>\n",
       "      <th>Hyundai i20 Active 1.4 SX</th>\n",
       "      <td>2015</td>\n",
       "      <td>108000</td>\n",
       "      <td>21.19</td>\n",
       "      <td>1396.0</td>\n",
       "      <td>88.73</td>\n",
       "      <td>5.0</td>\n",
       "    </tr>\n",
       "    <tr>\n",
       "      <th>Toyota Corolla Altis JS MT</th>\n",
       "      <td>2015</td>\n",
       "      <td>50000</td>\n",
       "      <td>14.28</td>\n",
       "      <td>1798.0</td>\n",
       "      <td>138.03</td>\n",
       "      <td>5.0</td>\n",
       "    </tr>\n",
       "    <tr>\n",
       "      <th>Tata Manza Club Class Quadrajet90 LS</th>\n",
       "      <td>2013</td>\n",
       "      <td>50000</td>\n",
       "      <td>21.02</td>\n",
       "      <td>1248.0</td>\n",
       "      <td>88.80</td>\n",
       "      <td>5.0</td>\n",
       "    </tr>\n",
       "    <tr>\n",
       "      <th>Tata Indigo CR4</th>\n",
       "      <td>2013</td>\n",
       "      <td>100000</td>\n",
       "      <td>23.57</td>\n",
       "      <td>1396.0</td>\n",
       "      <td>70.00</td>\n",
       "      <td>5.0</td>\n",
       "    </tr>\n",
       "    <tr>\n",
       "      <th>Mahindra Bolero Power Plus ZLX</th>\n",
       "      <td>2019</td>\n",
       "      <td>14000</td>\n",
       "      <td>16.50</td>\n",
       "      <td>1493.0</td>\n",
       "      <td>70.00</td>\n",
       "      <td>7.0</td>\n",
       "    </tr>\n",
       "  </tbody>\n",
       "</table>\n",
       "</div>"
      ],
      "text/plain": [
       "                                      year  km_driven  mileage  engine  \\\n",
       "name                                                                     \n",
       "Hyundai i20 Active 1.4 SX             2015     108000    21.19  1396.0   \n",
       "Toyota Corolla Altis JS MT            2015      50000    14.28  1798.0   \n",
       "Tata Manza Club Class Quadrajet90 LS  2013      50000    21.02  1248.0   \n",
       "Tata Indigo CR4                       2013     100000    23.57  1396.0   \n",
       "Mahindra Bolero Power Plus ZLX        2019      14000    16.50  1493.0   \n",
       "\n",
       "                                      max_power  seats  \n",
       "name                                                    \n",
       "Hyundai i20 Active 1.4 SX                 88.73    5.0  \n",
       "Toyota Corolla Altis JS MT               138.03    5.0  \n",
       "Tata Manza Club Class Quadrajet90 LS      88.80    5.0  \n",
       "Tata Indigo CR4                           70.00    5.0  \n",
       "Mahindra Bolero Power Plus ZLX            70.00    7.0  "
      ]
     },
     "execution_count": 107,
     "metadata": {},
     "output_type": "execute_result"
    }
   ],
   "source": [
    "X_train_num.head()"
   ]
  },
  {
   "cell_type": "code",
   "execution_count": 108,
   "id": "3bbc8dda",
   "metadata": {
    "scrolled": true
   },
   "outputs": [
    {
     "data": {
      "text/html": [
       "<div>\n",
       "<style scoped>\n",
       "    .dataframe tbody tr th:only-of-type {\n",
       "        vertical-align: middle;\n",
       "    }\n",
       "\n",
       "    .dataframe tbody tr th {\n",
       "        vertical-align: top;\n",
       "    }\n",
       "\n",
       "    .dataframe thead th {\n",
       "        text-align: right;\n",
       "    }\n",
       "</style>\n",
       "<table border=\"1\" class=\"dataframe\">\n",
       "  <thead>\n",
       "    <tr style=\"text-align: right;\">\n",
       "      <th></th>\n",
       "      <th>fuel</th>\n",
       "      <th>seller_type</th>\n",
       "      <th>transmission</th>\n",
       "      <th>owner</th>\n",
       "    </tr>\n",
       "    <tr>\n",
       "      <th>name</th>\n",
       "      <th></th>\n",
       "      <th></th>\n",
       "      <th></th>\n",
       "      <th></th>\n",
       "    </tr>\n",
       "  </thead>\n",
       "  <tbody>\n",
       "    <tr>\n",
       "      <th>Hyundai i20 Active 1.4 SX</th>\n",
       "      <td>Diesel</td>\n",
       "      <td>Individual</td>\n",
       "      <td>Manual</td>\n",
       "      <td>First Owner</td>\n",
       "    </tr>\n",
       "    <tr>\n",
       "      <th>Toyota Corolla Altis JS MT</th>\n",
       "      <td>Petrol</td>\n",
       "      <td>Individual</td>\n",
       "      <td>Manual</td>\n",
       "      <td>First Owner</td>\n",
       "    </tr>\n",
       "    <tr>\n",
       "      <th>Tata Manza Club Class Quadrajet90 LS</th>\n",
       "      <td>Diesel</td>\n",
       "      <td>Individual</td>\n",
       "      <td>Manual</td>\n",
       "      <td>First Owner</td>\n",
       "    </tr>\n",
       "    <tr>\n",
       "      <th>Tata Indigo CR4</th>\n",
       "      <td>Diesel</td>\n",
       "      <td>Individual</td>\n",
       "      <td>Manual</td>\n",
       "      <td>First Owner</td>\n",
       "    </tr>\n",
       "    <tr>\n",
       "      <th>Mahindra Bolero Power Plus ZLX</th>\n",
       "      <td>Diesel</td>\n",
       "      <td>Individual</td>\n",
       "      <td>Manual</td>\n",
       "      <td>First Owner</td>\n",
       "    </tr>\n",
       "  </tbody>\n",
       "</table>\n",
       "</div>"
      ],
      "text/plain": [
       "                                        fuel seller_type transmission  \\\n",
       "name                                                                    \n",
       "Hyundai i20 Active 1.4 SX             Diesel  Individual       Manual   \n",
       "Toyota Corolla Altis JS MT            Petrol  Individual       Manual   \n",
       "Tata Manza Club Class Quadrajet90 LS  Diesel  Individual       Manual   \n",
       "Tata Indigo CR4                       Diesel  Individual       Manual   \n",
       "Mahindra Bolero Power Plus ZLX        Diesel  Individual       Manual   \n",
       "\n",
       "                                            owner  \n",
       "name                                               \n",
       "Hyundai i20 Active 1.4 SX             First Owner  \n",
       "Toyota Corolla Altis JS MT            First Owner  \n",
       "Tata Manza Club Class Quadrajet90 LS  First Owner  \n",
       "Tata Indigo CR4                       First Owner  \n",
       "Mahindra Bolero Power Plus ZLX        First Owner  "
      ]
     },
     "execution_count": 108,
     "metadata": {},
     "output_type": "execute_result"
    }
   ],
   "source": [
    "X_train_cat.head()"
   ]
  },
  {
   "cell_type": "markdown",
   "id": "924e04e5",
   "metadata": {},
   "source": [
    "### Preprocessing on Numerical Data"
   ]
  },
  {
   "cell_type": "code",
   "execution_count": 109,
   "id": "4b137b5b",
   "metadata": {},
   "outputs": [],
   "source": [
    "from sklearn.preprocessing import StandardScaler"
   ]
  },
  {
   "cell_type": "code",
   "execution_count": 110,
   "id": "f555565d",
   "metadata": {},
   "outputs": [],
   "source": [
    "scaler = StandardScaler()"
   ]
  },
  {
   "cell_type": "code",
   "execution_count": 111,
   "id": "c526ee76",
   "metadata": {},
   "outputs": [],
   "source": [
    "X_train_num_scaled = scaler.fit_transform(X_train_num)"
   ]
  },
  {
   "cell_type": "code",
   "execution_count": 112,
   "id": "c4200989",
   "metadata": {},
   "outputs": [
    {
     "data": {
      "text/plain": [
       "array([[ 0.2559592 ,  0.74734001,  0.43321151, -0.13003947, -0.08307242,\n",
       "        -0.43635222],\n",
       "       [ 0.2559592 , -0.36262845, -1.26173661,  0.65817992,  1.27772334,\n",
       "        -0.43635222],\n",
       "       [-0.25651483, -0.36262845,  0.39151236, -0.42022969, -0.08114025,\n",
       "        -0.43635222],\n",
       "       ...,\n",
       "       [-2.81888502,  0.40286704, -1.52664891,  0.06407426,  0.06239196,\n",
       "        -0.43635222],\n",
       "       [-0.51275185,  1.64679721, -0.82266901,  1.04444664,  2.46379624,\n",
       "        -1.48261443],\n",
       "       [ 1.02467026, -0.84106313, -0.49643442, -0.52022767, -0.27270055,\n",
       "        -0.43635222]])"
      ]
     },
     "execution_count": 112,
     "metadata": {},
     "output_type": "execute_result"
    }
   ],
   "source": [
    "X_train_num_scaled"
   ]
  },
  {
   "cell_type": "code",
   "execution_count": 113,
   "id": "eb77a9a3",
   "metadata": {
    "scrolled": true
   },
   "outputs": [
    {
     "data": {
      "text/plain": [
       "(5534, 6)"
      ]
     },
     "execution_count": 113,
     "metadata": {},
     "output_type": "execute_result"
    }
   ],
   "source": [
    "X_train_num_scaled.shape"
   ]
  },
  {
   "cell_type": "markdown",
   "id": "2d2cf9f6",
   "metadata": {},
   "source": [
    "### Preprocessing on categorical data"
   ]
  },
  {
   "cell_type": "code",
   "execution_count": 114,
   "id": "1325244f",
   "metadata": {},
   "outputs": [
    {
     "data": {
      "text/plain": [
       "Index(['fuel', 'seller_type', 'transmission', 'owner'], dtype='object')"
      ]
     },
     "execution_count": 114,
     "metadata": {},
     "output_type": "execute_result"
    }
   ],
   "source": [
    "X_train_cat.columns"
   ]
  },
  {
   "cell_type": "code",
   "execution_count": 115,
   "id": "5ff1375d",
   "metadata": {},
   "outputs": [],
   "source": [
    "from sklearn.preprocessing import OneHotEncoder"
   ]
  },
  {
   "cell_type": "code",
   "execution_count": 116,
   "id": "872d8255",
   "metadata": {},
   "outputs": [],
   "source": [
    "train_hot_encoder = OneHotEncoder(sparse = False)"
   ]
  },
  {
   "cell_type": "code",
   "execution_count": 117,
   "id": "7d4a892f",
   "metadata": {},
   "outputs": [],
   "source": [
    "X_train_cat_hot_encoded = train_hot_encoder.fit_transform(X_train_cat)"
   ]
  },
  {
   "cell_type": "code",
   "execution_count": 118,
   "id": "3e4bb7a8",
   "metadata": {},
   "outputs": [
    {
     "data": {
      "text/plain": [
       "[array(['CNG', 'Diesel', 'LPG', 'Petrol'], dtype=object),\n",
       " array(['Dealer', 'Individual', 'Trustmark Dealer'], dtype=object),\n",
       " array(['Automatic', 'Manual'], dtype=object),\n",
       " array(['First Owner', 'Fourth & Above Owner', 'Second Owner',\n",
       "        'Test Drive Car', 'Third Owner'], dtype=object)]"
      ]
     },
     "execution_count": 118,
     "metadata": {},
     "output_type": "execute_result"
    }
   ],
   "source": [
    "train_hot_encoder.categories_"
   ]
  },
  {
   "cell_type": "code",
   "execution_count": 119,
   "id": "8ad51d48",
   "metadata": {},
   "outputs": [
    {
     "data": {
      "text/plain": [
       "(5534, 14)"
      ]
     },
     "execution_count": 119,
     "metadata": {},
     "output_type": "execute_result"
    }
   ],
   "source": [
    "X_train_cat_hot_encoded.shape"
   ]
  },
  {
   "cell_type": "code",
   "execution_count": 120,
   "id": "e5692e87",
   "metadata": {},
   "outputs": [
    {
     "data": {
      "text/plain": [
       "array([[0., 1., 0., 0., 0., 1., 0., 0., 1., 1., 0., 0., 0., 0.],\n",
       "       [0., 0., 0., 1., 0., 1., 0., 0., 1., 1., 0., 0., 0., 0.],\n",
       "       [0., 1., 0., 0., 0., 1., 0., 0., 1., 1., 0., 0., 0., 0.],\n",
       "       [0., 1., 0., 0., 0., 1., 0., 0., 1., 1., 0., 0., 0., 0.],\n",
       "       [0., 1., 0., 0., 0., 1., 0., 0., 1., 1., 0., 0., 0., 0.]])"
      ]
     },
     "execution_count": 120,
     "metadata": {},
     "output_type": "execute_result"
    }
   ],
   "source": [
    "X_train_cat_hot_encoded[:5] "
   ]
  },
  {
   "cell_type": "code",
   "execution_count": 121,
   "id": "894d2e00",
   "metadata": {},
   "outputs": [],
   "source": [
    "X_train_final = np.c_[X_train_num_scaled, X_train_cat_hot_encoded]"
   ]
  },
  {
   "cell_type": "code",
   "execution_count": 122,
   "id": "e13ef287",
   "metadata": {},
   "outputs": [
    {
     "data": {
      "text/plain": [
       "array([[ 0.2559592 ,  0.74734001,  0.43321151, ...,  0.        ,\n",
       "         0.        ,  0.        ],\n",
       "       [ 0.2559592 , -0.36262845, -1.26173661, ...,  0.        ,\n",
       "         0.        ,  0.        ],\n",
       "       [-0.25651483, -0.36262845,  0.39151236, ...,  0.        ,\n",
       "         0.        ,  0.        ],\n",
       "       ...,\n",
       "       [-2.81888502,  0.40286704, -1.52664891, ...,  1.        ,\n",
       "         0.        ,  0.        ],\n",
       "       [-0.51275185,  1.64679721, -0.82266901, ...,  1.        ,\n",
       "         0.        ,  0.        ],\n",
       "       [ 1.02467026, -0.84106313, -0.49643442, ...,  0.        ,\n",
       "         0.        ,  0.        ]])"
      ]
     },
     "execution_count": 122,
     "metadata": {},
     "output_type": "execute_result"
    }
   ],
   "source": [
    "X_train_final"
   ]
  },
  {
   "cell_type": "code",
   "execution_count": 123,
   "id": "4beca302",
   "metadata": {},
   "outputs": [
    {
     "data": {
      "text/plain": [
       "(5534, 20)"
      ]
     },
     "execution_count": 123,
     "metadata": {},
     "output_type": "execute_result"
    }
   ],
   "source": [
    "X_train_final.shape"
   ]
  },
  {
   "cell_type": "code",
   "execution_count": 124,
   "id": "2ae91ad4",
   "metadata": {},
   "outputs": [
    {
     "name": "stdout",
     "output_type": "stream",
     "text": [
      "<class 'pandas.core.frame.DataFrame'>\n",
      "Index: 5534 entries, Hyundai i20 Active 1.4 SX to Hyundai Elite i20 Asta Option CVT BSIV\n",
      "Data columns (total 10 columns):\n",
      " #   Column        Non-Null Count  Dtype  \n",
      "---  ------        --------------  -----  \n",
      " 0   year          5534 non-null   int64  \n",
      " 1   km_driven     5534 non-null   int64  \n",
      " 2   fuel          5534 non-null   object \n",
      " 3   seller_type   5534 non-null   object \n",
      " 4   transmission  5534 non-null   object \n",
      " 5   owner         5534 non-null   object \n",
      " 6   mileage       5534 non-null   float64\n",
      " 7   engine        5534 non-null   float64\n",
      " 8   max_power     5534 non-null   float64\n",
      " 9   seats         5534 non-null   float64\n",
      "dtypes: float64(4), int64(2), object(4)\n",
      "memory usage: 475.6+ KB\n"
     ]
    }
   ],
   "source": [
    "X_train.info()"
   ]
  },
  {
   "cell_type": "markdown",
   "id": "cdd32792",
   "metadata": {},
   "source": [
    "# Preprocessing on Test Dataset"
   ]
  },
  {
   "cell_type": "code",
   "execution_count": 125,
   "id": "633a7fcc",
   "metadata": {},
   "outputs": [],
   "source": [
    "X_test_num = X_test.drop(['fuel','seller_type','transmission','owner'],axis = 1)\n",
    "X_test_cat = X_test[['fuel','seller_type','transmission','owner']]"
   ]
  },
  {
   "cell_type": "code",
   "execution_count": 126,
   "id": "d51fa5dd",
   "metadata": {},
   "outputs": [
    {
     "data": {
      "text/html": [
       "<div>\n",
       "<style scoped>\n",
       "    .dataframe tbody tr th:only-of-type {\n",
       "        vertical-align: middle;\n",
       "    }\n",
       "\n",
       "    .dataframe tbody tr th {\n",
       "        vertical-align: top;\n",
       "    }\n",
       "\n",
       "    .dataframe thead th {\n",
       "        text-align: right;\n",
       "    }\n",
       "</style>\n",
       "<table border=\"1\" class=\"dataframe\">\n",
       "  <thead>\n",
       "    <tr style=\"text-align: right;\">\n",
       "      <th></th>\n",
       "      <th>year</th>\n",
       "      <th>km_driven</th>\n",
       "      <th>mileage</th>\n",
       "      <th>engine</th>\n",
       "      <th>max_power</th>\n",
       "      <th>seats</th>\n",
       "    </tr>\n",
       "    <tr>\n",
       "      <th>name</th>\n",
       "      <th></th>\n",
       "      <th></th>\n",
       "      <th></th>\n",
       "      <th></th>\n",
       "      <th></th>\n",
       "      <th></th>\n",
       "    </tr>\n",
       "  </thead>\n",
       "  <tbody>\n",
       "    <tr>\n",
       "      <th>Maruti Swift VDI</th>\n",
       "      <td>2014</td>\n",
       "      <td>68000</td>\n",
       "      <td>22.90</td>\n",
       "      <td>1248.0</td>\n",
       "      <td>74.0</td>\n",
       "      <td>5.0</td>\n",
       "    </tr>\n",
       "    <tr>\n",
       "      <th>Maruti Swift Dzire VDI</th>\n",
       "      <td>2015</td>\n",
       "      <td>110000</td>\n",
       "      <td>26.59</td>\n",
       "      <td>1248.0</td>\n",
       "      <td>74.0</td>\n",
       "      <td>5.0</td>\n",
       "    </tr>\n",
       "    <tr>\n",
       "      <th>Tata Indica Vista TDI LX</th>\n",
       "      <td>2012</td>\n",
       "      <td>185000</td>\n",
       "      <td>19.40</td>\n",
       "      <td>1405.0</td>\n",
       "      <td>70.0</td>\n",
       "      <td>5.0</td>\n",
       "    </tr>\n",
       "    <tr>\n",
       "      <th>Toyota Corolla Altis Diesel D4DJ</th>\n",
       "      <td>2012</td>\n",
       "      <td>90000</td>\n",
       "      <td>21.43</td>\n",
       "      <td>1364.0</td>\n",
       "      <td>87.2</td>\n",
       "      <td>5.0</td>\n",
       "    </tr>\n",
       "    <tr>\n",
       "      <th>Maruti Ignis 1.2 AMT Zeta BSIV</th>\n",
       "      <td>2018</td>\n",
       "      <td>15000</td>\n",
       "      <td>20.89</td>\n",
       "      <td>1197.0</td>\n",
       "      <td>81.8</td>\n",
       "      <td>5.0</td>\n",
       "    </tr>\n",
       "  </tbody>\n",
       "</table>\n",
       "</div>"
      ],
      "text/plain": [
       "                                  year  km_driven  mileage  engine  max_power  \\\n",
       "name                                                                            \n",
       "Maruti Swift VDI                  2014      68000    22.90  1248.0       74.0   \n",
       "Maruti Swift Dzire VDI            2015     110000    26.59  1248.0       74.0   \n",
       "Tata Indica Vista TDI LX          2012     185000    19.40  1405.0       70.0   \n",
       "Toyota Corolla Altis Diesel D4DJ  2012      90000    21.43  1364.0       87.2   \n",
       "Maruti Ignis 1.2 AMT Zeta BSIV    2018      15000    20.89  1197.0       81.8   \n",
       "\n",
       "                                  seats  \n",
       "name                                     \n",
       "Maruti Swift VDI                    5.0  \n",
       "Maruti Swift Dzire VDI              5.0  \n",
       "Tata Indica Vista TDI LX            5.0  \n",
       "Toyota Corolla Altis Diesel D4DJ    5.0  \n",
       "Maruti Ignis 1.2 AMT Zeta BSIV      5.0  "
      ]
     },
     "execution_count": 126,
     "metadata": {},
     "output_type": "execute_result"
    }
   ],
   "source": [
    "X_test_num.head()"
   ]
  },
  {
   "cell_type": "code",
   "execution_count": 127,
   "id": "2b8d994f",
   "metadata": {
    "scrolled": true
   },
   "outputs": [
    {
     "data": {
      "text/html": [
       "<div>\n",
       "<style scoped>\n",
       "    .dataframe tbody tr th:only-of-type {\n",
       "        vertical-align: middle;\n",
       "    }\n",
       "\n",
       "    .dataframe tbody tr th {\n",
       "        vertical-align: top;\n",
       "    }\n",
       "\n",
       "    .dataframe thead th {\n",
       "        text-align: right;\n",
       "    }\n",
       "</style>\n",
       "<table border=\"1\" class=\"dataframe\">\n",
       "  <thead>\n",
       "    <tr style=\"text-align: right;\">\n",
       "      <th></th>\n",
       "      <th>fuel</th>\n",
       "      <th>seller_type</th>\n",
       "      <th>transmission</th>\n",
       "      <th>owner</th>\n",
       "    </tr>\n",
       "    <tr>\n",
       "      <th>name</th>\n",
       "      <th></th>\n",
       "      <th></th>\n",
       "      <th></th>\n",
       "      <th></th>\n",
       "    </tr>\n",
       "  </thead>\n",
       "  <tbody>\n",
       "    <tr>\n",
       "      <th>Maruti Swift VDI</th>\n",
       "      <td>Diesel</td>\n",
       "      <td>Dealer</td>\n",
       "      <td>Manual</td>\n",
       "      <td>First Owner</td>\n",
       "    </tr>\n",
       "    <tr>\n",
       "      <th>Maruti Swift Dzire VDI</th>\n",
       "      <td>Diesel</td>\n",
       "      <td>Individual</td>\n",
       "      <td>Manual</td>\n",
       "      <td>First Owner</td>\n",
       "    </tr>\n",
       "    <tr>\n",
       "      <th>Tata Indica Vista TDI LX</th>\n",
       "      <td>Diesel</td>\n",
       "      <td>Individual</td>\n",
       "      <td>Manual</td>\n",
       "      <td>Second Owner</td>\n",
       "    </tr>\n",
       "    <tr>\n",
       "      <th>Toyota Corolla Altis Diesel D4DJ</th>\n",
       "      <td>Diesel</td>\n",
       "      <td>Individual</td>\n",
       "      <td>Manual</td>\n",
       "      <td>Fourth &amp; Above Owner</td>\n",
       "    </tr>\n",
       "    <tr>\n",
       "      <th>Maruti Ignis 1.2 AMT Zeta BSIV</th>\n",
       "      <td>Petrol</td>\n",
       "      <td>Individual</td>\n",
       "      <td>Automatic</td>\n",
       "      <td>First Owner</td>\n",
       "    </tr>\n",
       "  </tbody>\n",
       "</table>\n",
       "</div>"
      ],
      "text/plain": [
       "                                    fuel seller_type transmission  \\\n",
       "name                                                                \n",
       "Maruti Swift VDI                  Diesel      Dealer       Manual   \n",
       "Maruti Swift Dzire VDI            Diesel  Individual       Manual   \n",
       "Tata Indica Vista TDI LX          Diesel  Individual       Manual   \n",
       "Toyota Corolla Altis Diesel D4DJ  Diesel  Individual       Manual   \n",
       "Maruti Ignis 1.2 AMT Zeta BSIV    Petrol  Individual    Automatic   \n",
       "\n",
       "                                                 owner  \n",
       "name                                                    \n",
       "Maruti Swift VDI                           First Owner  \n",
       "Maruti Swift Dzire VDI                     First Owner  \n",
       "Tata Indica Vista TDI LX                  Second Owner  \n",
       "Toyota Corolla Altis Diesel D4DJ  Fourth & Above Owner  \n",
       "Maruti Ignis 1.2 AMT Zeta BSIV             First Owner  "
      ]
     },
     "execution_count": 127,
     "metadata": {},
     "output_type": "execute_result"
    }
   ],
   "source": [
    "X_test_cat.head()"
   ]
  },
  {
   "cell_type": "markdown",
   "id": "6508f33c",
   "metadata": {},
   "source": [
    "### Preprocessing on numerical data"
   ]
  },
  {
   "cell_type": "code",
   "execution_count": 130,
   "id": "571c7bc0",
   "metadata": {},
   "outputs": [],
   "source": [
    "X_test_num_scaled = scaler.transform(X_test_num)"
   ]
  },
  {
   "cell_type": "code",
   "execution_count": 131,
   "id": "d18cfaaf",
   "metadata": {
    "scrolled": true
   },
   "outputs": [
    {
     "data": {
      "text/plain": [
       "array([[-2.77813898e-04, -1.81554809e-02,  8.52655986e-01,\n",
       "        -4.20229692e-01, -4.89655006e-01, -4.36352219e-01],\n",
       "       [ 2.55959205e-01,  7.85614782e-01,  1.75777300e+00,\n",
       "        -4.20229692e-01, -4.89655006e-01, -4.36352219e-01],\n",
       "       [-5.12751851e-01,  2.22091882e+00, -5.85609043e-03,\n",
       "        -1.12392766e-01, -6.00064398e-01, -4.36352219e-01],\n",
       "       ...,\n",
       "       [ 7.68433241e-01, -9.42051124e-01,  2.14904158e-01,\n",
       "        -5.16306185e-01, -2.13631525e-01, -4.36352219e-01],\n",
       "       [ 2.55959205e-01,  1.55111027e+00, -9.87012749e-01,\n",
       "         1.04836813e+00,  7.80053005e-01,  1.65617220e+00],\n",
       "       [ 1.02467026e+00,  2.49767940e-01,  5.65667663e-01,\n",
       "         6.99564958e-02,  4.65938284e-01, -4.36352219e-01]])"
      ]
     },
     "execution_count": 131,
     "metadata": {},
     "output_type": "execute_result"
    }
   ],
   "source": [
    "X_test_num_scaled"
   ]
  },
  {
   "cell_type": "code",
   "execution_count": 132,
   "id": "86c34d2a",
   "metadata": {},
   "outputs": [
    {
     "data": {
      "text/plain": [
       "(2372, 6)"
      ]
     },
     "execution_count": 132,
     "metadata": {},
     "output_type": "execute_result"
    }
   ],
   "source": [
    "X_test_num_scaled.shape"
   ]
  },
  {
   "cell_type": "markdown",
   "id": "81d39bb7",
   "metadata": {},
   "source": [
    "### Preprocessing on categorical data"
   ]
  },
  {
   "cell_type": "code",
   "execution_count": 133,
   "id": "1aaff4cc",
   "metadata": {},
   "outputs": [],
   "source": [
    "from sklearn.preprocessing import OneHotEncoder"
   ]
  },
  {
   "cell_type": "code",
   "execution_count": 134,
   "id": "98b567fa",
   "metadata": {},
   "outputs": [],
   "source": [
    "test_hot_encoder = OneHotEncoder(sparse = False)"
   ]
  },
  {
   "cell_type": "code",
   "execution_count": 135,
   "id": "0d598056",
   "metadata": {},
   "outputs": [],
   "source": [
    "X_test_cat_hot_encoded = test_hot_encoder.fit_transform(X_test_cat)"
   ]
  },
  {
   "cell_type": "code",
   "execution_count": 136,
   "id": "2599d548",
   "metadata": {},
   "outputs": [
    {
     "data": {
      "text/plain": [
       "(2372, 14)"
      ]
     },
     "execution_count": 136,
     "metadata": {},
     "output_type": "execute_result"
    }
   ],
   "source": [
    "X_test_cat_hot_encoded.shape"
   ]
  },
  {
   "cell_type": "code",
   "execution_count": 137,
   "id": "c53f3e96",
   "metadata": {},
   "outputs": [
    {
     "data": {
      "text/plain": [
       "[array(['CNG', 'Diesel', 'LPG', 'Petrol'], dtype=object),\n",
       " array(['Dealer', 'Individual', 'Trustmark Dealer'], dtype=object),\n",
       " array(['Automatic', 'Manual'], dtype=object),\n",
       " array(['First Owner', 'Fourth & Above Owner', 'Second Owner',\n",
       "        'Test Drive Car', 'Third Owner'], dtype=object)]"
      ]
     },
     "execution_count": 137,
     "metadata": {},
     "output_type": "execute_result"
    }
   ],
   "source": [
    "test_hot_encoder.categories_"
   ]
  },
  {
   "cell_type": "code",
   "execution_count": 138,
   "id": "8f0df8ff",
   "metadata": {},
   "outputs": [
    {
     "data": {
      "text/plain": [
       "array([[0., 1., 0., 0., 1., 0., 0., 0., 1., 1., 0., 0., 0., 0.],\n",
       "       [0., 1., 0., 0., 0., 1., 0., 0., 1., 1., 0., 0., 0., 0.],\n",
       "       [0., 1., 0., 0., 0., 1., 0., 0., 1., 0., 0., 1., 0., 0.],\n",
       "       [0., 1., 0., 0., 0., 1., 0., 0., 1., 0., 1., 0., 0., 0.],\n",
       "       [0., 0., 0., 1., 0., 1., 0., 1., 0., 1., 0., 0., 0., 0.]])"
      ]
     },
     "execution_count": 138,
     "metadata": {},
     "output_type": "execute_result"
    }
   ],
   "source": [
    "X_test_cat_hot_encoded[:5]"
   ]
  },
  {
   "cell_type": "code",
   "execution_count": 139,
   "id": "ce39867c",
   "metadata": {},
   "outputs": [],
   "source": [
    "X_test_final = np.c_[X_test_num_scaled, X_test_cat_hot_encoded]"
   ]
  },
  {
   "cell_type": "markdown",
   "id": "7ab111c2",
   "metadata": {},
   "source": [
    "## Checking the shape of both train and test set"
   ]
  },
  {
   "cell_type": "code",
   "execution_count": 140,
   "id": "dd62747b",
   "metadata": {},
   "outputs": [
    {
     "data": {
      "text/plain": [
       "(2372, 20)"
      ]
     },
     "execution_count": 140,
     "metadata": {},
     "output_type": "execute_result"
    }
   ],
   "source": [
    "X_test_final.shape"
   ]
  },
  {
   "cell_type": "code",
   "execution_count": 141,
   "id": "aa189db3",
   "metadata": {},
   "outputs": [
    {
     "data": {
      "text/plain": [
       "(5534, 20)"
      ]
     },
     "execution_count": 141,
     "metadata": {},
     "output_type": "execute_result"
    }
   ],
   "source": [
    "X_train_final.shape"
   ]
  },
  {
   "cell_type": "markdown",
   "id": "624ca885",
   "metadata": {},
   "source": [
    "# Applying the Model"
   ]
  },
  {
   "cell_type": "markdown",
   "id": "9255742d",
   "metadata": {},
   "source": [
    "# Linear Regression"
   ]
  },
  {
   "cell_type": "code",
   "execution_count": 142,
   "id": "eac36f1b",
   "metadata": {},
   "outputs": [],
   "source": [
    "from sklearn.linear_model import LinearRegression"
   ]
  },
  {
   "cell_type": "code",
   "execution_count": 143,
   "id": "27d8039e",
   "metadata": {},
   "outputs": [],
   "source": [
    "lin_reg = LinearRegression()"
   ]
  },
  {
   "cell_type": "code",
   "execution_count": 144,
   "id": "56d3caff",
   "metadata": {},
   "outputs": [
    {
     "data": {
      "text/plain": [
       "LinearRegression()"
      ]
     },
     "execution_count": 144,
     "metadata": {},
     "output_type": "execute_result"
    }
   ],
   "source": [
    "lin_reg.fit(X_train_final, y_train)"
   ]
  },
  {
   "cell_type": "code",
   "execution_count": 145,
   "id": "6c924c7d",
   "metadata": {},
   "outputs": [],
   "source": [
    "y_train_pred = lin_reg.predict(X_train_final)"
   ]
  },
  {
   "cell_type": "code",
   "execution_count": 146,
   "id": "b4351c5a",
   "metadata": {},
   "outputs": [
    {
     "data": {
      "text/plain": [
       "numpy.ndarray"
      ]
     },
     "execution_count": 146,
     "metadata": {},
     "output_type": "execute_result"
    }
   ],
   "source": [
    "type(y_train_pred)"
   ]
  },
  {
   "cell_type": "code",
   "execution_count": 147,
   "id": "162742f9",
   "metadata": {},
   "outputs": [
    {
     "data": {
      "text/plain": [
       "array([ 569863.71721819, 1163715.45831202,  572281.00705484,\n",
       "        315717.43886464,  478449.242323  ])"
      ]
     },
     "execution_count": 147,
     "metadata": {},
     "output_type": "execute_result"
    }
   ],
   "source": [
    "y_train_pred[:5]"
   ]
  },
  {
   "cell_type": "code",
   "execution_count": 148,
   "id": "5f154654",
   "metadata": {},
   "outputs": [],
   "source": [
    "from sklearn.metrics import mean_squared_error"
   ]
  },
  {
   "cell_type": "code",
   "execution_count": 149,
   "id": "46539880",
   "metadata": {},
   "outputs": [
    {
     "name": "stdout",
     "output_type": "stream",
     "text": [
      "Mean squared error: 209139228118.02\n"
     ]
    }
   ],
   "source": [
    "print(\"Mean squared error: %.2f\" % mean_squared_error(y_train, y_train_pred))"
   ]
  },
  {
   "cell_type": "code",
   "execution_count": 150,
   "id": "0c3bf7dc",
   "metadata": {},
   "outputs": [
    {
     "name": "stdout",
     "output_type": "stream",
     "text": [
      "Root Mean Squared error: 457317.43\n"
     ]
    }
   ],
   "source": [
    "#RMSE_train\n",
    "print(\"Root Mean Squared error: %.2f\" % np.sqrt(mean_squared_error(y_train, y_train_pred)))"
   ]
  },
  {
   "cell_type": "code",
   "execution_count": 151,
   "id": "a44062d7",
   "metadata": {},
   "outputs": [],
   "source": [
    "from sklearn.metrics import r2_score"
   ]
  },
  {
   "cell_type": "code",
   "execution_count": 152,
   "id": "37ee6447",
   "metadata": {},
   "outputs": [
    {
     "data": {
      "text/plain": [
       "0.6820568349130687"
      ]
     },
     "execution_count": 152,
     "metadata": {},
     "output_type": "execute_result"
    }
   ],
   "source": [
    "r2_score(y_train, y_train_pred)"
   ]
  },
  {
   "cell_type": "code",
   "execution_count": 153,
   "id": "4c10f6c2",
   "metadata": {},
   "outputs": [],
   "source": [
    "y_test_pred = lin_reg.predict(X_test_final)"
   ]
  },
  {
   "cell_type": "code",
   "execution_count": 154,
   "id": "5749331e",
   "metadata": {},
   "outputs": [
    {
     "name": "stdout",
     "output_type": "stream",
     "text": [
      "Mean squared error: 209184313585.20\n"
     ]
    }
   ],
   "source": [
    "#MSE_test = mean_squared_error(y_test, y_test_pred)\n",
    "print(\"Mean squared error: %.2f\" % mean_squared_error(y_test, y_test_pred))"
   ]
  },
  {
   "cell_type": "code",
   "execution_count": 155,
   "id": "99b574f4",
   "metadata": {},
   "outputs": [
    {
     "name": "stdout",
     "output_type": "stream",
     "text": [
      "Root Mean Squared error: 457366.72\n"
     ]
    }
   ],
   "source": [
    "#rmse_test = np.sqrt(MSE_test)\n",
    "print(\"Root Mean Squared error: %.2f\" %np.sqrt(mean_squared_error(y_test, y_test_pred)))"
   ]
  },
  {
   "cell_type": "code",
   "execution_count": 156,
   "id": "3546588d",
   "metadata": {},
   "outputs": [
    {
     "data": {
      "text/plain": [
       "0.6883529983798482"
      ]
     },
     "execution_count": 156,
     "metadata": {},
     "output_type": "execute_result"
    }
   ],
   "source": [
    "r2_score(y_test, y_test_pred)"
   ]
  },
  {
   "cell_type": "code",
   "execution_count": 157,
   "id": "0d13f0a3",
   "metadata": {},
   "outputs": [
    {
     "data": {
      "text/plain": [
       "array([ 121117.55267416,  -73092.86534928,   50729.77767081,\n",
       "         53064.68145588,  450456.84347696,  -31489.02358007,\n",
       "        -30413.80832042,  -41785.21214024,  170085.29842695,\n",
       "        -97886.27796629,  182215.64830711,  -41900.98278705,\n",
       "       -140314.66552006,  221876.96820536, -221876.96820536,\n",
       "       -448989.89767694, -406872.47471522, -501377.09445012,\n",
       "       1843802.04417499, -486562.57733272])"
      ]
     },
     "execution_count": 157,
     "metadata": {},
     "output_type": "execute_result"
    }
   ],
   "source": [
    "lin_reg.coef_"
   ]
  },
  {
   "cell_type": "code",
   "execution_count": 158,
   "id": "1248f442",
   "metadata": {},
   "outputs": [
    {
     "data": {
      "text/plain": [
       "1356644.8615844562"
      ]
     },
     "execution_count": 158,
     "metadata": {},
     "output_type": "execute_result"
    }
   ],
   "source": [
    "lin_reg.intercept_"
   ]
  },
  {
   "cell_type": "code",
   "execution_count": null,
   "id": "2315380b",
   "metadata": {},
   "outputs": [],
   "source": []
  },
  {
   "cell_type": "markdown",
   "id": "79a8aafb",
   "metadata": {},
   "source": [
    "# KNN (K-Nearest Neighbors)"
   ]
  },
  {
   "cell_type": "code",
   "execution_count": 159,
   "id": "bcc4167b",
   "metadata": {},
   "outputs": [],
   "source": [
    "from sklearn.neighbors import KNeighborsRegressor as KNR"
   ]
  },
  {
   "cell_type": "code",
   "execution_count": 160,
   "id": "4cd99919",
   "metadata": {},
   "outputs": [],
   "source": [
    "model = KNR(n_neighbors = 3)"
   ]
  },
  {
   "cell_type": "code",
   "execution_count": 161,
   "id": "94213538",
   "metadata": {},
   "outputs": [
    {
     "data": {
      "text/plain": [
       "KNeighborsRegressor(n_neighbors=3)"
      ]
     },
     "execution_count": 161,
     "metadata": {},
     "output_type": "execute_result"
    }
   ],
   "source": [
    "model.fit(X_train_final, y_train)"
   ]
  },
  {
   "cell_type": "code",
   "execution_count": 162,
   "id": "488c9362",
   "metadata": {},
   "outputs": [],
   "source": [
    "y_train_pred_KNR = model.predict(X_train_final)"
   ]
  },
  {
   "cell_type": "code",
   "execution_count": 163,
   "id": "3960ec36",
   "metadata": {
    "scrolled": true
   },
   "outputs": [
    {
     "data": {
      "text/plain": [
       "array([ 576666.66666667, 1025000.        ,  295000.        , ...,\n",
       "         90000.        , 1166666.66666667,  690000.        ])"
      ]
     },
     "execution_count": 163,
     "metadata": {},
     "output_type": "execute_result"
    }
   ],
   "source": [
    "y_train_pred_KNR"
   ]
  },
  {
   "cell_type": "code",
   "execution_count": 164,
   "id": "9282885a",
   "metadata": {},
   "outputs": [
    {
     "data": {
      "text/plain": [
       "name\n",
       "Hyundai i20 Active 1.4 SX                600000\n",
       "Toyota Corolla Altis JS MT              1100000\n",
       "Tata Manza Club Class Quadrajet90 LS     250000\n",
       "Tata Indigo CR4                          250000\n",
       "Mahindra Bolero Power Plus ZLX           740000\n",
       "Name: selling_price, dtype: int64"
      ]
     },
     "execution_count": 164,
     "metadata": {},
     "output_type": "execute_result"
    }
   ],
   "source": [
    "y_train[:5]"
   ]
  },
  {
   "cell_type": "code",
   "execution_count": null,
   "id": "0757a47c",
   "metadata": {},
   "outputs": [],
   "source": []
  },
  {
   "cell_type": "code",
   "execution_count": 165,
   "id": "3ff00180",
   "metadata": {},
   "outputs": [],
   "source": [
    "y_test_pred_KNR = model.predict(X_test_final)"
   ]
  },
  {
   "cell_type": "code",
   "execution_count": 166,
   "id": "fdc91e2a",
   "metadata": {
    "scrolled": true
   },
   "outputs": [
    {
     "data": {
      "text/plain": [
       "array([310333.        , 540000.        , 166000.        , ...,\n",
       "       523333.33333333, 845000.        , 830000.        ])"
      ]
     },
     "execution_count": 166,
     "metadata": {},
     "output_type": "execute_result"
    }
   ],
   "source": [
    "y_test_pred_KNR"
   ]
  },
  {
   "cell_type": "code",
   "execution_count": 167,
   "id": "aa2fe992",
   "metadata": {
    "scrolled": true
   },
   "outputs": [
    {
     "data": {
      "text/plain": [
       "name\n",
       "Maruti Swift VDI                    501000\n",
       "Maruti Swift Dzire VDI              440000\n",
       "Tata Indica Vista TDI LX            140000\n",
       "Toyota Corolla Altis Diesel D4DJ    476999\n",
       "Maruti Ignis 1.2 AMT Zeta BSIV      620000\n",
       "Name: selling_price, dtype: int64"
      ]
     },
     "execution_count": 167,
     "metadata": {},
     "output_type": "execute_result"
    }
   ],
   "source": [
    "y_test[:5]"
   ]
  },
  {
   "cell_type": "code",
   "execution_count": 168,
   "id": "ed15c1b2",
   "metadata": {},
   "outputs": [],
   "source": [
    "train_rmse_error_KNR = np.sqrt(mean_squared_error(y_train, y_train_pred_KNR))"
   ]
  },
  {
   "cell_type": "code",
   "execution_count": 169,
   "id": "b29e8ee2",
   "metadata": {},
   "outputs": [
    {
     "data": {
      "text/plain": [
       "132078.10589169015"
      ]
     },
     "execution_count": 169,
     "metadata": {},
     "output_type": "execute_result"
    }
   ],
   "source": [
    "train_rmse_error_KNR"
   ]
  },
  {
   "cell_type": "code",
   "execution_count": 170,
   "id": "e2e73c75",
   "metadata": {},
   "outputs": [
    {
     "data": {
      "text/plain": [
       "0.973479869501801"
      ]
     },
     "execution_count": 170,
     "metadata": {},
     "output_type": "execute_result"
    }
   ],
   "source": [
    "r2_score(y_train, y_train_pred_KNR)"
   ]
  },
  {
   "cell_type": "code",
   "execution_count": null,
   "id": "10dbcf18",
   "metadata": {},
   "outputs": [],
   "source": []
  },
  {
   "cell_type": "code",
   "execution_count": 171,
   "id": "26268e77",
   "metadata": {},
   "outputs": [],
   "source": [
    "test_rmse_error_KNR = np.sqrt(mean_squared_error(y_test, y_test_pred_KNR))"
   ]
  },
  {
   "cell_type": "code",
   "execution_count": 172,
   "id": "ed31699f",
   "metadata": {},
   "outputs": [
    {
     "data": {
      "text/plain": [
       "178898.2126779601"
      ]
     },
     "execution_count": 172,
     "metadata": {},
     "output_type": "execute_result"
    }
   ],
   "source": [
    "test_rmse_error_KNR"
   ]
  },
  {
   "cell_type": "code",
   "execution_count": 173,
   "id": "21da2fc4",
   "metadata": {},
   "outputs": [
    {
     "data": {
      "text/plain": [
       "0.9523189465628524"
      ]
     },
     "execution_count": 173,
     "metadata": {},
     "output_type": "execute_result"
    }
   ],
   "source": [
    "r2_score(y_test, y_test_pred_KNR)"
   ]
  },
  {
   "cell_type": "markdown",
   "id": "7bbbd73d",
   "metadata": {},
   "source": [
    "## Trying different value of K to check which value gives lowest RMSE"
   ]
  },
  {
   "cell_type": "code",
   "execution_count": 174,
   "id": "1fc4984f",
   "metadata": {},
   "outputs": [
    {
     "name": "stdout",
     "output_type": "stream",
     "text": [
      "RMSE value for k=  1 is: 199407.5421554312\n",
      "R2 score for value k=  1 is: 0.940759734044396\n",
      "RMSE value for k=  2 is: 199080.68471264394\n",
      "R2 score for value k=  2 is: 0.9409537813925554\n",
      "RMSE value for k=  3 is: 178898.2126779601\n",
      "R2 score for value k=  3 is: 0.9523189465628524\n",
      "RMSE value for k=  4 is: 169906.98096766943\n",
      "R2 score for value k=  4 is: 0.9569913030556201\n",
      "RMSE value for k=  5 is: 175688.26300371607\n",
      "R2 score for value k=  5 is: 0.9540146669016656\n",
      "RMSE value for k=  6 is: 184950.2457786672\n",
      "R2 score for value k=  6 is: 0.9490383284947282\n",
      "RMSE value for k=  7 is: 187317.93518368728\n",
      "R2 score for value k=  7 is: 0.9477251780458443\n",
      "RMSE value for k=  8 is: 195497.5603447771\n",
      "R2 score for value k=  8 is: 0.9430601232487578\n",
      "RMSE value for k=  9 is: 204236.9092437719\n",
      "R2 score for value k=  9 is: 0.9378555572989427\n",
      "RMSE value for k=  10 is: 206996.3017465797\n",
      "R2 score for value k=  10 is: 0.9361649781845837\n",
      "RMSE value for k=  11 is: 211276.6677648477\n",
      "R2 score for value k=  11 is: 0.933497661720268\n",
      "RMSE value for k=  12 is: 213510.2618780589\n",
      "R2 score for value k=  12 is: 0.9320841180172983\n",
      "RMSE value for k=  13 is: 215279.87998963488\n",
      "R2 score for value k=  13 is: 0.9309536502467504\n",
      "RMSE value for k=  14 is: 217509.81243188027\n",
      "R2 score for value k=  14 is: 0.9295158370902019\n",
      "RMSE value for k=  15 is: 220132.10787168142\n",
      "R2 score for value k=  15 is: 0.9278060801580877\n",
      "RMSE value for k=  16 is: 220224.8897141303\n",
      "R2 score for value k=  16 is: 0.9277452103779688\n",
      "RMSE value for k=  17 is: 222103.68070032643\n",
      "R2 score for value k=  17 is: 0.9265071058889907\n",
      "RMSE value for k=  18 is: 221414.3566743568\n",
      "R2 score for value k=  18 is: 0.9269625850805661\n",
      "RMSE value for k=  19 is: 221277.494901614\n",
      "R2 score for value k=  19 is: 0.9270528496942428\n",
      "RMSE value for k=  20 is: 221562.03865110682\n",
      "R2 score for value k=  20 is: 0.9268651215992063\n",
      "The maximum R2 score we get is 0.9569913030556201\n",
      "The minimum error we get is  169906.98096766943\n",
      "The corresponding K value is  4\n"
     ]
    }
   ],
   "source": [
    "rmse_val_list = [] #to store rmse values for different k\n",
    "r2_list = []\n",
    "\n",
    "for K in range(20):\n",
    "    K = K+1\n",
    "    model = KNR(n_neighbors = K)\n",
    "\n",
    "    model.fit(X_train_final, y_train)  #fit the model\n",
    "    y_pred = model.predict(X_test_final) #make prediction on test set\n",
    "    error = np.sqrt(mean_squared_error(y_test, y_pred)) #calculate rmse\n",
    "    r2 = r2_score(y_test, y_pred)\n",
    "    print('RMSE value for k= ' , K , 'is:', error)\n",
    "    print('R2 score for value k= ', K ,'is:', r2)\n",
    "    \n",
    "    rmse_val_list.append(error) #store rmse values\n",
    "    r2_list.append(r2)\n",
    "    \n",
    "print(\"The maximum R2 score we get is\", max(r2_list))    \n",
    "print(\"The minimum error we get is \", min(rmse_val_list))\n",
    "print(\"The corresponding K value is \", 1+rmse_val_list.index(min(rmse_val_list)))"
   ]
  },
  {
   "cell_type": "markdown",
   "id": "e7dac3ad",
   "metadata": {},
   "source": [
    "## For Test Dataset we are taking K value as the square root of Total Test Dataset and checking which K value gives lowest RMSE "
   ]
  },
  {
   "cell_type": "code",
   "execution_count": 175,
   "id": "9a19657c",
   "metadata": {},
   "outputs": [
    {
     "name": "stdout",
     "output_type": "stream",
     "text": [
      "The minimum error we get is  169906.98096766943\n",
      "The corresponding K value is  4\n"
     ]
    }
   ],
   "source": [
    "rmse_val_list = list() #to store rmse values for different k\n",
    "rmse_val_df = pd.DataFrame(columns=[\"K\",\"Error\"])\n",
    "\n",
    "iter_len = len(X_test_final)\n",
    "iter_size = round(np.sqrt(iter_len))\n",
    "\n",
    "for K in range(iter_size):\n",
    "    K = K+1\n",
    "    model = KNR(n_neighbors = K)\n",
    "\n",
    "    model.fit(X_train_final, y_train)  #fit the model\n",
    "    y_pred = model.predict(X_test_final) #make prediction on test set\n",
    "    error = np.sqrt(mean_squared_error(y_test, y_pred)) #calculate rmse\n",
    "    \n",
    "    \n",
    "    rmse_val_list.append(error) #store rmse values\n",
    "    rmse_val_df = rmse_val_df.append({'K':K,'Error':error}, ignore_index=True) # Appending the value of k and error to the dataframe\n",
    "    \n",
    "print(\"The minimum error we get is \", min(rmse_val_list))\n",
    "print(\"The corresponding K value is \", 1+rmse_val_list.index(min(rmse_val_list)))\n"
   ]
  },
  {
   "cell_type": "code",
   "execution_count": 176,
   "id": "3c1e1917",
   "metadata": {},
   "outputs": [
    {
     "data": {
      "text/html": [
       "<div>\n",
       "<style scoped>\n",
       "    .dataframe tbody tr th:only-of-type {\n",
       "        vertical-align: middle;\n",
       "    }\n",
       "\n",
       "    .dataframe tbody tr th {\n",
       "        vertical-align: top;\n",
       "    }\n",
       "\n",
       "    .dataframe thead th {\n",
       "        text-align: right;\n",
       "    }\n",
       "</style>\n",
       "<table border=\"1\" class=\"dataframe\">\n",
       "  <thead>\n",
       "    <tr style=\"text-align: right;\">\n",
       "      <th></th>\n",
       "      <th>Error</th>\n",
       "    </tr>\n",
       "    <tr>\n",
       "      <th>K</th>\n",
       "      <th></th>\n",
       "    </tr>\n",
       "  </thead>\n",
       "  <tbody>\n",
       "    <tr>\n",
       "      <th>1.0</th>\n",
       "      <td>199407.542155</td>\n",
       "    </tr>\n",
       "    <tr>\n",
       "      <th>2.0</th>\n",
       "      <td>199080.684713</td>\n",
       "    </tr>\n",
       "    <tr>\n",
       "      <th>3.0</th>\n",
       "      <td>178898.212678</td>\n",
       "    </tr>\n",
       "    <tr>\n",
       "      <th>4.0</th>\n",
       "      <td>169906.980968</td>\n",
       "    </tr>\n",
       "    <tr>\n",
       "      <th>5.0</th>\n",
       "      <td>175688.263004</td>\n",
       "    </tr>\n",
       "    <tr>\n",
       "      <th>6.0</th>\n",
       "      <td>184950.245779</td>\n",
       "    </tr>\n",
       "    <tr>\n",
       "      <th>7.0</th>\n",
       "      <td>187317.935184</td>\n",
       "    </tr>\n",
       "    <tr>\n",
       "      <th>8.0</th>\n",
       "      <td>195497.560345</td>\n",
       "    </tr>\n",
       "    <tr>\n",
       "      <th>9.0</th>\n",
       "      <td>204236.909244</td>\n",
       "    </tr>\n",
       "    <tr>\n",
       "      <th>10.0</th>\n",
       "      <td>206996.301747</td>\n",
       "    </tr>\n",
       "  </tbody>\n",
       "</table>\n",
       "</div>"
      ],
      "text/plain": [
       "              Error\n",
       "K                  \n",
       "1.0   199407.542155\n",
       "2.0   199080.684713\n",
       "3.0   178898.212678\n",
       "4.0   169906.980968\n",
       "5.0   175688.263004\n",
       "6.0   184950.245779\n",
       "7.0   187317.935184\n",
       "8.0   195497.560345\n",
       "9.0   204236.909244\n",
       "10.0  206996.301747"
      ]
     },
     "execution_count": 176,
     "metadata": {},
     "output_type": "execute_result"
    }
   ],
   "source": [
    "rmse_df = pd.DataFrame(rmse_val_df).set_index('K')\n",
    "rmse_df[:10]"
   ]
  },
  {
   "cell_type": "code",
   "execution_count": 177,
   "id": "75ff2cad",
   "metadata": {
    "scrolled": true
   },
   "outputs": [
    {
     "data": {
      "text/plain": [
       "<AxesSubplot:xlabel='K'>"
      ]
     },
     "execution_count": 177,
     "metadata": {},
     "output_type": "execute_result"
    },
    {
     "data": {
      "image/png": "[encoded data removed]",
      "text/plain": [
       "<Figure size 432x288 with 1 Axes>"
      ]
     },
     "metadata": {
      "needs_background": "light"
     },
     "output_type": "display_data"
    }
   ],
   "source": [
    "rmse_df.plot()"
   ]
  },
  {
   "cell_type": "markdown",
   "id": "b6e625e0",
   "metadata": {},
   "source": [
    "## After k=4 the error value is gradually increasing. So we will take the value of k as 4. So we can say that if any new instance has an entry to the dataset then for predicting its selling price we have to take 4 nearest neighbors"
   ]
  },
  {
   "cell_type": "code",
   "execution_count": 178,
   "id": "3c8713bc",
   "metadata": {},
   "outputs": [],
   "source": [
    "from sklearn.model_selection import cross_val_score"
   ]
  },
  {
   "cell_type": "code",
   "execution_count": 179,
   "id": "71a543b0",
   "metadata": {},
   "outputs": [],
   "source": [
    "mses_model = -cross_val_score(model, X_train_final, y_train, cv = 5, scoring = 'neg_mean_squared_error')"
   ]
  },
  {
   "cell_type": "code",
   "execution_count": 180,
   "id": "9167a0d0",
   "metadata": {},
   "outputs": [
    {
     "data": {
      "text/plain": [
       "array([1.17838997e+11, 8.32723384e+10, 6.91633843e+10, 1.14546603e+11,\n",
       "       1.10045287e+11])"
      ]
     },
     "execution_count": 180,
     "metadata": {},
     "output_type": "execute_result"
    }
   ],
   "source": [
    "mses_model"
   ]
  },
  {
   "cell_type": "markdown",
   "id": "8e976367",
   "metadata": {},
   "source": [
    "## Grid Search"
   ]
  },
  {
   "cell_type": "code",
   "execution_count": 181,
   "id": "39f9a0d1",
   "metadata": {},
   "outputs": [],
   "source": [
    "from sklearn.model_selection import GridSearchCV\n",
    "\n",
    "params = {'n_neighbors': np.arange(3,50,2),'weights':['uniform', 'distance'],'p':[1,2]}"
   ]
  },
  {
   "cell_type": "code",
   "execution_count": 182,
   "id": "49bd916d",
   "metadata": {},
   "outputs": [
    {
     "data": {
      "text/plain": [
       "GridSearchCV(cv=5, estimator=KNeighborsRegressor(n_neighbors=49),\n",
       "             param_grid={'n_neighbors': array([ 3,  5,  7,  9, 11, 13, 15, 17, 19, 21, 23, 25, 27, 29, 31, 33, 35,\n",
       "       37, 39, 41, 43, 45, 47, 49]),\n",
       "                         'p': [1, 2], 'weights': ['uniform', 'distance']})"
      ]
     },
     "execution_count": 182,
     "metadata": {},
     "output_type": "execute_result"
    }
   ],
   "source": [
    "gserach = GridSearchCV(estimator=model,param_grid=params,cv=5)\n",
    "\n",
    "gserach.fit(X_train_final,y_train)"
   ]
  },
  {
   "cell_type": "code",
   "execution_count": 183,
   "id": "deb2dd86",
   "metadata": {},
   "outputs": [
    {
     "data": {
      "text/plain": [
       "{'n_neighbors': 11, 'p': 1, 'weights': 'distance'}"
      ]
     },
     "execution_count": 183,
     "metadata": {},
     "output_type": "execute_result"
    }
   ],
   "source": [
    "gserach.best_params_"
   ]
  },
  {
   "cell_type": "code",
   "execution_count": 184,
   "id": "868f701d",
   "metadata": {},
   "outputs": [],
   "source": [
    "model_best = KNR(n_neighbors = 11,p=1,weights='distance')"
   ]
  },
  {
   "cell_type": "code",
   "execution_count": 185,
   "id": "8b26478d",
   "metadata": {},
   "outputs": [
    {
     "data": {
      "text/plain": [
       "KNeighborsRegressor(n_neighbors=11, p=1, weights='distance')"
      ]
     },
     "execution_count": 185,
     "metadata": {},
     "output_type": "execute_result"
    }
   ],
   "source": [
    "model_best.fit(X_train_final, y_train)"
   ]
  },
  {
   "cell_type": "code",
   "execution_count": 186,
   "id": "a779a863",
   "metadata": {},
   "outputs": [],
   "source": [
    "y_train_pred_KNR = model_best.predict(X_train_final)"
   ]
  },
  {
   "cell_type": "code",
   "execution_count": 187,
   "id": "b8db4440",
   "metadata": {},
   "outputs": [],
   "source": [
    "y_test_pred_KNR = model_best.predict(X_test_final)"
   ]
  },
  {
   "cell_type": "code",
   "execution_count": 190,
   "id": "913eed49",
   "metadata": {},
   "outputs": [
    {
     "data": {
      "text/plain": [
       "name\n",
       "Hyundai i20 Active 1.4 SX                  600000\n",
       "Toyota Corolla Altis JS MT                1100000\n",
       "Tata Manza Club Class Quadrajet90 LS       250000\n",
       "Tata Indigo CR4                            250000\n",
       "Mahindra Bolero Power Plus ZLX             740000\n",
       "                                           ...   \n",
       "Maruti Baleno Alpha 1.2                    711000\n",
       "Honda Brio 1.2 VX MT                       411000\n",
       "Hyundai Accent GLX                         110000\n",
       "BMW 3 Series 320d Corporate Edition        900000\n",
       "Hyundai Elite i20 Asta Option CVT BSIV     800000\n",
       "Name: selling_price, Length: 5534, dtype: int64"
      ]
     },
     "execution_count": 190,
     "metadata": {},
     "output_type": "execute_result"
    }
   ],
   "source": [
    "y_train"
   ]
  },
  {
   "cell_type": "code",
   "execution_count": 188,
   "id": "5a0052f8",
   "metadata": {},
   "outputs": [
    {
     "data": {
      "text/plain": [
       "array([ 600000., 1100000.,  250000., ...,  110000.,  900000.,  800000.])"
      ]
     },
     "execution_count": 188,
     "metadata": {},
     "output_type": "execute_result"
    }
   ],
   "source": [
    "y_train_pred_KNR"
   ]
  },
  {
   "cell_type": "code",
   "execution_count": 191,
   "id": "ecf379fd",
   "metadata": {},
   "outputs": [
    {
     "data": {
      "text/plain": [
       "name\n",
       "Maruti Swift VDI                               501000\n",
       "Maruti Swift Dzire VDI                         440000\n",
       "Tata Indica Vista TDI LX                       140000\n",
       "Toyota Corolla Altis Diesel D4DJ               476999\n",
       "Maruti Ignis 1.2 AMT Zeta BSIV                 620000\n",
       "                                                ...  \n",
       "Hyundai EON Era Plus                           220000\n",
       "Chevrolet Beat Diesel LT                       175000\n",
       "Tata Tigor 1.2 Revotron XZA                    525000\n",
       "Mahindra Scorpio 1.99 S4 Plus                  650000\n",
       "Volkswagen Ameo 1.5 TDI Highline Plus 16 AT    650000\n",
       "Name: selling_price, Length: 2372, dtype: int64"
      ]
     },
     "execution_count": 191,
     "metadata": {},
     "output_type": "execute_result"
    }
   ],
   "source": [
    "y_test"
   ]
  },
  {
   "cell_type": "code",
   "execution_count": 189,
   "id": "b3de7d2e",
   "metadata": {},
   "outputs": [
    {
     "data": {
      "text/plain": [
       "array([438605.29040984, 510000.        , 223454.11555361, ...,\n",
       "       525000.        , 846901.13586791, 913072.84681895])"
      ]
     },
     "execution_count": 189,
     "metadata": {},
     "output_type": "execute_result"
    }
   ],
   "source": [
    "y_test_pred_KNR"
   ]
  },
  {
   "cell_type": "markdown",
   "id": "5ede159f",
   "metadata": {},
   "source": [
    "## Checking the error and R2 score for test dataset with the parameter after grid search"
   ]
  },
  {
   "cell_type": "code",
   "execution_count": 192,
   "id": "2cb36e41",
   "metadata": {},
   "outputs": [
    {
     "data": {
      "text/plain": [
       "0.961901910705965"
      ]
     },
     "execution_count": 192,
     "metadata": {},
     "output_type": "execute_result"
    }
   ],
   "source": [
    "r2_score(y_test,y_test_pred_KNR)"
   ]
  },
  {
   "cell_type": "code",
   "execution_count": 194,
   "id": "ba3c5001",
   "metadata": {},
   "outputs": [
    {
     "data": {
      "text/plain": [
       "159913.33419382235"
      ]
     },
     "execution_count": 194,
     "metadata": {},
     "output_type": "execute_result"
    }
   ],
   "source": [
    "np.sqrt(mean_squared_error(y_test, y_test_pred_KNR))"
   ]
  },
  {
   "cell_type": "markdown",
   "id": "92f456ff",
   "metadata": {},
   "source": [
    "## After Grid Search we got the k value as 11 as the best parameter for which the root mean squared error reduced from 169906.98 to 159913.33. \n",
    "## Changing K value from 4 to 11 gave a low error as well as it also explained the variability of the data a bit better(from 95.69 to 96.19) than the previous k(=4) value. But the change is very minor. So before changing k value we may need to take the opinion from any domain expert. But preferably keeping k value fixed at 4 is good here also as for any new instance this model can explain its price with the mean price of its nearest 4 neighbours taking the distance metric as manhattan distance into consideration as per the best parameters of grid search."
   ]
  },
  {
   "cell_type": "code",
   "execution_count": null,
   "id": "337def63",
   "metadata": {},
   "outputs": [],
   "source": []
  }
 ],
 "metadata": {
  "kernelspec": {
   "display_name": "Python 3",
   "language": "python",
   "name": "python3"
  },
  "language_info": {
   "codemirror_mode": {
    "name": "ipython",
    "version": 3
   },
   "file_extension": ".py",
   "mimetype": "text/x-python",
   "name": "python",
   "nbconvert_exporter": "python",
   "pygments_lexer": "ipython3",
   "version": "3.8.8"
  }
 },
 "nbformat": 4,
 "nbformat_minor": 5
}
